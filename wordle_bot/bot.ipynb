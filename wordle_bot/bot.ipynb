{
 "cells": [
  {
   "cell_type": "markdown",
   "id": "c0718c2f",
   "metadata": {},
   "source": [
    "# Wordle Bot\n",
    "Automatyzacja gry w Wordle po angielsku (`https://wordly.org`). "
   ]
  },
  {
   "cell_type": "code",
   "execution_count": 38,
   "id": "c6a6f4fd",
   "metadata": {},
   "outputs": [],
   "source": [
    "import selenium as se\n",
    "from selenium import webdriver\n",
    "from selenium.webdriver.common.by import By\n",
    "from selenium.webdriver.common.keys import Keys\n",
    "from pandas import DataFrame, read_csv\n",
    "import numpy as np"
   ]
  },
  {
   "cell_type": "code",
   "execution_count": 147,
   "id": "76ba222d",
   "metadata": {},
   "outputs": [],
   "source": [
    "driver=webdriver.Firefox()\n",
    "driver.get(\"https://wordly.org\")"
   ]
  },
  {
   "cell_type": "markdown",
   "id": "29018ffc",
   "metadata": {},
   "source": [
    "Pozbycie się okienka odnośnie zbierania danych"
   ]
  },
  {
   "cell_type": "code",
   "execution_count": 148,
   "id": "79793aa2",
   "metadata": {},
   "outputs": [],
   "source": [
    "manage_option=driver.find_element(by=By.CLASS_NAME, value=\"fc-cta-manage-options\")\n",
    "manage_option.click()\n",
    "confirm_choices=driver.find_element(by=By.CLASS_NAME, value=\"fc-confirm-choices\")\n",
    "confirm_choices.click()\n",
    "#TODO:\n",
    "# - dodać odrzucenie wyborów\n"
   ]
  },
  {
   "cell_type": "markdown",
   "id": "c1db0d2f",
   "metadata": {},
   "source": [
    "Załadowanie listy słów"
   ]
  },
  {
   "cell_type": "code",
   "execution_count": 149,
   "id": "e380d135",
   "metadata": {},
   "outputs": [
    {
     "name": "stdout",
     "output_type": "stream",
     "text": [
      "['abase' 'abate' 'abbey' ... 'zebra' 'zesty' 'zonal']\n",
      "2314\n"
     ]
    }
   ],
   "source": [
    "word_list=read_csv(\"./word-bank.csv\")\n",
    "word_list=word_list.values.flatten()\n",
    "print(word_list)\n",
    "print(len(word_list))"
   ]
  },
  {
   "cell_type": "markdown",
   "id": "087b0e41",
   "metadata": {},
   "source": [
    "# Strategia początkowa - CRANE"
   ]
  },
  {
   "cell_type": "code",
   "execution_count": 150,
   "id": "a462ec54",
   "metadata": {},
   "outputs": [],
   "source": [
    "turn=0"
   ]
  },
  {
   "cell_type": "markdown",
   "id": "19e89ef4",
   "metadata": {},
   "source": [
    "Wpisanie słowa"
   ]
  },
  {
   "cell_type": "code",
   "execution_count": 167,
   "id": "d77567c1",
   "metadata": {},
   "outputs": [
    {
     "name": "stdout",
     "output_type": "stream",
     "text": [
      "o\n",
      "{'x': 823.3333129882812, 'y': 460.0, 'width': 54.0, 'height': 46.0}\n",
      "p\n",
      "{'x': 883.3333129882812, 'y': 460.0, 'width': 54.0, 'height': 46.0}\n",
      "i\n",
      "{'x': 763.3333129882812, 'y': 460.0, 'width': 54.0, 'height': 46.0}\n",
      "u\n",
      "{'x': 703.3333129882812, 'y': 460.0, 'width': 54.0, 'height': 46.0}\n",
      "m\n",
      "{'x': 786.9666748046875, 'y': 564.0, 'width': 51.45001220703125, 'height': 46.0}\n"
     ]
    }
   ],
   "source": [
    "new_list=[\"crane\"]\n",
    "input_word=word_list[0]\n",
    "keyboard=driver.find_element(by=By.CLASS_NAME, value=\"Game-keyboard\")\n",
    "letter_buttons=keyboard.find_elements(by=By.CLASS_NAME, value=\"Game-keyboard-button\")\n",
    "enter_button=None\n",
    "for button in letter_buttons:\n",
    "    if button.text==\"Enter\":\n",
    "        enter_button=button\n",
    "if enter_button is None:\n",
    "    raise ValueError\n",
    "for letter in input_word:\n",
    "    print(letter)\n",
    "    for button in letter_buttons:\n",
    "        if button.text.lower()==letter:\n",
    "            print(button.rect)\n",
    "            button.click()\n",
    "enter_button.click()\n"
   ]
  },
  {
   "cell_type": "markdown",
   "id": "f759f989",
   "metadata": {},
   "source": [
    "Przechwycenie wyniku"
   ]
  },
  {
   "cell_type": "code",
   "execution_count": 164,
   "id": "b69ba684",
   "metadata": {},
   "outputs": [
    {
     "name": "stdout",
     "output_type": "stream",
     "text": [
      "{'x': 340.33331298828125, 'y': 241.0, 'width': 600.0, 'height': 62.0}\n",
      "[('f', 0), ('o', 1), ('i', 2), ('s', 0), ('t', 0)]\n"
     ]
    }
   ],
   "source": [
    "placement_value={\n",
    "    \"letter-absent\":0,\n",
    "    \"letter-elsewhere\":1,\n",
    "    \"letter-correct\":2\n",
    "}\n",
    "rows=driver.find_element(by=By.CLASS_NAME,value=\"game_rows\").find_elements(by=By.CLASS_NAME,value=\"Row\")\n",
    "print(rows[turn].rect)\n",
    "info=[]\n",
    "row_letters=rows[turn].find_elements(by=By.CLASS_NAME,value=\"Row-letter\")\n",
    "for row_letter in row_letters:\n",
    "    letter=row_letter.text.lower()\n",
    "    placement_class=row_letter.get_attribute(\"class\").split(\" \")[1]\n",
    "    info.append((letter,placement_value[placement_class]))\n",
    "print(info)\n",
    "\n",
    "    \n",
    "    \n"
   ]
  },
  {
   "cell_type": "markdown",
   "id": "e20819e5",
   "metadata": {},
   "source": [
    "Filtrowanie listy słów\n",
    "TODO:\n",
    "- filtracja listy słów\n",
    "- sprawdzenie czy jest koniec gry (div class=\"message\")"
   ]
  },
  {
   "cell_type": "code",
   "execution_count": 165,
   "id": "5907a163",
   "metadata": {},
   "outputs": [],
   "source": [
    "def is_word_correct(word:str,info_list:list[tuple[str,int]])->bool:\n",
    "    for index,i in enumerate(info_list):\n",
    "        if i[1]==0:\n",
    "            for char in word:\n",
    "                if char==i[0].lower():\n",
    "                    return False\n",
    "        elif i[1]==1:\n",
    "            res=False\n",
    "            for j,char in enumerate(word):\n",
    "                if index==j and char==i[0].lower():\n",
    "                    return False\n",
    "                if index!=j and char==i[0].lower():\n",
    "                    res=True\n",
    "            if not res:\n",
    "                return False\n",
    "        else:\n",
    "            if word[index]!=i[0].lower():\n",
    "                return False\n",
    "    return True\n",
    "                \n",
    "            "
   ]
  },
  {
   "cell_type": "code",
   "execution_count": 166,
   "id": "f62897e9",
   "metadata": {},
   "outputs": [
    {
     "name": "stdout",
     "output_type": "stream",
     "text": [
      "[np.str_('opium')]\n",
      "1\n"
     ]
    }
   ],
   "source": [
    "new_list=[]\n",
    "for word in word_list:\n",
    "    if is_word_correct(word,info):\n",
    "        new_list.append(word)\n",
    "word_list=np.array(new_list)\n",
    "print(new_list)\n",
    "print(len(new_list))\n",
    "turn+=1\n"
   ]
  },
  {
   "cell_type": "markdown",
   "id": "1ce8e5b0",
   "metadata": {},
   "source": [
    "powtarzamy aż zwyciężymy"
   ]
  },
  {
   "cell_type": "code",
   "execution_count": null,
   "id": "5fc17479",
   "metadata": {},
   "outputs": [],
   "source": []
  }
 ],
 "metadata": {
  "kernelspec": {
   "display_name": "Python 3",
   "language": "python",
   "name": "python3"
  },
  "language_info": {
   "codemirror_mode": {
    "name": "ipython",
    "version": 3
   },
   "file_extension": ".py",
   "mimetype": "text/x-python",
   "name": "python",
   "nbconvert_exporter": "python",
   "pygments_lexer": "ipython3",
   "version": "3.12.9"
  }
 },
 "nbformat": 4,
 "nbformat_minor": 5
}
