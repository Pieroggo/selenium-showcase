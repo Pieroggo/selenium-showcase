{
 "cells": [
  {
   "cell_type": "markdown",
   "id": "c0718c2f",
   "metadata": {},
   "source": [
    "# Wordle Bot\n",
    "Automatyzacja gry w Wordle po angielsku (`https://wordly.org`). "
   ]
  },
  {
   "cell_type": "code",
   "execution_count": 1,
   "id": "c6a6f4fd",
   "metadata": {},
   "outputs": [],
   "source": [
    "import selenium as se\n",
    "from selenium import webdriver\n",
    "from selenium.webdriver.common.by import By\n",
    "from selenium.webdriver.common.keys import Keys\n",
    "from pandas import DataFrame, read_csv\n",
    "import numpy as np\n",
    "from collections import Counter\n",
    "import random"
   ]
  },
  {
   "cell_type": "code",
   "execution_count": 2,
   "id": "76ba222d",
   "metadata": {},
   "outputs": [],
   "source": [
    "driver=webdriver.Firefox()\n",
    "driver.get(\"https://wordly.org\")"
   ]
  },
  {
   "cell_type": "markdown",
   "id": "29018ffc",
   "metadata": {},
   "source": [
    "Pozbycie się okienka odnośnie zbierania danych"
   ]
  },
  {
   "cell_type": "code",
   "execution_count": 3,
   "id": "79793aa2",
   "metadata": {},
   "outputs": [],
   "source": [
    "manage_option=driver.find_element(by=By.CLASS_NAME, value=\"fc-cta-manage-options\")\n",
    "manage_option.click()\n",
    "confirm_choices=driver.find_element(by=By.CLASS_NAME, value=\"fc-confirm-choices\")\n",
    "confirm_choices.click()\n",
    "#TODO:\n",
    "# - dodać odrzucenie wyborów\n"
   ]
  },
  {
   "cell_type": "code",
   "execution_count": 6,
   "id": "e062c99e",
   "metadata": {},
   "outputs": [
    {
     "name": "stdout",
     "output_type": "stream",
     "text": [
      "None\n"
     ]
    }
   ],
   "source": [
    "def filter_words(word,info_list)->bool:\n",
    "    ...\n",
    "\n",
    "print(filter_words(\"diddy\",[(\"q\",0),(\"\")]))"
   ]
  },
  {
   "cell_type": "code",
   "execution_count": 4,
   "id": "5907a163",
   "metadata": {},
   "outputs": [],
   "source": [
    "def is_word_correct(word:str,info_list:list[tuple[str,int]])->bool:\n",
    "    for index,i in enumerate(info_list):\n",
    "        if i[1]==0:\n",
    "            char_num=0\n",
    "            for inf in info_list:\n",
    "                if inf[0]==i[0] and inf[1]!=0:\n",
    "                    char_num+=1\n",
    "            for char in word:\n",
    "                if word.count(i[0])<=char_num:\n",
    "                    if char==i[0].lower():\n",
    "                        return False\n",
    "                else:\n",
    "                    return False\n",
    "                \n",
    "        elif i[1]==1:\n",
    "            res=False\n",
    "            for j,char in enumerate(word):\n",
    "                if index==j and char==i[0].lower():\n",
    "                    return False\n",
    "                if index!=j and char==i[0].lower():\n",
    "                    res=True\n",
    "            if not res:\n",
    "                return False\n",
    "        else:\n",
    "            if word[index]!=i[0].lower():\n",
    "                return False\n",
    "    return True\n",
    "                \n",
    "#TODO:\n",
    "# uwzględnij duplikaty w literach"
   ]
  },
  {
   "cell_type": "markdown",
   "id": "087b0e41",
   "metadata": {},
   "source": [
    "# Strategia początkowa - CRANE"
   ]
  },
  {
   "cell_type": "code",
   "execution_count": 5,
   "id": "a462ec54",
   "metadata": {},
   "outputs": [],
   "source": [
    "turn=0\n",
    "word_list=[\"crane\"]"
   ]
  },
  {
   "cell_type": "markdown",
   "id": "19e89ef4",
   "metadata": {},
   "source": [
    "Wpisanie słowa"
   ]
  },
  {
   "cell_type": "code",
   "execution_count": 17,
   "id": "d77567c1",
   "metadata": {},
   "outputs": [
    {
     "name": "stdout",
     "output_type": "stream",
     "text": [
      "r\n",
      "{'x': 223.5, 'y': 416.0, 'width': 54.0, 'height': 46.0}\n",
      "i\n",
      "{'x': 463.5, 'y': 416.0, 'width': 54.0, 'height': 46.0}\n",
      "n\n",
      "{'x': 429.683349609375, 'y': 520.0, 'width': 51.44999694824219, 'height': 46.0}\n",
      "s\n",
      "{'x': 110.16667175292967, 'y': 468.0, 'width': 60.666656494140625, 'height': 46.0}\n",
      "e\n",
      "{'x': 163.5, 'y': 416.0, 'width': 54.0, 'height': 46.0}\n"
     ]
    }
   ],
   "source": [
    "input_word=random.choice(word_list)\n",
    "keyboard=driver.find_element(by=By.CLASS_NAME, value=\"Game-keyboard\")\n",
    "letter_buttons=keyboard.find_elements(by=By.CLASS_NAME, value=\"Game-keyboard-button\")\n",
    "enter_button=None\n",
    "for button in letter_buttons:\n",
    "    if button.text==\"Enter\":\n",
    "        enter_button=button\n",
    "if enter_button is None:\n",
    "    raise ValueError\n",
    "for letter in input_word:\n",
    "    print(letter)\n",
    "    for button in letter_buttons:\n",
    "        if button.text.lower()==letter:\n",
    "            print(button.rect)\n",
    "            button.click()\n",
    "enter_button.click()\n"
   ]
  },
  {
   "cell_type": "markdown",
   "id": "f759f989",
   "metadata": {},
   "source": [
    "Przechwycenie wyniku"
   ]
  },
  {
   "cell_type": "code",
   "execution_count": 12,
   "id": "b69ba684",
   "metadata": {},
   "outputs": [
    {
     "name": "stdout",
     "output_type": "stream",
     "text": [
      "2\n",
      "1\n",
      "Row-letter letter-elsewhere\n",
      "{'x': 208.5, 'y': 112.0, 'width': 48.0, 'height': 48.0}\n",
      "Row-letter letter-elsewhere\n",
      "[('n', 1)]\n",
      "{'x': 262.5, 'y': 112.0, 'width': 48.0, 'height': 48.0}\n",
      "Row-letter letter-absent\n",
      "[('n', 1), ('u', 0)]\n",
      "{'x': 316.5, 'y': 112.0, 'width': 48.0, 'height': 48.0}\n",
      "Row-letter letter-elsewhere\n",
      "[('n', 1), ('u', 0), ('r', 1)]\n",
      "{'x': 370.5, 'y': 112.0, 'width': 48.0, 'height': 48.0}\n",
      "Row-letter letter-correct\n",
      "[('n', 1), ('u', 0), ('r', 1), ('s', 2)]\n",
      "{'x': 424.5, 'y': 112.0, 'width': 48.0, 'height': 48.0}\n",
      "Row-letter letter-correct\n",
      "[('n', 1), ('u', 0), ('r', 1), ('s', 2), ('e', 2)]\n",
      "[('n', 1), ('u', 0), ('r', 1), ('s', 2), ('e', 2)]\n"
     ]
    }
   ],
   "source": [
    "placement_value={\n",
    "    \"letter-absent\":0,\n",
    "    \"letter-elsewhere\":1,\n",
    "    \"letter-correct\":2\n",
    "}\n",
    "rows=driver.find_element(by=By.CLASS_NAME,value=\"game_rows\").find_elements(by=By.CLASS_NAME,value=\"Row-locked-in\")\n",
    "print(len(rows))\n",
    "info=[]\n",
    "print(turn)\n",
    "row_letters=rows[turn].find_elements(by=By.CLASS_NAME,value=\"Row-letter\")\n",
    "print(row_letters[0].get_attribute(\"class\"))\n",
    "for row_letter in row_letters:\n",
    "    print(row_letter.rect)\n",
    "    print(row_letter.get_attribute(\"class\"))\n",
    "    letter=row_letter.text.lower()\n",
    "    placement_class=row_letter.get_attribute(\"class\").split(\" \")[1]\n",
    "    info.append((letter,placement_value[placement_class]))\n",
    "    print(info)\n",
    "print(info)\n",
    "\n",
    "    \n",
    "    \n"
   ]
  },
  {
   "cell_type": "markdown",
   "id": "48d421aa",
   "metadata": {},
   "source": [
    "Załadowanie listy słów"
   ]
  },
  {
   "cell_type": "code",
   "execution_count": 13,
   "id": "e380d135",
   "metadata": {},
   "outputs": [],
   "source": [
    "if turn==0:\n",
    "    word_list=read_csv(\"./word-bank.csv\") \n",
    "    word_list=word_list.values.flatten()\n",
    "    print(word_list)\n",
    "    print(len(word_list))\n",
    "    # valid words ma więcej liter, sprawdzić czy word bank styknie "
   ]
  },
  {
   "cell_type": "markdown",
   "id": "b078abd0",
   "metadata": {},
   "source": [
    "Filtracja listy słów"
   ]
  },
  {
   "cell_type": "code",
   "execution_count": 14,
   "id": "f62897e9",
   "metadata": {},
   "outputs": [
    {
     "name": "stdout",
     "output_type": "stream",
     "text": [
      "[np.str_('rinse')]\n",
      "1\n"
     ]
    }
   ],
   "source": [
    "new_list=[]\n",
    "for word in word_list:\n",
    "    if is_word_correct(word,info):\n",
    "        new_list.append(word)\n",
    "word_list=np.array(new_list)\n",
    "print(new_list)\n",
    "print(len(new_list))\n"
   ]
  },
  {
   "cell_type": "markdown",
   "id": "94ab9e39",
   "metadata": {},
   "source": [
    "Następna tura"
   ]
  },
  {
   "cell_type": "code",
   "execution_count": 15,
   "id": "988dd5af",
   "metadata": {},
   "outputs": [],
   "source": [
    "turn+=1"
   ]
  },
  {
   "cell_type": "markdown",
   "id": "1ce8e5b0",
   "metadata": {},
   "source": [
    "powtarzamy aż zwyciężymy"
   ]
  },
  {
   "cell_type": "code",
   "execution_count": null,
   "id": "19a5be6f",
   "metadata": {},
   "outputs": [],
   "source": []
  }
 ],
 "metadata": {
  "kernelspec": {
   "display_name": ".venv",
   "language": "python",
   "name": "python3"
  },
  "language_info": {
   "codemirror_mode": {
    "name": "ipython",
    "version": 3
   },
   "file_extension": ".py",
   "mimetype": "text/x-python",
   "name": "python",
   "nbconvert_exporter": "python",
   "pygments_lexer": "ipython3",
   "version": "3.12.3"
  }
 },
 "nbformat": 4,
 "nbformat_minor": 5
}
