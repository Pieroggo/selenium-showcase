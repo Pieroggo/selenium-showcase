{
 "cells": [
  {
   "cell_type": "markdown",
   "metadata": {},
   "source": [
    "# Przykładowy test aplikacji Misty Horizon, przeprowadzony za pomocą Selenium"
   ]
  },
  {
   "cell_type": "markdown",
   "metadata": {},
   "source": [
    "## Import bibliotek\n",
    "Importujemy wymagane moduły z Selenium i inne pomocnicze biblioteki."
   ]
  },
  {
   "cell_type": "code",
   "execution_count": 1,
   "metadata": {},
   "outputs": [],
   "source": [
    "import time\n",
    "from selenium import webdriver\n",
    "from selenium.webdriver.common.by import By\n",
    "from selenium.webdriver.support.ui import WebDriverWait\n",
    "from selenium.webdriver.support import expected_conditions as EC\n"
   ]
  },
  {
   "cell_type": "markdown",
   "metadata": {},
   "source": [
    "## Klasa `Browser`\n",
    "Zawiera metody do sterowania przeglądarką, wypełniania formularzy, klikania w przyciski, itd."
   ]
  },
  {
   "cell_type": "code",
   "execution_count": 7,
   "metadata": {},
   "outputs": [],
   "source": [
    "class Browser:\n",
    "    \n",
    "    browser = None\n",
    "\n",
    "    def __init__(self): # ANCHOR konstruktor ustawia sterownik przeglądarki na Firefox\n",
    "        self.browser = webdriver.Firefox()\n",
    "\n",
    "    def openPage(self, url: str): # ANCHOR funkcja otwierająca stronę z zadanego url\n",
    "        self.browser.get(url)\n",
    "\n",
    "        print(f\"Page: {url}\")\n",
    "\n",
    "    def closeBrowser(self): # ANCHOR funkcja zamykająca przeglądarkę\n",
    "        self.browser.close()\n",
    "\n",
    "        print(f\"Browser closed\")\n",
    "\n",
    "    def addInput(self, by: By, value: str, text: str, parent_by = '', parent_val = ''): # ANCHOR funkcja wpisująca dane do pola input\n",
    "        if parent_by != '' and parent_val != '':                                         \n",
    "            parent_elem = self.browser.find_element(by=parent_by, value=parent_val)\n",
    "            field = WebDriverWait(parent_elem, 10).until(EC.element_to_be_clickable((by, value)))\n",
    "        else:\n",
    "            field = WebDriverWait(self.browser, 10).until(EC.element_to_be_clickable((by, value)))\n",
    "        field.send_keys(text)\n",
    "\n",
    "        print(f\"New input data entered: {text}\")\n",
    "        print()\n",
    "\n",
    "    def clickButton(self, by: By, value: str, parent_by = '', parent_val = ''): # ANCHOR funkcja klikająca w określony przycisk\n",
    "        if parent_by != '' and parent_val != '':\n",
    "            parent_elem = self.browser.find_element(by=parent_by, value=parent_val)\n",
    "            button = WebDriverWait(parent_elem, 10).until(EC.element_to_be_clickable((by, value)))\n",
    "        else:\n",
    "            button = WebDriverWait(self.browser, 10).until(EC.element_to_be_clickable((by, value)))\n",
    "        button.click()\n",
    "\n",
    "        print(f\"Button clicked: {button.text}\")\n",
    "        print()\n",
    "\n",
    "    def login(self, login, password): # ANCHOR funkcja logująca do aplikacji Misty Horizon\n",
    "        self.addInput(by=By.TAG_NAME, value='input', text=login)\n",
    "        self.addInput(by=By.CSS_SELECTOR, value='input[type=\"password\"]', text=password)\n",
    "        \n",
    "        self.clickButton(by=By.TAG_NAME, value='button', parent_by=By.TAG_NAME, parent_val='form')\n",
    "\n",
    "    def testAppMenu(self): # ANCHOR funkcja przechodząca przez menu aplikacji webowej Misty Horizon i testująca działanie funkcjonalności\n",
    "        side_bar = WebDriverWait(self.browser, 10).until(EC.visibility_of_element_located((By.CSS_SELECTOR, 'div[data-slot=\"tabWrapper\"]')))\n",
    "        menu = side_bar.find_element(By.TAG_NAME, 'div')\n",
    "        menu_buttons = menu.find_elements(By.TAG_NAME, 'button')\n",
    "        \n",
    "        for button in menu_buttons:\n",
    "            button.click()\n",
    "\n",
    "            side_bar = WebDriverWait(self.browser, 10).until(EC.visibility_of_element_located((By.CSS_SELECTOR, 'div[data-slot=\"tabWrapper\"]')))\n",
    "            section_title = side_bar.find_element(By.TAG_NAME, 'h1').text\n",
    "\n",
    "            time.sleep(1)\n",
    "\n",
    "            if section_title:\n",
    "                print()\n",
    "                print(f\"Current section: {section_title}\")\n",
    "\n",
    "            if \"statistics\" in section_title.lower():\n",
    "                self.getStatistics()\n",
    "            elif \"intresting spots\" in section_title.lower():\n",
    "                self.getSpots()\n",
    "            elif \"friend requests\" in section_title.lower():\n",
    "                self.getFriendRequests()\n",
    "            elif \"friends\" in section_title.lower():\n",
    "                self.getFriends()\n",
    "\n",
    "            time.sleep(1)\n",
    "\n",
    "            print()\n",
    "            print(f\"Selected next button in menu\")\n",
    "\n",
    "    def getStatistics(self): # ANCHOR funkcja pobierająca dane z sekcji statystyk\n",
    "        side_bar = WebDriverWait(self.browser, 10).until(EC.visibility_of_element_located((By.CSS_SELECTOR, 'div[data-slot=\"tabWrapper\"]')))\n",
    "        stat_list = side_bar.find_element(By.TAG_NAME, 'ul')\n",
    "        stats = stat_list.find_elements(By.TAG_NAME, 'li')\n",
    "\n",
    "        for i, stat in enumerate(stats):\n",
    "            print(f\"Stat {i+1}: {stat.text}\")\n",
    "\n",
    "    def getSpots(self): # ANCHOR funkcja pobierająca dane z sekcji spotów i przechodząca przez nie\n",
    "        side_bar = WebDriverWait(self.browser, 10).until(EC.visibility_of_element_located((By.CSS_SELECTOR, 'div[data-slot=\"tabWrapper\"]')))\n",
    "        spot_list = side_bar.find_element(By.TAG_NAME, 'ul')\n",
    "        spots = spot_list.find_elements(By.TAG_NAME, 'button')\n",
    "\n",
    "        print(f\"Total number of spots: {len(spots)}\")\n",
    "\n",
    "        for i, spot in enumerate(spots):\n",
    "            spot.click()\n",
    "            \n",
    "            spot_title = spot.find_element(By.TAG_NAME, 'h3').text\n",
    "            spot_desc = spot.find_element(By.TAG_NAME, 'span').text\n",
    "            spot_photo = spot.find_element(By.TAG_NAME, 'img').get_attribute('src')\n",
    "\n",
    "            print(f\"Spot: {i+1}\")\n",
    "            print(f\"Spot title:\\n{spot_title}\")\n",
    "            print(f\"Spot desc:\\n{spot_desc}\")\n",
    "            print(f\"Spot photo:\\n{spot_photo}\")\n",
    "            print()\n",
    "\n",
    "            time.sleep(5)\n",
    "\n",
    "    def getFriends(self): # ANCHOR funkcja pobierająca dane z sekcji znajomych\n",
    "        side_bar = WebDriverWait(self.browser, 10).until(EC.visibility_of_element_located((By.CSS_SELECTOR, 'div[data-slot=\"tabWrapper\"]')))\n",
    "        friend_list = side_bar.find_element(By.TAG_NAME, 'ul')\n",
    "        friends = friend_list.find_elements(By.TAG_NAME, 'li')\n",
    "\n",
    "        for i, friend in enumerate(friends):\n",
    "            print(f\"Friend {i+1}:\\n{friend.text}\")\n",
    "\n",
    "    def getFriendRequests(self): # ANCHOR funkcja pobierająca dane z sekcji zaproszeń do znajomych\n",
    "        side_bar = WebDriverWait(self.browser, 10).until(EC.visibility_of_element_located((By.CSS_SELECTOR, 'div[data-slot=\"tabWrapper\"]')))\n",
    "\n",
    "        if \"No friend requests\" in side_bar.text:\n",
    "            print(f\"No friend requests!\")\n",
    "        else:\n",
    "            friend_list = side_bar.find_element(By.TAG_NAME, 'ul')\n",
    "            friends = friend_list.find_elements(By.TAG_NAME, 'li')\n",
    "\n",
    "            for i, friend in enumerate(friends):\n",
    "                print(f\"Friend {i+1}:\\n{friend.text}\")"
   ]
  },
  {
   "cell_type": "markdown",
   "metadata": {},
   "source": [
    "## Inicjalizacja i testowanie aplikacji Misty Horizon\n",
    "Tworzymy instancję klasy `Browser`, logujemy się do aplikacji i testujemy menu."
   ]
  },
  {
   "cell_type": "code",
   "execution_count": 9,
   "metadata": {},
   "outputs": [
    {
     "name": "stdout",
     "output_type": "stream",
     "text": [
      "Page: https://mapownik-testbase.web.app/login\n"
     ]
    }
   ],
   "source": [
    "robot = Browser()  # NOTE tworzenie robota przeglądarkowego\n",
    "robot.openPage('https://mapownik-testbase.web.app/login')  # NOTE otwieranie strony"
   ]
  },
  {
   "cell_type": "code",
   "execution_count": 10,
   "metadata": {},
   "outputs": [
    {
     "name": "stdout",
     "output_type": "stream",
     "text": [
      "New input data entered: tester@horizon.pl\n",
      "\n",
      "New input data entered: tester\n",
      "\n",
      "Button clicked: Sign in\n",
      "\n"
     ]
    }
   ],
   "source": [
    "robot.login('tester@horizon.pl', 'tester')"
   ]
  },
  {
   "cell_type": "code",
   "execution_count": 11,
   "metadata": {},
   "outputs": [
    {
     "name": "stdout",
     "output_type": "stream",
     "text": [
      "\n",
      "Current section: Statistics\n",
      "Stat 1: Total area:\n",
      "350620 m²\n",
      "Stat 2: Earth %:\n",
      "0.00000000069%\n",
      "Stat 3: Total distance:\n",
      "9.62 km\n",
      "\n",
      "Selected next button in menu\n",
      "\n",
      "Current section: Intresting Spots\n",
      "Total number of spots: 4\n",
      "Spot: 1\n",
      "Spot title:\n",
      "Baza\n",
      "Spot desc:\n",
      "kryjówka suchych drani\n",
      "Spot photo:\n",
      "https://firebasestorage.googleapis.com/v0/b/mapownik-testbase.firebasestorage.app/o/spots%2FEAuyC3NAvyflfeOZiatkJcLePjm1%2F1735980501.png?alt=media&token=928f666c-b3ab-4966-8918-173970757f43\n",
      "\n",
      "Spot: 2\n",
      "Spot title:\n",
      "Punkt testowy\n",
      "Spot desc:\n",
      "nikt nie wie co tu jest\n",
      "Spot photo:\n",
      "https://firebasestorage.googleapis.com/v0/b/mapownik-testbase.firebasestorage.app/o/spots%2FEAuyC3NAvyflfeOZiatkJcLePjm1%2F1735980790.png?alt=media&token=329f53cb-6769-4878-85d5-995b4522fcf6\n",
      "\n",
      "Spot: 3\n",
      "Spot title:\n",
      "Zorzowy punk widokowy\n",
      "Spot desc:\n",
      "a śnieg sypał i ciągle go było mało\n",
      "Spot photo:\n",
      "https://firebasestorage.googleapis.com/v0/b/mapownik-testbase.firebasestorage.app/o/spots%2FEAuyC3NAvyflfeOZiatkJcLePjm1%2F1735998906.png?alt=media&token=e95c2235-417d-41fa-bb32-d02b9c38233a\n",
      "\n",
      "Spot: 4\n",
      "Spot title:\n",
      "Spocik do lashe\n",
      "Spot desc:\n",
      "parkour is life\n",
      "Spot photo:\n",
      "https://firebasestorage.googleapis.com/v0/b/mapownik-testbase.firebasestorage.app/o/spots%2FEAuyC3NAvyflfeOZiatkJcLePjm1%2F1735999941.png?alt=media&token=961ca092-d33a-4477-b720-e3d09a30053c\n",
      "\n",
      "\n",
      "Selected next button in menu\n",
      "\n",
      "Current section: Friends\n",
      "Friend 1:\n",
      "Studencik\n",
      "Friend 2:\n",
      "Marcin Widuch\n",
      "Friend 3:\n",
      "Gesiek\n",
      "Friend 4:\n",
      "Dawid Nw (wybielak)\n",
      "\n",
      "Selected next button in menu\n",
      "\n",
      "Current section: Friend requests\n",
      "No friend requests!\n",
      "\n",
      "Selected next button in menu\n"
     ]
    }
   ],
   "source": [
    "robot.testAppMenu()  # NOTE testowanie funkcjonalności menu"
   ]
  },
  {
   "cell_type": "code",
   "execution_count": null,
   "metadata": {},
   "outputs": [
    {
     "name": "stdout",
     "output_type": "stream",
     "text": [
      "Browser closed\n"
     ]
    }
   ],
   "source": [
    "robot.closeBrowser()  # NOTE zamykanie połączenia z przeglądarką"
   ]
  }
 ],
 "metadata": {
  "kernelspec": {
   "display_name": "Python 3",
   "language": "python",
   "name": "python3"
  },
  "language_info": {
   "codemirror_mode": {
    "name": "ipython",
    "version": 3
   },
   "file_extension": ".py",
   "mimetype": "text/x-python",
   "name": "python",
   "nbconvert_exporter": "python",
   "pygments_lexer": "ipython3",
   "version": "3.12.2"
  }
 },
 "nbformat": 4,
 "nbformat_minor": 2
}
