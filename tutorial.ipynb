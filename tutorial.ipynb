{
 "cells": [
  {
   "cell_type": "markdown",
   "metadata": {},
   "source": [
    "# Selenium"
   ]
  },
  {
   "cell_type": "markdown",
   "metadata": {},
   "source": [
    "Biblioteka do automatyzacji działań w przeglądarkach internetowych. Głównie służąca do scrapowania informacji ze stron internetowych oraz do automatyzacji testów (black-box tests)."
   ]
  },
  {
   "cell_type": "markdown",
   "metadata": {},
   "source": [
    "### Import bibliotek"
   ]
  },
  {
   "cell_type": "code",
   "execution_count": 3,
   "metadata": {},
   "outputs": [],
   "source": [
    "import selenium as se\n",
    "from selenium import webdriver\n",
    "from selenium.webdriver.common.by import By\n",
    "from selenium.webdriver.common.keys import Keys\n",
    "import time"
   ]
  },
  {
   "cell_type": "markdown",
   "metadata": {},
   "source": [
    "## Prosty przykład działania"
   ]
  },
  {
   "cell_type": "markdown",
   "metadata": {},
   "source": [
    "Utworzenie instancji WebDriver dla przeglądarki Firefox i uruchomienie strony Google"
   ]
  },
  {
   "cell_type": "code",
   "execution_count": 6,
   "metadata": {},
   "outputs": [],
   "source": [
    "driver = webdriver.Firefox()\n",
    "driver.get(\"https://www.google.com\")"
   ]
  },
  {
   "cell_type": "markdown",
   "metadata": {},
   "source": [
    "Wyszukanie elementu po poniższym ID oraz kliknięcie w ten element (guzik \"Odrzuć\")"
   ]
  },
  {
   "cell_type": "code",
   "execution_count": 7,
   "metadata": {},
   "outputs": [],
   "source": [
    "odrzuc = driver.find_element(By.ID, \"W0wltc\")\n",
    "odrzuc.click()"
   ]
  },
  {
   "cell_type": "markdown",
   "metadata": {},
   "source": [
    "Znalezienie pola wyszukiwania po id (sposób z selektorem CSS), przesłanie słowa Python do pola i przesłanie formularza (w tym przypadku przesłanie frazy do wyszukania) "
   ]
  },
  {
   "cell_type": "code",
   "execution_count": 8,
   "metadata": {},
   "outputs": [],
   "source": [
    "poleWyszukiwania = driver.find_element(By.CSS_SELECTOR, \"#APjFqb\")\n",
    "poleWyszukiwania.send_keys(\"Python\")\n",
    "poleWyszukiwania.submit()"
   ]
  },
  {
   "cell_type": "markdown",
   "metadata": {},
   "source": [
    "Zamknięcie przeglądarki"
   ]
  },
  {
   "cell_type": "code",
   "execution_count": 9,
   "metadata": {},
   "outputs": [],
   "source": [
    "driver.quit()"
   ]
  },
  {
   "cell_type": "markdown",
   "metadata": {},
   "source": [
    "## WebDriver"
   ]
  },
  {
   "cell_type": "markdown",
   "metadata": {},
   "source": [
    "Klasa do zarządzania sesją przeglądarki. Używając instancji tej klasy możemy:\n",
    "- otworzyć daną stronę\n",
    "- zczytać dane ze strony (scrapowanie)\n",
    "- wejście w interakcję ze stroną\n",
    "- zakmnięcie okna przeglądarki"
   ]
  },
  {
   "cell_type": "markdown",
   "metadata": {},
   "source": [
    "Aktualnie wspierane przeglądarki do automatyzacji z użyciem Selenium to Chrome, Edge, Firefox, Internet Exploder i Safari. Każda przeglądarka posiada swoją instancję WebDrivera, np. `Edge()` dla przeglądarki Microsoft Edge."
   ]
  },
  {
   "cell_type": "code",
   "execution_count": null,
   "metadata": {},
   "outputs": [],
   "source": [
    "driver=webdriver.Firefox() # przeglądarka Firefox"
   ]
  },
  {
   "cell_type": "markdown",
   "metadata": {},
   "source": [
    "### WebDriver Options\n",
    "\n",
    "Klasa do ustawienia opcji dla danego WebDrivera. Każda przeglądarka posiada swoją własną klasę opcji - wszystkie posiadają część wspólnych ustawień jak i również te specyficzne dla danej przeglądarki. \n",
    "\n",
    "Instację opcji Edge'a i Chrome'a tworzy się przy pomocy funkcji `get_default_edge_options()` lub `get_default_chrome_options()`, dla reszty przeglądarek korzysta się z konstruktora odpowiednich klas (dla Firefoxa, `FirefoxOptions()`).\n",
    "\n",
    "Aby zmodyfikować opcje, należy zmienić wartości w słowniku `capabilities` lub zmienić wartość pola (dla niektórych pól)."
   ]
  },
  {
   "cell_type": "code",
   "execution_count": null,
   "metadata": {},
   "outputs": [
    {
     "name": "stdout",
     "output_type": "stream",
     "text": [
      "{'browserName': 'firefox', 'acceptInsecureCerts': True, 'moz:debuggerAddress': True, 'pageLoadStrategy': <PageLoadStrategy.normal: 'normal'>, 'browserVersion': None, 'moz:firefoxOptions': {'binary': 'C:\\\\Program Files\\\\Mozilla Firefox\\\\firefox.exe', 'prefs': {'remote.active-protocols': 3}}}\n"
     ]
    }
   ],
   "source": [
    "options=webdriver.FirefoxOptions()\n",
    "driver=webdriver.Firefox(options=options)\n",
    "print(options.capabilities)"
   ]
  },
  {
   "cell_type": "markdown",
   "metadata": {},
   "source": [
    "Opcje domyślnie (widoczny powyżej) składają się z poniższych ustawień:\n",
    "- `browserName` - nazwa wyszukiwarki\n",
    "- `acceptInsecureCerts` - jeśli jest `False`, zwraca błąd przy nawigacji strony z przedawnionym lub niewłaściwym certyfikatem TLS\n",
    "- `moz:debuggerAddress` - specjalny parametr Firefoxa - wskazuje czy uruchomić server do debugowania przy starcie WebDrivera\n",
    "- `pageLoadStrategy` - strategia ładowania strony:\n",
    "    - `normal` - czeka na załadowanie się całej strony\n",
    "    - `eager` - aktywuje się gdy jest dostęp do pełnej strony od strony html, ale inne elementy nieinteraktywne np. obrazy mogą być w trakcie ładowania\n",
    "    - `none` - nie czeka, webDriver kontynuuje działanie od razu\n",
    "    \n",
    "    Bazuje na stanie parametru DOM `document.readyState`.\n",
    "- `browserVersion` - wersja przeglądarki, opcjonalnie\n",
    "- opcja na specyficzne ustawienia, tutaj `moz:firefoxOptions`:\n",
    "    - `binary` - określa ścieżkę do przeglądarki\n",
    "    - `prefs` - preferncje profilu, tutaj ustawienie odnośnie wyboru aktywnego protokołu\n"
   ]
  },
  {
   "cell_type": "markdown",
   "metadata": {},
   "source": [
    "#### Timeouts"
   ]
  },
  {
   "cell_type": "markdown",
   "metadata": {},
   "source": [
    "Można dodatkowo ustawić różne interwały czasu, w których skrypt ma wykonać określoną czynność. Są 3 rodzaje:\n",
    "- `script` - interwał czasu na wykonanie skryptu w danym kontekście, domyślnie ustawiony na 30 sekund\n",
    "- `pageLoad` - interwał czasu na załadowanie strony, domyślnie 5 minut\n",
    "- `implicit` - interwał czasu na znalezienie wskazanego elementu na stronie, domyślnie opcja ustawiona na 0 (minimalny czas)"
   ]
  },
  {
   "cell_type": "code",
   "execution_count": null,
   "metadata": {},
   "outputs": [
    {
     "name": "stdout",
     "output_type": "stream",
     "text": [
      "{'browserName': 'firefox', 'acceptInsecureCerts': True, 'moz:debuggerAddress': True, 'pageLoadStrategy': <PageLoadStrategy.normal: 'normal'>, 'browserVersion': None, 'moz:firefoxOptions': {'binary': 'C:\\\\Program Files\\\\Mozilla Firefox\\\\firefox.exe', 'prefs': {'remote.active-protocols': 3}}, 'timeouts': {'script': 10000, 'pageLoad': 50000, 'implicit': 100}}\n"
     ]
    }
   ],
   "source": [
    "options.timeouts={'script':10000,'pageLoad':50000,'implicit':100}\n",
    "print(options.capabilities)"
   ]
  },
  {
   "cell_type": "markdown",
   "metadata": {},
   "source": [
    "#### unhandledPromptBehivour"
   ]
  },
  {
   "cell_type": "markdown",
   "metadata": {},
   "source": [
    "Parametr określający akcję do wykonania przy natrafieniu pop-upu lub okienek potwierdzenia. Dostępne są poniższe stany:\n",
    "- `dismiss` - automatyczne odrzucenie\n",
    "- `accept` - automatyczne zatwierdzenie\n",
    "- `dismiss and notify` - automatyczne odrzucenie i powiadomienie webDrivera\n",
    "- `accept and notify` - automatyczne zatwierdzenie i powiadomienie webDrivera\n",
    "- `ignore` - zignorowanie"
   ]
  },
  {
   "cell_type": "code",
   "execution_count": null,
   "metadata": {},
   "outputs": [
    {
     "name": "stdout",
     "output_type": "stream",
     "text": [
      "{'browserName': 'firefox', 'acceptInsecureCerts': True, 'moz:debuggerAddress': True, 'pageLoadStrategy': <PageLoadStrategy.normal: 'normal'>, 'browserVersion': None, 'moz:firefoxOptions': {'binary': 'C:\\\\Program Files\\\\Mozilla Firefox\\\\firefox.exe', 'prefs': {'remote.active-protocols': 3}}, 'timeouts': {'script': 10000, 'pageLoad': 50000, 'implicit': 100}, 'unhandledPromptBehavior': 'accept'}\n"
     ]
    }
   ],
   "source": [
    "options.unhandled_prompt_behavior = 'accept'\n",
    "print(options.capabilities)"
   ]
  },
  {
   "cell_type": "markdown",
   "metadata": {},
   "source": [
    "#### setWindowRect\n",
    "\n",
    "Wskazuje, czy przeglądarka wspiera wszystkie komendy do zmiany lokalizacji i rozmiaru"
   ]
  },
  {
   "cell_type": "code",
   "execution_count": null,
   "metadata": {},
   "outputs": [
    {
     "name": "stdout",
     "output_type": "stream",
     "text": [
      "{'browserName': 'firefox', 'acceptInsecureCerts': True, 'moz:debuggerAddress': True, 'pageLoadStrategy': <PageLoadStrategy.normal: 'normal'>, 'browserVersion': None, 'moz:firefoxOptions': {'binary': 'C:\\\\Program Files\\\\Mozilla Firefox\\\\firefox.exe', 'prefs': {'remote.active-protocols': 3}}, 'timeouts': {'script': 10000, 'pageLoad': 50000, 'implicit': 100}, 'unhandledPromptBehavior': 'accept', 'setWindowRect': True}\n"
     ]
    }
   ],
   "source": [
    "options.set_window_rect = True\n",
    "print(options.capabilities)"
   ]
  },
  {
   "cell_type": "markdown",
   "metadata": {},
   "source": [
    "#### strictFileInteractibility\n",
    "\n",
    "Parametr wskazujący, czy na wszelkie pola do przesłania plików (`<input type=\"file\">`) mają być dodatkowo sprawdzane pod kątem widoczności i dostępności. Przy ustawieniu wartości na `False`, webDriver będzie mógł przesłać plik pomimo schowania/zablokowania dostępu do przesłania dla zwykłego użytkownika."
   ]
  },
  {
   "cell_type": "code",
   "execution_count": null,
   "metadata": {},
   "outputs": [
    {
     "name": "stdout",
     "output_type": "stream",
     "text": [
      "{'browserName': 'firefox', 'acceptInsecureCerts': True, 'moz:debuggerAddress': True, 'pageLoadStrategy': <PageLoadStrategy.normal: 'normal'>, 'browserVersion': None, 'moz:firefoxOptions': {'binary': 'C:\\\\Program Files\\\\Mozilla Firefox\\\\firefox.exe', 'prefs': {'remote.active-protocols': 3}}, 'timeouts': {'script': 10000, 'pageLoad': 50000, 'implicit': 100}, 'unhandledPromptBehavior': 'accept', 'setWindowRect': True, 'strictFileInteractability': True}\n"
     ]
    }
   ],
   "source": [
    "options.strict_file_interactability = True\n",
    "print(options.capabilities)"
   ]
  },
  {
   "cell_type": "markdown",
   "metadata": {},
   "source": [
    "#### Proxy\n",
    "\n",
    "Ustawienie serwera proxy. Przyjmuje takie argumenty jak np. adresy serwerów różnego rodzaju, autodetekcję czy jej typ. Dostępne typy:\n",
    "- `DIRECT` - bezpośrednie połączenie\n",
    "- `MANUAL` - manualne ustawienie proxy (np. dla serwera http)\n",
    "- `PAC` - autokonfiguracja z URL\n",
    "- `AUTODETECT` - autodetekcja\n",
    "- `SYSTEM` - użycie ustawień systemowych"
   ]
  },
  {
   "cell_type": "code",
   "execution_count": null,
   "metadata": {},
   "outputs": [
    {
     "name": "stdout",
     "output_type": "stream",
     "text": [
      "{'browserName': 'firefox', 'acceptInsecureCerts': True, 'moz:debuggerAddress': True, 'pageLoadStrategy': <PageLoadStrategy.normal: 'normal'>, 'browserVersion': None, 'moz:firefoxOptions': {'binary': 'C:\\\\Program Files\\\\Mozilla Firefox\\\\firefox.exe', 'prefs': {'remote.active-protocols': 3}}, 'timeouts': {'script': 10000, 'pageLoad': 50000, 'implicit': 100}, 'unhandledPromptBehavior': 'accept', 'setWindowRect': True, 'strictFileInteractability': True, 'proxy': {'proxyType': 'manual', 'httpProxy': '127.0.0.1:6942'}}\n"
     ]
    }
   ],
   "source": [
    "from selenium.webdriver.common.proxy import Proxy,ProxyType\n",
    "options.proxy=Proxy({'proxyType':ProxyType.MANUAL,'httpProxy': '127.0.0.1:6942'})\n",
    "print(options.capabilities)"
   ]
  },
  {
   "cell_type": "code",
   "execution_count": null,
   "metadata": {},
   "outputs": [],
   "source": [
    "#reset opcji\n",
    "options=webdriver.FirefoxOptions()"
   ]
  },
  {
   "cell_type": "markdown",
   "metadata": {},
   "source": [
    "### WebDriver Service"
   ]
  },
  {
   "cell_type": "markdown",
   "metadata": {},
   "source": [
    "Klasa z ustawieniami technicznymi dla WebDrivera, takie jak lokalizacja, port do użycia i które argumenty zostają przekazane do wiersza poleceń.\n",
    "\n",
    "Podobnie jak opcje, przekazuje się je do konstruktora WebDrivera poprzez argument, tutaj keyword `service`."
   ]
  },
  {
   "cell_type": "code",
   "execution_count": null,
   "metadata": {},
   "outputs": [],
   "source": [
    "service=webdriver.FirefoxService()\n",
    "driver=webdriver.Firefox(service=service)"
   ]
  },
  {
   "cell_type": "markdown",
   "metadata": {},
   "source": [
    "#### Lokalizacja Drivera\n",
    "\n",
    "W wersji Selenium 4.6 i wyżej, nie jest potrzebne wskazywanie lokalizacji Drivera, w razie braku możliwości updatu lub z innego powodu, można ustawić ją w instancji serwisu przez argument `executable_path`."
   ]
  },
  {
   "cell_type": "code",
   "execution_count": null,
   "metadata": {},
   "outputs": [],
   "source": [
    "path='./some/path'\n",
    "service=webdriver.FirefoxService(executable_path=path) #oczywiście nie zadziała ;P"
   ]
  },
  {
   "cell_type": "markdown",
   "metadata": {},
   "source": [
    "#### Docelowe miejsce logowania\n",
    "\n",
    "Aby wskazać plik, do którego chcemy wysyłać informacje logowane od WebDrivera, można to wskazać używając argumentu `log_path`. Jeśli chcemy, aby logi pojawiały się w wierszu konsoli, możemy to wskazać poprzez `subprocess.STDOUT` (z pakietu `subprocess`)"
   ]
  },
  {
   "cell_type": "code",
   "execution_count": 4,
   "metadata": {},
   "outputs": [],
   "source": [
    "import subprocess\n",
    "service=webdriver.FirefoxService(log_output=subprocess.STDOUT)"
   ]
  },
  {
   "cell_type": "markdown",
   "metadata": {},
   "source": [
    "#### `service_args`\n",
    "\n",
    "Aby "
   ]
  },
  {
   "cell_type": "markdown",
   "metadata": {},
   "source": []
  },
  {
   "cell_type": "markdown",
   "metadata": {},
   "source": [
    "### WebDriver Profile (Firefox exclusive)"
   ]
  },
  {
   "cell_type": "markdown",
   "metadata": {},
   "source": [
    "## Elementy strony - narzędzia do scrapowania i nie tylko"
   ]
  },
  {
   "cell_type": "markdown",
   "metadata": {},
   "source": [
    "### Przerwy - instrukcje czekania"
   ]
  },
  {
   "cell_type": "markdown",
   "metadata": {},
   "source": [
    "## Interakcje z przeglądarką"
   ]
  },
  {
   "cell_type": "markdown",
   "metadata": {},
   "source": [
    "## Actions API - mimika zachowania użytkownika"
   ]
  },
  {
   "cell_type": "markdown",
   "metadata": {},
   "source": [
    "## Praktyki dobrego testowania"
   ]
  },
  {
   "cell_type": "markdown",
   "metadata": {},
   "source": [
    "## Grid - do testowania na wielu maszynach"
   ]
  },
  {
   "cell_type": "markdown",
   "metadata": {},
   "source": []
  }
 ],
 "metadata": {
  "kernelspec": {
   "display_name": ".venv",
   "language": "python",
   "name": "python3"
  },
  "language_info": {
   "codemirror_mode": {
    "name": "ipython",
    "version": 3
   },
   "file_extension": ".py",
   "mimetype": "text/x-python",
   "name": "python",
   "nbconvert_exporter": "python",
   "pygments_lexer": "ipython3",
   "version": "3.12.3"
  }
 },
 "nbformat": 4,
 "nbformat_minor": 2
}
