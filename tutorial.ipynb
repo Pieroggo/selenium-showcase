{
 "cells": [
  {
   "cell_type": "markdown",
   "metadata": {},
   "source": [
    "# Selenium"
   ]
  },
  {
   "cell_type": "markdown",
   "metadata": {},
   "source": [
    "Biblioteka do automatyzacji działań w przeglądarkach internetowych. Głównie służąca do scrapowania informacji ze stron internetowych oraz do automatyzacji testów (black-box tests)."
   ]
  },
  {
   "cell_type": "markdown",
   "metadata": {},
   "source": [
    "### Import bibliotek"
   ]
  },
  {
   "cell_type": "code",
   "execution_count": 18,
   "metadata": {},
   "outputs": [],
   "source": [
    "import selenium as se\n",
    "from selenium import webdriver\n",
    "from selenium.webdriver.common.by import By\n",
    "from selenium.webdriver.common.keys import Keys\n",
    "import numpy as np\n",
    "import matplotlib.pyplot as plt\n",
    "import pandas as pd\n",
    "import time"
   ]
  },
  {
   "cell_type": "markdown",
   "metadata": {},
   "source": [
    "## Prosty przykład działania"
   ]
  },
  {
   "cell_type": "markdown",
   "metadata": {},
   "source": [
    "Utworzenie instancji WebDriver dla przeglądarki Firefox i uruchomienie strony Google"
   ]
  },
  {
   "cell_type": "code",
   "execution_count": 19,
   "metadata": {},
   "outputs": [],
   "source": [
    "driver = webdriver.Firefox()\n",
    "driver.get(\"https://www.google.com\")"
   ]
  },
  {
   "cell_type": "markdown",
   "metadata": {},
   "source": [
    "Wyszukanie elementu po poniższym ID oraz kliknięcie w ten element (guzik \"Odrzuć\")"
   ]
  },
  {
   "cell_type": "code",
   "execution_count": 20,
   "metadata": {},
   "outputs": [
    {
     "ename": "NoSuchWindowException",
     "evalue": "Message: Browsing context has been discarded\nStacktrace:\nRemoteError@chrome://remote/content/shared/RemoteError.sys.mjs:8:8\nWebDriverError@chrome://remote/content/shared/webdriver/Errors.sys.mjs:199:5\nNoSuchWindowError@chrome://remote/content/shared/webdriver/Errors.sys.mjs:747:5\nassert.that/<@chrome://remote/content/shared/webdriver/Assert.sys.mjs:559:13\nassert.open@chrome://remote/content/shared/webdriver/Assert.sys.mjs:147:4\nGeckoDriver.prototype.findElement@chrome://remote/content/marionette/driver.sys.mjs:1723:15\ndespatch@chrome://remote/content/marionette/server.sys.mjs:318:40\nexecute@chrome://remote/content/marionette/server.sys.mjs:289:16\nonPacket/<@chrome://remote/content/marionette/server.sys.mjs:262:20\nonPacket@chrome://remote/content/marionette/server.sys.mjs:263:9\n_onJSONObjectReady/<@chrome://remote/content/marionette/transport.sys.mjs:494:20\n",
     "output_type": "error",
     "traceback": [
      "\u001b[31m---------------------------------------------------------------------------\u001b[39m",
      "\u001b[31mNoSuchWindowException\u001b[39m                     Traceback (most recent call last)",
      "\u001b[36mCell\u001b[39m\u001b[36m \u001b[39m\u001b[32mIn[20]\u001b[39m\u001b[32m, line 1\u001b[39m\n\u001b[32m----> \u001b[39m\u001b[32m1\u001b[39m odrzuc = \u001b[43mdriver\u001b[49m\u001b[43m.\u001b[49m\u001b[43mfind_element\u001b[49m\u001b[43m(\u001b[49m\u001b[43mBy\u001b[49m\u001b[43m.\u001b[49m\u001b[43mID\u001b[49m\u001b[43m,\u001b[49m\u001b[43m \u001b[49m\u001b[33;43m\"\u001b[39;49m\u001b[33;43mW0wltc\u001b[39;49m\u001b[33;43m\"\u001b[39;49m\u001b[43m)\u001b[49m\n\u001b[32m      2\u001b[39m odrzuc.click()\n",
      "\u001b[36mFile \u001b[39m\u001b[32mc:\\Users\\Grzegorz\\AppData\\Local\\Programs\\Python\\Python312\\Lib\\site-packages\\selenium\\webdriver\\remote\\webdriver.py:898\u001b[39m, in \u001b[36mWebDriver.find_element\u001b[39m\u001b[34m(self, by, value)\u001b[39m\n\u001b[32m    895\u001b[39m         \u001b[38;5;28;01mraise\u001b[39;00m NoSuchElementException(\u001b[33mf\u001b[39m\u001b[33m\"\u001b[39m\u001b[33mCannot locate relative element with: \u001b[39m\u001b[38;5;132;01m{\u001b[39;00mby.root\u001b[38;5;132;01m}\u001b[39;00m\u001b[33m\"\u001b[39m)\n\u001b[32m    896\u001b[39m     \u001b[38;5;28;01mreturn\u001b[39;00m elements[\u001b[32m0\u001b[39m]\n\u001b[32m--> \u001b[39m\u001b[32m898\u001b[39m \u001b[38;5;28;01mreturn\u001b[39;00m \u001b[38;5;28;43mself\u001b[39;49m\u001b[43m.\u001b[49m\u001b[43mexecute\u001b[49m\u001b[43m(\u001b[49m\u001b[43mCommand\u001b[49m\u001b[43m.\u001b[49m\u001b[43mFIND_ELEMENT\u001b[49m\u001b[43m,\u001b[49m\u001b[43m \u001b[49m\u001b[43m{\u001b[49m\u001b[33;43m\"\u001b[39;49m\u001b[33;43musing\u001b[39;49m\u001b[33;43m\"\u001b[39;49m\u001b[43m:\u001b[49m\u001b[43m \u001b[49m\u001b[43mby\u001b[49m\u001b[43m,\u001b[49m\u001b[43m \u001b[49m\u001b[33;43m\"\u001b[39;49m\u001b[33;43mvalue\u001b[39;49m\u001b[33;43m\"\u001b[39;49m\u001b[43m:\u001b[49m\u001b[43m \u001b[49m\u001b[43mvalue\u001b[49m\u001b[43m}\u001b[49m\u001b[43m)\u001b[49m[\u001b[33m\"\u001b[39m\u001b[33mvalue\u001b[39m\u001b[33m\"\u001b[39m]\n",
      "\u001b[36mFile \u001b[39m\u001b[32mc:\\Users\\Grzegorz\\AppData\\Local\\Programs\\Python\\Python312\\Lib\\site-packages\\selenium\\webdriver\\remote\\webdriver.py:429\u001b[39m, in \u001b[36mWebDriver.execute\u001b[39m\u001b[34m(self, driver_command, params)\u001b[39m\n\u001b[32m    427\u001b[39m response = \u001b[38;5;28mself\u001b[39m.command_executor.execute(driver_command, params)\n\u001b[32m    428\u001b[39m \u001b[38;5;28;01mif\u001b[39;00m response:\n\u001b[32m--> \u001b[39m\u001b[32m429\u001b[39m     \u001b[38;5;28;43mself\u001b[39;49m\u001b[43m.\u001b[49m\u001b[43merror_handler\u001b[49m\u001b[43m.\u001b[49m\u001b[43mcheck_response\u001b[49m\u001b[43m(\u001b[49m\u001b[43mresponse\u001b[49m\u001b[43m)\u001b[49m\n\u001b[32m    430\u001b[39m     response[\u001b[33m\"\u001b[39m\u001b[33mvalue\u001b[39m\u001b[33m\"\u001b[39m] = \u001b[38;5;28mself\u001b[39m._unwrap_value(response.get(\u001b[33m\"\u001b[39m\u001b[33mvalue\u001b[39m\u001b[33m\"\u001b[39m, \u001b[38;5;28;01mNone\u001b[39;00m))\n\u001b[32m    431\u001b[39m     \u001b[38;5;28;01mreturn\u001b[39;00m response\n",
      "\u001b[36mFile \u001b[39m\u001b[32mc:\\Users\\Grzegorz\\AppData\\Local\\Programs\\Python\\Python312\\Lib\\site-packages\\selenium\\webdriver\\remote\\errorhandler.py:232\u001b[39m, in \u001b[36mErrorHandler.check_response\u001b[39m\u001b[34m(self, response)\u001b[39m\n\u001b[32m    230\u001b[39m         alert_text = value[\u001b[33m\"\u001b[39m\u001b[33malert\u001b[39m\u001b[33m\"\u001b[39m].get(\u001b[33m\"\u001b[39m\u001b[33mtext\u001b[39m\u001b[33m\"\u001b[39m)\n\u001b[32m    231\u001b[39m     \u001b[38;5;28;01mraise\u001b[39;00m exception_class(message, screen, stacktrace, alert_text)  \u001b[38;5;66;03m# type: ignore[call-arg]  # mypy is not smart enough here\u001b[39;00m\n\u001b[32m--> \u001b[39m\u001b[32m232\u001b[39m \u001b[38;5;28;01mraise\u001b[39;00m exception_class(message, screen, stacktrace)\n",
      "\u001b[31mNoSuchWindowException\u001b[39m: Message: Browsing context has been discarded\nStacktrace:\nRemoteError@chrome://remote/content/shared/RemoteError.sys.mjs:8:8\nWebDriverError@chrome://remote/content/shared/webdriver/Errors.sys.mjs:199:5\nNoSuchWindowError@chrome://remote/content/shared/webdriver/Errors.sys.mjs:747:5\nassert.that/<@chrome://remote/content/shared/webdriver/Assert.sys.mjs:559:13\nassert.open@chrome://remote/content/shared/webdriver/Assert.sys.mjs:147:4\nGeckoDriver.prototype.findElement@chrome://remote/content/marionette/driver.sys.mjs:1723:15\ndespatch@chrome://remote/content/marionette/server.sys.mjs:318:40\nexecute@chrome://remote/content/marionette/server.sys.mjs:289:16\nonPacket/<@chrome://remote/content/marionette/server.sys.mjs:262:20\nonPacket@chrome://remote/content/marionette/server.sys.mjs:263:9\n_onJSONObjectReady/<@chrome://remote/content/marionette/transport.sys.mjs:494:20\n"
     ]
    }
   ],
   "source": [
    "odrzuc = driver.find_element(By.ID, \"W0wltc\")\n",
    "odrzuc.click()"
   ]
  },
  {
   "cell_type": "markdown",
   "metadata": {},
   "source": [
    "Znalezienie pola wyszukiwania po id (sposób z selektorem CSS), przesłanie słowa Python do pola i przesłanie formularza (w tym przypadku przesłanie frazy do wyszukania) "
   ]
  },
  {
   "cell_type": "code",
   "execution_count": null,
   "metadata": {},
   "outputs": [],
   "source": [
    "poleWyszukiwania = driver.find_element(By.CSS_SELECTOR, \"#APjFqb\")\n",
    "poleWyszukiwania.send_keys(\"Python\")\n",
    "poleWyszukiwania.submit()"
   ]
  },
  {
   "cell_type": "markdown",
   "metadata": {},
   "source": [
    "## WebDriver"
   ]
  },
  {
   "cell_type": "markdown",
   "metadata": {},
   "source": [
    "Klasa do zarządzania sesją przeglądarki. Używając instancji tej klasy możemy:\n",
    "- otworzyć daną stronę\n",
    "- zczytać dane ze strony (scrapowanie)\n",
    "- wejście w interakcję ze stroną\n",
    "- zakmnięcie okna przeglądarki"
   ]
  },
  {
   "cell_type": "markdown",
   "metadata": {},
   "source": [
    "Aktualnie wspierane przeglądarki do automatyzacji z użyciem Selenium to Chrome, Edge, Firefox, Internet Exploder i Safari. Każda przeglądarka posiada swoją instancję WebDrivera, np. `Edge()` dla przeglądarki Microsoft Edge."
   ]
  },
  {
   "cell_type": "code",
   "execution_count": null,
   "metadata": {},
   "outputs": [],
   "source": [
    "driver=webdriver.Firefox() # przeglądarka Firefox"
   ]
  },
  {
   "cell_type": "markdown",
   "metadata": {},
   "source": [
    "### WebDriver Options\n",
    "\n",
    "Klasa do ustawienia opcji dla danego WebDrivera. Każda przeglądarka posiada swoją własną klasę opcji - wszystkie posiadają część wspólnych ustawień jak i również te specyficzne dla danej przeglądarki. \n",
    "\n",
    "Instację opcji Edge'a i Chrome'a tworzy się przy pomocy funkcji `get_default_edge_options()` lub `get_default_chrome_options()`, dla reszty przeglądarek korzysta się z konstruktora odpowiednich klas (dla Firefoxa, `FirefoxOptions()`).\n",
    "\n",
    "Aby zmodyfikować opcje, należy zmienić wartości w słowniku `capabilities` lub zmienić wartość pola (dla niektórych pól)."
   ]
  },
  {
   "cell_type": "code",
   "execution_count": null,
   "metadata": {},
   "outputs": [
    {
     "name": "stdout",
     "output_type": "stream",
     "text": [
      "{'browserName': 'firefox', 'acceptInsecureCerts': True, 'moz:debuggerAddress': True, 'pageLoadStrategy': <PageLoadStrategy.normal: 'normal'>, 'browserVersion': None, 'moz:firefoxOptions': {'binary': 'C:\\\\Program Files\\\\Mozilla Firefox\\\\firefox.exe', 'prefs': {'remote.active-protocols': 3}}}\n"
     ]
    }
   ],
   "source": [
    "options=webdriver.FirefoxOptions()\n",
    "driver=webdriver.Firefox(options=options)\n",
    "print(options.capabilities)"
   ]
  },
  {
   "cell_type": "markdown",
   "metadata": {},
   "source": [
    "Opcje domyślnie (widoczny powyżej) składają się z poniższych ustawień:\n",
    "- `browserName` - nazwa wyszukiwarki\n",
    "- `acceptInsecureCerts` - jeśli jest `False`, zwraca błąd przy nawigacji strony z przedawnionym lub niewłaściwym certyfikatem TLS\n",
    "- `moz:debuggerAddress` - specjalny parametr Firefoxa - wskazuje czy uruchomić server do debugowania przy starcie WebDrivera\n",
    "- `pageLoadStrategy` - strategia ładowania strony:\n",
    "    - `normal` - czeka na załadowanie się całej strony\n",
    "    - `eager` - aktywuje się gdy jest dostęp do pełnej strony od strony html, ale inne elementy nieinteraktywne np. obrazy mogą być w trakcie ładowania\n",
    "    - `none` - nie czeka, webDriver kontynuuje działanie od razu\n",
    "    \n",
    "    Bazuje na stanie parametru DOM `document.readyState`.\n",
    "- `browserVersion` - wersja przeglądarki, opcjonalnie\n",
    "- opcja na specyficzne ustawienia, tutaj `moz:firefoxOptions`:\n",
    "    - `binary` - określa ścieżkę do przeglądarki\n",
    "    - `prefs` - preferncje profilu, tutaj ustawienie odnośnie wyboru aktywnego protokołu\n"
   ]
  },
  {
   "cell_type": "markdown",
   "metadata": {},
   "source": [
    "#### Timeouts"
   ]
  },
  {
   "cell_type": "markdown",
   "metadata": {},
   "source": [
    "Można dodatkowo ustawić różne interwały czasu, w których skrypt ma wykonać określoną czynność. Są 3 rodzaje:\n",
    "- `script` - interwał czasu na wykonanie skryptu w danym kontekście, domyślnie ustawiony na 30 sekund\n",
    "- `pageLoad` - interwał czasu na załadowanie strony, domyślnie 5 minut\n",
    "- `implicit` - interwał czasu na znalezienie wskazanego elementu na stronie, domyślnie opcja ustawiona na 0 (minimalny czas)"
   ]
  },
  {
   "cell_type": "code",
   "execution_count": null,
   "metadata": {},
   "outputs": [
    {
     "name": "stdout",
     "output_type": "stream",
     "text": [
      "{'browserName': 'firefox', 'acceptInsecureCerts': True, 'moz:debuggerAddress': True, 'pageLoadStrategy': <PageLoadStrategy.normal: 'normal'>, 'browserVersion': None, 'moz:firefoxOptions': {'binary': 'C:\\\\Program Files\\\\Mozilla Firefox\\\\firefox.exe', 'prefs': {'remote.active-protocols': 3}}, 'timeouts': {'script': 10000, 'pageLoad': 50000, 'implicit': 100}}\n"
     ]
    }
   ],
   "source": [
    "options.timeouts={'script':10000,'pageLoad':50000,'implicit':100}\n",
    "print(options.capabilities)"
   ]
  },
  {
   "cell_type": "markdown",
   "metadata": {},
   "source": [
    "#### unhandledPromptBehivour"
   ]
  },
  {
   "cell_type": "markdown",
   "metadata": {},
   "source": [
    "Parametr określający akcję do wykonania przy natrafieniu pop-upu lub okienek potwierdzenia. Dostępne są poniższe stany:\n",
    "- `dismiss` - automatyczne odrzucenie\n",
    "- `accept` - automatyczne zatwierdzenie\n",
    "- `dismiss and notify` - automatyczne odrzucenie i powiadomienie webDrivera\n",
    "- `accept and notify` - automatyczne zatwierdzenie i powiadomienie webDrivera\n",
    "- `ignore` - zignorowanie"
   ]
  },
  {
   "cell_type": "code",
   "execution_count": null,
   "metadata": {},
   "outputs": [
    {
     "name": "stdout",
     "output_type": "stream",
     "text": [
      "{'browserName': 'firefox', 'acceptInsecureCerts': True, 'moz:debuggerAddress': True, 'pageLoadStrategy': <PageLoadStrategy.normal: 'normal'>, 'browserVersion': None, 'moz:firefoxOptions': {'binary': 'C:\\\\Program Files\\\\Mozilla Firefox\\\\firefox.exe', 'prefs': {'remote.active-protocols': 3}}, 'timeouts': {'script': 10000, 'pageLoad': 50000, 'implicit': 100}, 'unhandledPromptBehavior': 'accept'}\n"
     ]
    }
   ],
   "source": [
    "options.unhandled_prompt_behavior = 'accept'\n",
    "print(options.capabilities)"
   ]
  },
  {
   "cell_type": "markdown",
   "metadata": {},
   "source": [
    "#### setWindowRect\n",
    "\n",
    "Wskazuje, czy przeglądarka wspiera wszystkie komendy do zmiany lokalizacji i rozmiaru"
   ]
  },
  {
   "cell_type": "code",
   "execution_count": null,
   "metadata": {},
   "outputs": [
    {
     "name": "stdout",
     "output_type": "stream",
     "text": [
      "{'browserName': 'firefox', 'acceptInsecureCerts': True, 'moz:debuggerAddress': True, 'pageLoadStrategy': <PageLoadStrategy.normal: 'normal'>, 'browserVersion': None, 'moz:firefoxOptions': {'binary': 'C:\\\\Program Files\\\\Mozilla Firefox\\\\firefox.exe', 'prefs': {'remote.active-protocols': 3}}, 'timeouts': {'script': 10000, 'pageLoad': 50000, 'implicit': 100}, 'unhandledPromptBehavior': 'accept', 'setWindowRect': True}\n"
     ]
    }
   ],
   "source": [
    "options.set_window_rect = True\n",
    "print(options.capabilities)"
   ]
  },
  {
   "cell_type": "markdown",
   "metadata": {},
   "source": [
    "#### strictFileInteractibility\n",
    "\n",
    "Parametr wskazujący, czy na wszelkie pola do przesłania plików (`<input type=\"file\">`) mają być dodatkowo sprawdzane pod kątem widoczności i dostępności. Przy ustawieniu wartości na `False`, webDriver będzie mógł przesłać plik pomimo schowania/zablokowania dostępu do przesłania dla zwykłego użytkownika."
   ]
  },
  {
   "cell_type": "code",
   "execution_count": null,
   "metadata": {},
   "outputs": [
    {
     "name": "stdout",
     "output_type": "stream",
     "text": [
      "{'browserName': 'firefox', 'acceptInsecureCerts': True, 'moz:debuggerAddress': True, 'pageLoadStrategy': <PageLoadStrategy.normal: 'normal'>, 'browserVersion': None, 'moz:firefoxOptions': {'binary': 'C:\\\\Program Files\\\\Mozilla Firefox\\\\firefox.exe', 'prefs': {'remote.active-protocols': 3}}, 'timeouts': {'script': 10000, 'pageLoad': 50000, 'implicit': 100}, 'unhandledPromptBehavior': 'accept', 'setWindowRect': True, 'strictFileInteractability': True}\n"
     ]
    }
   ],
   "source": [
    "options.strict_file_interactability = True\n",
    "print(options.capabilities)"
   ]
  },
  {
   "cell_type": "markdown",
   "metadata": {},
   "source": [
    "#### Proxy\n",
    "\n",
    "Ustawienie serwera proxy. Przyjmuje takie argumenty jak np. adresy serwerów różnego rodzaju, autodetekcję czy jej typ. Dostępne typy:\n",
    "- `DIRECT` - bezpośrednie połączenie\n",
    "- `MANUAL` - manualne ustawienie proxy (np. dla serwera http)\n",
    "- `PAC` - autokonfiguracja z URL\n",
    "- `AUTODETECT` - autodetekcja\n",
    "- `SYSTEM` - użycie ustawień systemowych"
   ]
  },
  {
   "cell_type": "code",
   "execution_count": null,
   "metadata": {},
   "outputs": [
    {
     "name": "stdout",
     "output_type": "stream",
     "text": [
      "{'browserName': 'firefox', 'acceptInsecureCerts': True, 'moz:debuggerAddress': True, 'pageLoadStrategy': <PageLoadStrategy.normal: 'normal'>, 'browserVersion': None, 'moz:firefoxOptions': {'binary': 'C:\\\\Program Files\\\\Mozilla Firefox\\\\firefox.exe', 'prefs': {'remote.active-protocols': 3}}, 'timeouts': {'script': 10000, 'pageLoad': 50000, 'implicit': 100}, 'unhandledPromptBehavior': 'accept', 'setWindowRect': True, 'strictFileInteractability': True, 'proxy': {'proxyType': 'manual', 'httpProxy': '127.0.0.1:6942'}}\n"
     ]
    }
   ],
   "source": [
    "from selenium.webdriver.common.proxy import Proxy,ProxyType\n",
    "options.proxy=Proxy({'proxyType':ProxyType.MANUAL,'httpProxy': '127.0.0.1:6942'})\n",
    "print(options.capabilities)"
   ]
  },
  {
   "cell_type": "code",
   "execution_count": null,
   "metadata": {},
   "outputs": [],
   "source": [
    "#reset opcji\n",
    "options=webdriver.FirefoxOptions()"
   ]
  },
  {
   "cell_type": "code",
   "execution_count": null,
   "metadata": {},
   "outputs": [],
   "source": []
  }
 ],
 "metadata": {
  "kernelspec": {
   "display_name": "Python 3",
   "language": "python",
   "name": "python3"
  },
  "language_info": {
   "codemirror_mode": {
    "name": "ipython",
    "version": 3
   },
   "file_extension": ".py",
   "mimetype": "text/x-python",
   "name": "python",
   "nbconvert_exporter": "python",
   "pygments_lexer": "ipython3",
   "version": "3.12.9"
  }
 },
 "nbformat": 4,
 "nbformat_minor": 2
}
