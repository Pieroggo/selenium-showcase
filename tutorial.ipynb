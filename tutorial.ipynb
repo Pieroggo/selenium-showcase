{
 "cells": [
  {
   "cell_type": "markdown",
   "metadata": {},
   "source": [
    "# Selenium"
   ]
  },
  {
   "cell_type": "markdown",
   "metadata": {},
   "source": [
    "Biblioteka do automatyzacji działań w przeglądarkach internetowych. Głównie służąca do scrapowania informacji ze stron internetowych oraz do automatyzacji testów (black-box tests)."
   ]
  },
  {
   "cell_type": "markdown",
   "metadata": {},
   "source": [
    "### Import bibliotek"
   ]
  },
  {
   "cell_type": "code",
   "execution_count": 2,
   "metadata": {},
   "outputs": [],
   "source": [
    "import selenium as se\n",
    "from selenium import webdriver\n",
    "from selenium.webdriver.common.by import By\n",
    "from selenium.webdriver.common.keys import Keys\n",
    "import time"
   ]
  },
  {
   "cell_type": "markdown",
   "metadata": {},
   "source": [
    "## Prosty przykład działania"
   ]
  },
  {
   "cell_type": "markdown",
   "metadata": {},
   "source": [
    "Utworzenie instancji WebDriver dla przeglądarki Firefox i uruchomienie strony Google"
   ]
  },
  {
   "cell_type": "code",
   "execution_count": 6,
   "metadata": {},
   "outputs": [],
   "source": [
    "driver = webdriver.Firefox()\n",
    "driver.get(\"https://www.google.com\")"
   ]
  },
  {
   "cell_type": "markdown",
   "metadata": {},
   "source": [
    "Wyszukanie elementu po poniższym ID oraz kliknięcie w ten element (guzik \"Odrzuć\")"
   ]
  },
  {
   "cell_type": "code",
   "execution_count": 7,
   "metadata": {},
   "outputs": [],
   "source": [
    "odrzuc = driver.find_element(By.ID, \"W0wltc\")\n",
    "odrzuc.click()"
   ]
  },
  {
   "cell_type": "markdown",
   "metadata": {},
   "source": [
    "Znalezienie pola wyszukiwania po id (sposób z selektorem CSS), przesłanie słowa Python do pola i przesłanie formularza (w tym przypadku przesłanie frazy do wyszukania) "
   ]
  },
  {
   "cell_type": "code",
   "execution_count": 8,
   "metadata": {},
   "outputs": [],
   "source": [
    "poleWyszukiwania = driver.find_element(By.CSS_SELECTOR, \"#APjFqb\")\n",
    "poleWyszukiwania.send_keys(\"Python\")\n",
    "poleWyszukiwania.submit()"
   ]
  },
  {
   "cell_type": "markdown",
   "metadata": {},
   "source": [
    "Zamknięcie przeglądarki"
   ]
  },
  {
   "cell_type": "code",
   "execution_count": 9,
   "metadata": {},
   "outputs": [],
   "source": [
    "driver.quit()"
   ]
  },
  {
   "cell_type": "markdown",
   "metadata": {},
   "source": [
    "## WebDriver"
   ]
  },
  {
   "cell_type": "markdown",
   "metadata": {},
   "source": [
    "Klasa do zarządzania sesją przeglądarki. Używając instancji tej klasy możemy:\n",
    "- otworzyć daną stronę\n",
    "- zczytać dane ze strony (scrapowanie)\n",
    "- wejść w interakcję ze stroną\n",
    "- zamknąć/przełączyć okna przeglądarki"
   ]
  },
  {
   "cell_type": "markdown",
   "metadata": {},
   "source": [
    "Aktualnie wspierane przeglądarki do automatyzacji z użyciem Selenium to Chrome, Edge, Firefox, Internet Exploder i Safari. Każda przeglądarka posiada swoją instancję WebDrivera, np. `Edge()` dla przeglądarki Microsoft Edge."
   ]
  },
  {
   "cell_type": "code",
   "execution_count": null,
   "metadata": {},
   "outputs": [],
   "source": [
    "driver = webdriver.Edge() # przeglądarka Edge"
   ]
  },
  {
   "cell_type": "markdown",
   "metadata": {},
   "source": [
    "### WebDriver Options\n",
    "\n",
    "Klasa do ustawienia opcji dla danego WebDrivera. Każda przeglądarka posiada swoją własną klasę opcji - wszystkie posiadają część wspólnych ustawień jak i również te specyficzne dla danej przeglądarki. \n",
    "\n",
    "Instację opcji Edge'a i Chrome'a tworzy się przy pomocy funkcji `get_default_edge_options()` lub `get_default_chrome_options()`, dla reszty przeglądarek korzysta się z konstruktora odpowiednich klas (dla Firefoxa, `FirefoxOptions()`).\n",
    "\n",
    "Aby zmodyfikować opcje, należy zmienić wartości w słowniku `capabilities` lub zmienić wartość pola (dla niektórych pól)."
   ]
  },
  {
   "cell_type": "code",
   "execution_count": null,
   "metadata": {},
   "outputs": [
    {
     "name": "stdout",
     "output_type": "stream",
     "text": [
      "{'browserName': 'firefox', 'acceptInsecureCerts': True, 'moz:debuggerAddress': True, 'pageLoadStrategy': <PageLoadStrategy.normal: 'normal'>, 'browserVersion': None, 'moz:firefoxOptions': {'binary': 'C:\\\\Program Files\\\\Mozilla Firefox\\\\firefox.exe', 'prefs': {'remote.active-protocols': 3}}}\n"
     ]
    }
   ],
   "source": [
    "options = webdriver.FirefoxOptions()\n",
    "driver = webdriver.Firefox(options = options)\n",
    "print(options.capabilities)"
   ]
  },
  {
   "cell_type": "markdown",
   "metadata": {},
   "source": [
    "Opcje domyślnie (widoczny powyżej) składają się z poniższych ustawień:\n",
    "- `browserName` - nazwa wyszukiwarki\n",
    "- `acceptInsecureCerts` - jeśli jest `False`, zwraca błąd przy nawigacji strony z przedawnionym lub niewłaściwym certyfikatem TLS\n",
    "- `moz:debuggerAddress` - specjalny parametr Firefoxa - wskazuje czy uruchomić server do debugowania przy starcie WebDrivera\n",
    "- `pageLoadStrategy` - strategia ładowania strony:\n",
    "    - `normal` - czeka na załadowanie się całej strony\n",
    "    - `eager` - aktywuje się gdy jest dostęp do pełnej strony od strony html, ale inne elementy nieinteraktywne np. obrazy mogą być w trakcie ładowania\n",
    "    - `none` - nie czeka, webDriver kontynuuje działanie od razu\n",
    "    \n",
    "    Bazuje na stanie parametru DOM `document.readyState`.\n",
    "- `browserVersion` - wersja przeglądarki, opcjonalnie\n",
    "- opcja na specyficzne ustawienia, tutaj `moz:firefoxOptions`:\n",
    "    - `binary` - określa ścieżkę do przeglądarki\n",
    "    - `prefs` - preferncje profilu, tutaj ustawienie odnośnie wyboru aktywnego protokołu\n"
   ]
  },
  {
   "cell_type": "markdown",
   "metadata": {},
   "source": [
    "#### Timeouts"
   ]
  },
  {
   "cell_type": "markdown",
   "metadata": {},
   "source": [
    "Można dodatkowo ustawić różne interwały czasu, w których skrypt ma wykonać określoną czynność. Są 3 rodzaje:\n",
    "- `script` - interwał czasu na wykonanie skryptu w danym kontekście, domyślnie ustawiony na 30 sekund\n",
    "- `pageLoad` - interwał czasu na załadowanie strony, domyślnie 5 minut\n",
    "- `implicit` - interwał czasu na znalezienie wskazanego elementu na stronie, domyślnie opcja ustawiona na 0 (minimalny czas)"
   ]
  },
  {
   "cell_type": "code",
   "execution_count": null,
   "metadata": {},
   "outputs": [
    {
     "name": "stdout",
     "output_type": "stream",
     "text": [
      "{'browserName': 'firefox', 'acceptInsecureCerts': True, 'moz:debuggerAddress': True, 'pageLoadStrategy': <PageLoadStrategy.normal: 'normal'>, 'browserVersion': None, 'moz:firefoxOptions': {'binary': 'C:\\\\Program Files\\\\Mozilla Firefox\\\\firefox.exe', 'prefs': {'remote.active-protocols': 3}}, 'timeouts': {'script': 10000, 'pageLoad': 50000, 'implicit': 100}}\n"
     ]
    }
   ],
   "source": [
    "options.timeouts = {'script': 10000,'pageLoad': 50000,'implicit': 100}\n",
    "print(options.capabilities)"
   ]
  },
  {
   "cell_type": "markdown",
   "metadata": {},
   "source": [
    "#### unhandledPromptBehivour"
   ]
  },
  {
   "cell_type": "markdown",
   "metadata": {},
   "source": [
    "Parametr określający akcję do wykonania przy natrafieniu pop-upu lub okienek potwierdzenia. Dostępne są poniższe stany:\n",
    "- `dismiss` - automatyczne odrzucenie\n",
    "- `accept` - automatyczne zatwierdzenie\n",
    "- `dismiss and notify` - automatyczne odrzucenie i powiadomienie webDrivera\n",
    "- `accept and notify` - automatyczne zatwierdzenie i powiadomienie webDrivera\n",
    "- `ignore` - zignorowanie"
   ]
  },
  {
   "cell_type": "code",
   "execution_count": null,
   "metadata": {},
   "outputs": [
    {
     "name": "stdout",
     "output_type": "stream",
     "text": [
      "{'browserName': 'firefox', 'acceptInsecureCerts': True, 'moz:debuggerAddress': True, 'pageLoadStrategy': <PageLoadStrategy.normal: 'normal'>, 'browserVersion': None, 'moz:firefoxOptions': {'binary': 'C:\\\\Program Files\\\\Mozilla Firefox\\\\firefox.exe', 'prefs': {'remote.active-protocols': 3}}, 'timeouts': {'script': 10000, 'pageLoad': 50000, 'implicit': 100}, 'unhandledPromptBehavior': 'accept'}\n"
     ]
    }
   ],
   "source": [
    "options.unhandled_prompt_behavior = 'accept'\n",
    "print(options.capabilities)"
   ]
  },
  {
   "cell_type": "markdown",
   "metadata": {},
   "source": [
    "#### setWindowRect\n",
    "\n",
    "Wskazuje, czy przeglądarka wspiera wszystkie komendy do zmiany lokalizacji i rozmiaru"
   ]
  },
  {
   "cell_type": "code",
   "execution_count": null,
   "metadata": {},
   "outputs": [
    {
     "name": "stdout",
     "output_type": "stream",
     "text": [
      "{'browserName': 'firefox', 'acceptInsecureCerts': True, 'moz:debuggerAddress': True, 'pageLoadStrategy': <PageLoadStrategy.normal: 'normal'>, 'browserVersion': None, 'moz:firefoxOptions': {'binary': 'C:\\\\Program Files\\\\Mozilla Firefox\\\\firefox.exe', 'prefs': {'remote.active-protocols': 3}}, 'timeouts': {'script': 10000, 'pageLoad': 50000, 'implicit': 100}, 'unhandledPromptBehavior': 'accept', 'setWindowRect': True}\n"
     ]
    }
   ],
   "source": [
    "options.set_window_rect = True\n",
    "print(options.capabilities)"
   ]
  },
  {
   "cell_type": "markdown",
   "metadata": {},
   "source": [
    "#### strictFileInteractibility\n",
    "\n",
    "Parametr wskazujący, czy na wszelkie pola do przesłania plików (`<input type=\"file\">`) mają być dodatkowo sprawdzane pod kątem widoczności i dostępności. Przy ustawieniu wartości na `False`, webDriver będzie mógł przesłać plik pomimo schowania/zablokowania dostępu do przesłania dla zwykłego użytkownika."
   ]
  },
  {
   "cell_type": "code",
   "execution_count": null,
   "metadata": {},
   "outputs": [
    {
     "name": "stdout",
     "output_type": "stream",
     "text": [
      "{'browserName': 'firefox', 'acceptInsecureCerts': True, 'moz:debuggerAddress': True, 'pageLoadStrategy': <PageLoadStrategy.normal: 'normal'>, 'browserVersion': None, 'moz:firefoxOptions': {'binary': 'C:\\\\Program Files\\\\Mozilla Firefox\\\\firefox.exe', 'prefs': {'remote.active-protocols': 3}}, 'timeouts': {'script': 10000, 'pageLoad': 50000, 'implicit': 100}, 'unhandledPromptBehavior': 'accept', 'setWindowRect': True, 'strictFileInteractability': True}\n"
     ]
    }
   ],
   "source": [
    "options.strict_file_interactability = True\n",
    "print(options.capabilities)"
   ]
  },
  {
   "cell_type": "markdown",
   "metadata": {},
   "source": [
    "#### Proxy\n",
    "\n",
    "Ustawienie serwera proxy. Przyjmuje takie argumenty jak np. adresy serwerów różnego rodzaju, autodetekcję czy jej typ. Dostępne typy:\n",
    "- `DIRECT` - bezpośrednie połączenie\n",
    "- `MANUAL` - manualne ustawienie proxy (np. dla serwera http)\n",
    "- `PAC` - autokonfiguracja z URL\n",
    "- `AUTODETECT` - autodetekcja\n",
    "- `SYSTEM` - użycie ustawień systemowych"
   ]
  },
  {
   "cell_type": "code",
   "execution_count": null,
   "metadata": {},
   "outputs": [
    {
     "name": "stdout",
     "output_type": "stream",
     "text": [
      "{'browserName': 'firefox', 'acceptInsecureCerts': True, 'moz:debuggerAddress': True, 'pageLoadStrategy': <PageLoadStrategy.normal: 'normal'>, 'browserVersion': None, 'moz:firefoxOptions': {'binary': 'C:\\\\Program Files\\\\Mozilla Firefox\\\\firefox.exe', 'prefs': {'remote.active-protocols': 3}}, 'timeouts': {'script': 10000, 'pageLoad': 50000, 'implicit': 100}, 'unhandledPromptBehavior': 'accept', 'setWindowRect': True, 'strictFileInteractability': True, 'proxy': {'proxyType': 'manual', 'httpProxy': '127.0.0.1:6942'}}\n"
     ]
    }
   ],
   "source": [
    "from selenium.webdriver.common.proxy import Proxy,ProxyType\n",
    "options.proxy = Proxy({'proxyType':ProxyType.MANUAL,'httpProxy': '127.0.0.1:6942'})\n",
    "print(options.capabilities)"
   ]
  },
  {
   "cell_type": "code",
   "execution_count": null,
   "metadata": {},
   "outputs": [],
   "source": [
    "#reset opcji\n",
    "options = webdriver.FirefoxOptions()"
   ]
  },
  {
   "cell_type": "markdown",
   "metadata": {},
   "source": [
    "### WebDriver Service"
   ]
  },
  {
   "cell_type": "markdown",
   "metadata": {},
   "source": [
    "Klasa z ustawieniami technicznymi dla WebDrivera, takie jak lokalizacja, port do użycia i które argumenty zostają przekazane do wiersza poleceń.\n",
    "\n",
    "Podobnie jak opcje, przekazuje się je do konstruktora WebDrivera poprzez argument, tutaj keyword `service`."
   ]
  },
  {
   "cell_type": "code",
   "execution_count": null,
   "metadata": {},
   "outputs": [],
   "source": [
    "service = webdriver.FirefoxService()\n",
    "driver = webdriver.Firefox(service = service)"
   ]
  },
  {
   "cell_type": "markdown",
   "metadata": {},
   "source": [
    "#### Ścieżka do Drivera\n",
    "\n",
    "W wersji Selenium 4.6 i wyżej, nie jest potrzebne wskazywanie lokalizacji Drivera. Jednak w razie braku możliwości update'u lub z innego powodu, można ją ustawić w instancji przez argument `executable_path`."
   ]
  },
  {
   "cell_type": "code",
   "execution_count": null,
   "metadata": {},
   "outputs": [],
   "source": [
    "path = './path/to/driver'\n",
    "service = webdriver.FirefoxService(executable_path = path) # oczywiście nie zadziała ;P"
   ]
  },
  {
   "cell_type": "markdown",
   "metadata": {},
   "source": [
    "#### Docelowe miejsce logowania\n",
    "\n",
    "Aby wskazać plik, do którego chcemy wysyłać informacje logowane od WebDrivera, można to wskazać używając argumentu `log_path`. Jeśli chcemy, aby logi pojawiały się w wierszu konsoli, możemy to wskazać poprzez `subprocess.STDOUT` (z pakietu `subprocess`)"
   ]
  },
  {
   "cell_type": "code",
   "execution_count": null,
   "metadata": {},
   "outputs": [],
   "source": [
    "import subprocess\n",
    "service = webdriver.FirefoxService(log_output = subprocess.STDOUT)"
   ]
  },
  {
   "cell_type": "markdown",
   "metadata": {},
   "source": [
    "#### `service_args`\n",
    "\n",
    "Aby wskazać jakie rodzaje logów mają być zapisywane we wskazanym miejscu i czy mają być one skracane, możemy przekazać listę argumentów wskazujących poziomy logów (np. debug, trace, info) po parametrze `--log`. Dodatkowo, przekazując parametr `--log-not-truncate`, żeby przesłać pełne dane ze strumienia logów."
   ]
  },
  {
   "cell_type": "code",
   "execution_count": null,
   "metadata": {},
   "outputs": [],
   "source": [
    "service = webdriver.FirefoxService(service_args = ['--log-no-truncate', '--log', 'debug', 'info'])"
   ]
  },
  {
   "cell_type": "markdown",
   "metadata": {},
   "source": [
    "### Elementy specyficzne dla Firefox'a"
   ]
  },
  {
   "cell_type": "markdown",
   "metadata": {},
   "source": [
    "#### Profile\n",
    "\n",
    "Firefox pozwala na utworzenie profili zawierających informacje odnośnie haseł, ustawień i tym podobnych. Należy skorzystać tutaj z instancji klasy `FirefoxProfile` i z metody `set_preference` do dodania danych ustawień/preferencji. "
   ]
  },
  {
   "cell_type": "code",
   "execution_count": null,
   "metadata": {},
   "outputs": [],
   "source": [
    "options = webdriver.FirefoxOptions()\n",
    "firefox_profile = webdriver.FirefoxProfile()\n",
    "firefox_profile.set_preference(\"javascript.enabled\", False)\n",
    "options.profile = firefox_profile"
   ]
  },
  {
   "cell_type": "markdown",
   "metadata": {},
   "source": [
    "W serwisie można jako argument w `service_args` przekazać ścieżkę do eksportowanego profilu."
   ]
  },
  {
   "cell_type": "code",
   "execution_count": null,
   "metadata": {},
   "outputs": [],
   "source": [
    "temp_dir = './path/to/profile'\n",
    "service = webdriver.FirefoxService(service_args = ['--profile-root', temp_dir]) # oczywiście nie zadziała tutaj"
   ]
  },
  {
   "cell_type": "markdown",
   "metadata": {},
   "source": [
    "#### Dodatki\n",
    "\n",
    "Do przeglądarki Firefox na czas testów można zainstalować dodatki, poprzez pliki o rozszerzeniu `xpi`. Metody `install_addon` i `uninstall_addon` pozwalają na instalację i deinstalację danego dodatku, w przypadku instalacji potrzebna jest ścieżka do pliku, do deinstalacji musimy odnaleźć id dodatku. \n",
    "\n",
    "Ponadto, możemy zaznaczyć jak wtyczka nie jest zatwierdzona lub jak chcemy zainstalować wtyczkę tylko tymczasowo. Wtedy musimy nastawić parametr `temporary` na `True`.|"
   ]
  },
  {
   "cell_type": "code",
   "execution_count": null,
   "metadata": {},
   "outputs": [],
   "source": [
    "id = driver.install_addon(\"path/to/addon\")\n",
    "driver.uninstall_addon(id)"
   ]
  },
  {
   "cell_type": "markdown",
   "metadata": {},
   "source": [
    "#### Zrzuty ekranu\n",
    "\n",
    "Można wykonać zrzut ekranu i zapisać do wskazanego miejsca poprzez metodę `save_full_page_screenshot`."
   ]
  },
  {
   "cell_type": "code",
   "execution_count": null,
   "metadata": {},
   "outputs": [],
   "source": [
    "driver.save_full_page_screenshot(\"screenshot.png\")"
   ]
  },
  {
   "cell_type": "markdown",
   "metadata": {},
   "source": [
    "### Ustawienia specyficzne dla Chrome"
   ]
  },
  {
   "cell_type": "markdown",
   "metadata": {},
   "source": [
    "- argument passing for options\n",
    "- log file features\n",
    "- Chrome Cast\n",
    "- komentarz że powyższe rzeczy również dostępne w Edge (plus w edge jest Internet Explorer Compatibility Mode)"
   ]
  },
  {
   "cell_type": "markdown",
   "metadata": {},
   "source": [
    "## Elementy strony - narzędzia do scrapowania i nie tylko"
   ]
  },
  {
   "cell_type": "markdown",
   "metadata": {},
   "source": [
    "- Znajdowanie elementów\n",
    "    - Strategie lokalizujące\n",
    "        - Tradycyjne lokatory (By.x)\n",
    "        - Inne lokatory\n",
    "        - Lokatory względne (nad, pod elementem)\n",
    "    - Znajdowanie jednego elementu\n",
    "    - Znajdowanie wielu elementów\n",
    "    - Nestowane elementy\n",
    "    - Aktywny element\n",
    "- Podstawowe interakcje z elementami\n",
    "    - Click\n",
    "    - SendKeys\n",
    "        - Dodatkowa informacja o sposobie wysyłania plików\n",
    "    - Clear\n",
    "    - Submit\n",
    "    - Select\n",
    "- Informacje o elementach\n",
    "    - czy wyświetlone, włączone, zaznaczone\n",
    "    - pozycja/rozmiar elementu\n",
    "    - wartość określonego parametru css\n",
    "    - zawartość tekstowa\n",
    "    - wartość określonego atrybutu HTMLowego"
   ]
  },
  {
   "cell_type": "markdown",
   "metadata": {},
   "source": [
    "### Przerwy - instrukcje czekania"
   ]
  },
  {
   "cell_type": "markdown",
   "metadata": {},
   "source": [
    "- implicit wait (określony czas)\n",
    "- explicit wait (warunkowy)\n",
    "    - dodatkowe argumenty do WebDriverWait"
   ]
  },
  {
   "cell_type": "markdown",
   "metadata": {},
   "source": [
    "## Interakcje z przeglądarką"
   ]
  },
  {
   "cell_type": "markdown",
   "metadata": {},
   "source": [
    "- tytuł i URL\n",
    "- nawigacja stron\n",
    "    - przez wskazanie adresu\n",
    "    - back\n",
    "    - forward\n",
    "    - refresh\n",
    "- Javascriptowe pop-upy\n",
    "    - alerty\n",
    "    - confirm\n",
    "    - prompt\n",
    "- Ciasteczka\n",
    "    - dodanie\n",
    "    - wyciągnięcie konkretnego\n",
    "    - wyciągnięcie wszystkich\n",
    "    - usunięcie konkretnego\n",
    "    - usunięcie wszystkich\n",
    "    - atrybut same-site\n",
    "- Drukowanie strony\n",
    "    - instancja PrintOptions\n",
    "    - orientacja\n",
    "    - zakres stron\n",
    "    - rozmiar\n",
    "    - marginesy\n",
    "    - skala\n",
    "    - tło\n",
    "    - zmniejszenie do dopasowania\n",
    "    - drukowanie\n",
    "- Okna/karta (dla selenium to jest to samo)\n",
    "    - aktualne okno\n",
    "    - zmiana okna\n",
    "    - zamknięcie okna\n",
    "    - otwarcie nowego okna\n",
    "    - zarządzanie oknem i jego właściwościami\n",
    "        - get wielkość okna\n",
    "        - set wielkość okna\n",
    "        - get pozycję okna\n",
    "        - set pozycję okna\n",
    "        - maksymalizuj/minimalizuj okno\n",
    "        - fullscreen\n",
    "        - zrzut ekranu lub danego elementu\n",
    "        - wykonanie skryptu JSowego\n",
    "- Wirtualne uwierzytelnianie\n",
    "    - dodanie nowego uwierzytelnienia\n",
    "    - usnięcie uwierzytelnienia\n",
    "    - tworzenie stateful/stateless poświadczenia\n",
    "    - dodanie poświadczenia\n",
    "    - otrzymanie danego poświadczenia\n",
    "    - usunięcie jednego/wszystkich poświadczeń\n",
    "    - ustawienie symulacji sukcesu/porażki przy autoryzacji\n"
   ]
  },
  {
   "cell_type": "markdown",
   "metadata": {},
   "source": [
    "## Actions API - mimika zachowania użytkownika\n",
    "Jest to niskopoziomowy interfejs, pozwalający symulować działania urządzeń wejściowych w przeglądarce.\n",
    "\n",
    "Możliwości:\n",
    "- Sterowanie zachowaniem (mysz, klawiatura, ...) i tworzenie pojedyńczych **akcji** (np. przesunięcie, wpisanie tekstu, ...).\n",
    "- Łączenie akcji w **łańcuchy** i ich wspólne wykonanie przez `.perform()`.\n",
    "\n",
    "Od Selenium 4.2 dodano wsparcie dla akcji przewijania *(wheel actions*)."
   ]
  },
  {
   "cell_type": "markdown",
   "metadata": {},
   "source": [
    "#### Klawiatura"
   ]
  },
  {
   "cell_type": "code",
   "execution_count": null,
   "metadata": {},
   "outputs": [],
   "source": [
    "# otwarcie przeglądarki\n",
    "driver = webdriver.Firefox()\n",
    "driver.get(\"https://the-internet.herokuapp.com/key_presses\")"
   ]
  },
  {
   "cell_type": "code",
   "execution_count": 40,
   "metadata": {},
   "outputs": [],
   "source": [
    "# pobranie elementu\n",
    "poleSzukaj = driver.find_element(By.ID, \"target\")\n",
    "\n",
    "# użycie send_keys() do wpisania tekstu\n",
    "poleSzukaj.send_keys(\"Pajtoon\")"
   ]
  },
  {
   "cell_type": "code",
   "execution_count": 106,
   "metadata": {},
   "outputs": [],
   "source": [
    "# wysłanie BACKSPACE trzykrotnie\n",
    "poleSzukaj.send_keys(Keys.BACKSPACE * 3)"
   ]
  },
  {
   "cell_type": "markdown",
   "metadata": {},
   "source": [
    "#### `key_down()` oraz `key_up()`"
   ]
  },
  {
   "cell_type": "markdown",
   "metadata": {},
   "source": [
    "wpisanie liter w pole tekstowe"
   ]
  },
  {
   "cell_type": "code",
   "execution_count": 107,
   "metadata": {},
   "outputs": [],
   "source": [
    "# użycie ActionChains\n",
    "actions = webdriver.ActionChains(driver)\n",
    "\n",
    "# r + SHIFT + m + [SHIFT off]+ s\n",
    "actions.send_keys(\"r\").key_down(Keys.SHIFT).send_keys(\"m\").key_up(Keys.SHIFT).send_keys(\"s\").perform()"
   ]
  },
  {
   "cell_type": "markdown",
   "metadata": {},
   "source": [
    "otwarcie linku w nowej karcie"
   ]
  },
  {
   "cell_type": "code",
   "execution_count": 5,
   "metadata": {},
   "outputs": [],
   "source": [
    "from selenium.webdriver.common.keys import Keys"
   ]
  },
  {
   "cell_type": "code",
   "execution_count": 109,
   "metadata": {},
   "outputs": [],
   "source": [
    "# pobranie elementu z linkiem\n",
    "link = driver.find_element(By.CSS_SELECTOR, \"img[alt='Fork me on GitHub']\")\n",
    "\n",
    "# otwarcie linku w nowej karcie\n",
    "actions.key_down(Keys.CONTROL).click(link).key_up(Keys.CONTROL).perform()"
   ]
  },
  {
   "cell_type": "code",
   "execution_count": 111,
   "metadata": {},
   "outputs": [],
   "source": [
    "actions.click(poleSzukaj)  # żeby aktywować pole\n",
    "\n",
    "actions.key_down(Keys.CONTROL).send_keys('a').key_up(Keys.CONTROL)  # zaznacz wszystko\n",
    "actions.key_down(Keys.CONTROL).send_keys('c').key_up(Keys.CONTROL)  # kopiuj\n",
    "actions.key_down(Keys.CONTROL).send_keys('v').send_keys('v').key_up(Keys.CONTROL)  # wklej 2x\n",
    "\n",
    "actions.perform()"
   ]
  },
  {
   "cell_type": "markdown",
   "metadata": {},
   "source": [
    "#### Mysz\n",
    "- click_and_release\n",
    "- click_and_hold\n",
    "- context_click (right click)\n",
    "- back_click\n",
    "- forward_click\n",
    "- double_click\n",
    "- move_to_element (bez i z offsetem)\n",
    "- move_to_location\n",
    "- move_by_offset (od kursora)\n",
    "- drag_and_drop\n",
    "- drag_and_drop_by_offset"
   ]
  },
  {
   "cell_type": "markdown",
   "metadata": {},
   "source": [
    "#### Scroll\n",
    "- to element\n",
    "- by amount\n",
    "- to element by amount\n",
    "- from offset by amount\n",
    "- from element with offset by amount"
   ]
  },
  {
   "cell_type": "markdown",
   "metadata": {},
   "source": [
    "#### Proxy\n",
    "\n",
    "Ustawienie serwera proxy. Przyjmuje takie argumenty jak np. adresy serwerów różnego rodzaju, autodetekcję czy jej typ. Dostępne typy:\n",
    "- `DIRECT` - bezpośrednie połączenie\n",
    "- `MANUAL` - manualne ustawienie proxy (np. dla serwera http)\n",
    "- `PAC` - autokonfiguracja z URL\n",
    "- `AUTODETECT` - autodetekcja\n",
    "- `SYSTEM` - użycie ustawień systemowych"
   ]
  },
  {
   "cell_type": "markdown",
   "metadata": {},
   "source": [
    "## Praktyki dobrego testowania\n",
    "\n",
    "- Strategie\n",
    "    - LoadableComponent (klasa testów)\n",
    "    - Bot Pattern (klasa z metodami rozszerzającymi działanie czystego API Selenium dla danego przypadku)\n",
    "- Typy testów\n",
    "    - testy funkcjonalne\n",
    "    - testy akceptacji\n",
    "    - testy integracji\n",
    "    - testy systemowe\n",
    "    - testy performance'owe\n",
    "        - testy z odpowiednim obciążeniem\n",
    "        - stress testy\n",
    "    - testy regresyjne\n",
    "- Wspierane\n",
    "    - użycie obiektów stron\n",
    "    - DSL\n",
    "    - przygotowanie stanu aplikacji do testowania bez użycia Selenium\n",
    "    - mockowanie zewnętrznych zależności\n",
    "    - rozszerzenie raportów przez inne narzędzia\n",
    "    - izolacja testów od siebie\n",
    "    - wskazówki odnośnie selektorów\n",
    "    - niezależność testów\n",
    "    - fluent API\n",
    "    - każdy test od czystego bazowego stanu\n",
    "- Odradzane\n",
    "    - nie testować CAPTCHy \\\\\\XFFFFDD\n",
    "    - postęp pobierania plików nie jest widoczny\n",
    "    - nie należy testować kodów HTTP, nie jest to ważne\n",
    "    - logowanie się poprzez FB,Google etc z WebDriverem niewskazane\n",
    "    - raczej nie do testowania performance'u\n",
    "    - nie do link spideringu - przełażeniu po linkach (wolna biblioteka)\n",
    "    - 2FA bez automatyzacji"
   ]
  },
  {
   "cell_type": "markdown",
   "metadata": {},
   "source": []
  }
 ],
 "metadata": {
  "kernelspec": {
   "display_name": ".venv",
   "language": "python",
   "name": "python3"
  },
  "language_info": {
   "codemirror_mode": {
    "name": "ipython",
    "version": 3
   },
   "file_extension": ".py",
   "mimetype": "text/x-python",
   "name": "python",
   "nbconvert_exporter": "python",
   "pygments_lexer": "ipython3",
   "version": "3.12.1"
  }
 },
 "nbformat": 4,
 "nbformat_minor": 2
}
