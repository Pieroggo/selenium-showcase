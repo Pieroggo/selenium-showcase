{
 "cells": [
  {
   "cell_type": "markdown",
   "metadata": {},
   "source": [
    "# Selenium"
   ]
  },
  {
   "cell_type": "markdown",
   "metadata": {},
   "source": [
    "Biblioteka do automatyzacji działań w przeglądarkach internetowych. Głównie służąca do scrapowania informacji ze stron internetowych oraz do automatyzacji testów (black-box tests)."
   ]
  },
  {
   "cell_type": "markdown",
   "metadata": {},
   "source": [
    "### Import bibliotek"
   ]
  },
  {
   "cell_type": "code",
   "execution_count": 5,
   "metadata": {},
   "outputs": [],
   "source": [
    "import selenium as se\n",
    "from selenium import webdriver\n",
    "from selenium.webdriver.common.by import By\n",
    "from selenium.webdriver.common.keys import Keys\n",
    "import time"
   ]
  },
  {
   "cell_type": "markdown",
   "metadata": {},
   "source": [
    "## Prosty przykład działania"
   ]
  },
  {
   "cell_type": "markdown",
   "metadata": {},
   "source": [
    "Utworzenie instancji WebDriver dla przeglądarki Firefox i uruchomienie strony Google"
   ]
  },
  {
   "cell_type": "code",
   "execution_count": 21,
   "metadata": {},
   "outputs": [],
   "source": [
    "driver = webdriver.Firefox()\n",
    "driver.get(\"https://www.google.com\")"
   ]
  },
  {
   "cell_type": "markdown",
   "metadata": {},
   "source": [
    "Wyszukanie elementu po poniższym ID oraz kliknięcie w ten element (guzik \"Odrzuć\")"
   ]
  },
  {
   "cell_type": "code",
   "execution_count": 22,
   "metadata": {},
   "outputs": [],
   "source": [
    "odrzuc = driver.find_element(By.ID, \"W0wltc\")\n",
    "odrzuc.click()"
   ]
  },
  {
   "cell_type": "markdown",
   "metadata": {},
   "source": [
    "Znalezienie pola wyszukiwania po id (sposób z selektorem CSS), przesłanie słowa Python do pola i przesłanie formularza (w tym przypadku przesłanie frazy do wyszukania) "
   ]
  },
  {
   "cell_type": "code",
   "execution_count": 23,
   "metadata": {},
   "outputs": [],
   "source": [
    "poleWyszukiwania = driver.find_element(By.CSS_SELECTOR, \"#APjFqb\")\n",
    "poleWyszukiwania.send_keys(\"Python\")\n",
    "poleWyszukiwania.submit()"
   ]
  },
  {
   "cell_type": "markdown",
   "metadata": {},
   "source": [
    "Zamknięcie przeglądarki"
   ]
  },
  {
   "cell_type": "code",
   "execution_count": 24,
   "metadata": {},
   "outputs": [],
   "source": [
    "driver.quit()"
   ]
  },
  {
   "cell_type": "markdown",
   "metadata": {},
   "source": [
    "## WebDriver"
   ]
  },
  {
   "cell_type": "markdown",
   "metadata": {},
   "source": [
    "Klasa do zarządzania sesją przeglądarki. Używając instancji tej klasy możemy:\n",
    "- otworzyć daną stronę\n",
    "- zczytać dane ze strony (scrapowanie)\n",
    "- wejść w interakcję ze stroną\n",
    "- zamknąć/przełączyć okna przeglądarki"
   ]
  },
  {
   "cell_type": "markdown",
   "metadata": {},
   "source": [
    "Aktualnie wspierane przeglądarki do automatyzacji z użyciem Selenium to Chrome, Edge, Firefox, Internet Exploder i Safari. Każda przeglądarka posiada swoją instancję WebDrivera, np. `Edge()` dla przeglądarki Microsoft Edge."
   ]
  },
  {
   "cell_type": "code",
   "execution_count": 25,
   "metadata": {},
   "outputs": [],
   "source": [
    "driver = webdriver.Edge() # przeglądarka Edge"
   ]
  },
  {
   "cell_type": "markdown",
   "metadata": {},
   "source": [
    "### WebDriver Options\n",
    "\n",
    "Klasa do ustawienia opcji dla danego WebDrivera. Każda przeglądarka posiada swoją własną klasę opcji - wszystkie posiadają część wspólnych ustawień jak i również te specyficzne dla danej przeglądarki. \n",
    "\n",
    "Instację opcji Edge'a i Chrome'a tworzy się przy pomocy funkcji `get_default_edge_options()` lub `get_default_chrome_options()`, dla reszty przeglądarek korzysta się z konstruktora odpowiednich klas (dla Firefoxa, `FirefoxOptions()`).\n",
    "\n",
    "Aby zmodyfikować opcje, należy zmienić wartości w słowniku `capabilities` lub zmienić wartość pola (dla niektórych pól)."
   ]
  },
  {
   "cell_type": "code",
   "execution_count": 26,
   "metadata": {},
   "outputs": [
    {
     "name": "stdout",
     "output_type": "stream",
     "text": [
      "{'browserName': 'firefox', 'acceptInsecureCerts': True, 'moz:debuggerAddress': True, 'pageLoadStrategy': <PageLoadStrategy.normal: 'normal'>, 'browserVersion': None, 'moz:firefoxOptions': {'binary': 'C:\\\\Users\\\\dawid\\\\AppData\\\\Local\\\\Mozilla Firefox\\\\firefox.exe'}}\n"
     ]
    }
   ],
   "source": [
    "options = webdriver.FirefoxOptions()\n",
    "driver = webdriver.Firefox(options = options)\n",
    "print(options.capabilities)"
   ]
  },
  {
   "cell_type": "markdown",
   "metadata": {},
   "source": [
    "Opcje domyślnie (widoczny powyżej) składają się z poniższych ustawień:\n",
    "- `browserName` - nazwa wyszukiwarki\n",
    "- `acceptInsecureCerts` - jeśli jest `False`, zwraca błąd przy nawigacji strony z przedawnionym lub niewłaściwym certyfikatem TLS\n",
    "- `moz:debuggerAddress` - specjalny parametr Firefoxa - wskazuje czy uruchomić server do debugowania przy starcie WebDrivera\n",
    "- `pageLoadStrategy` - strategia ładowania strony:\n",
    "    - `normal` - czeka na załadowanie się całej strony\n",
    "    - `eager` - aktywuje się gdy jest dostęp do pełnej strony od strony html, ale inne elementy nieinteraktywne np. obrazy mogą być w trakcie ładowania\n",
    "    - `none` - nie czeka, webDriver kontynuuje działanie od razu\n",
    "    \n",
    "    Bazuje na stanie parametru DOM `document.readyState`.\n",
    "- `browserVersion` - wersja przeglądarki, opcjonalnie\n",
    "- opcja na specyficzne ustawienia, tutaj `moz:firefoxOptions`:\n",
    "    - `binary` - określa ścieżkę do przeglądarki\n",
    "    - `prefs` - preferncje profilu, tutaj ustawienie odnośnie wyboru aktywnego protokołu\n"
   ]
  },
  {
   "cell_type": "markdown",
   "metadata": {},
   "source": [
    "#### Timeouts"
   ]
  },
  {
   "cell_type": "markdown",
   "metadata": {},
   "source": [
    "Można dodatkowo ustawić różne interwały czasu, w których skrypt ma wykonać określoną czynność. Są 3 rodzaje:\n",
    "- `script` - interwał czasu na wykonanie skryptu w danym kontekście, domyślnie ustawiony na 30 sekund\n",
    "- `pageLoad` - interwał czasu na załadowanie strony, domyślnie 5 minut\n",
    "- `implicit` - interwał czasu na znalezienie wskazanego elementu na stronie, domyślnie opcja ustawiona na 0 (minimalny czas)"
   ]
  },
  {
   "cell_type": "code",
   "execution_count": 27,
   "metadata": {},
   "outputs": [
    {
     "name": "stdout",
     "output_type": "stream",
     "text": [
      "{'browserName': 'firefox', 'acceptInsecureCerts': True, 'moz:debuggerAddress': True, 'pageLoadStrategy': <PageLoadStrategy.normal: 'normal'>, 'browserVersion': None, 'moz:firefoxOptions': {'binary': 'C:\\\\Users\\\\dawid\\\\AppData\\\\Local\\\\Mozilla Firefox\\\\firefox.exe'}, 'timeouts': {'script': 10000, 'pageLoad': 50000, 'implicit': 100}}\n"
     ]
    }
   ],
   "source": [
    "options.timeouts = {'script': 10000,'pageLoad': 50000,'implicit': 100}\n",
    "print(options.capabilities)"
   ]
  },
  {
   "cell_type": "markdown",
   "metadata": {},
   "source": [
    "#### unhandledPromptBehivour"
   ]
  },
  {
   "cell_type": "markdown",
   "metadata": {},
   "source": [
    "Parametr określający akcję do wykonania przy natrafieniu pop-upu lub okienek potwierdzenia. Dostępne są poniższe stany:\n",
    "- `dismiss` - automatyczne odrzucenie\n",
    "- `accept` - automatyczne zatwierdzenie\n",
    "- `dismiss and notify` - automatyczne odrzucenie i powiadomienie webDrivera\n",
    "- `accept and notify` - automatyczne zatwierdzenie i powiadomienie webDrivera\n",
    "- `ignore` - zignorowanie"
   ]
  },
  {
   "cell_type": "code",
   "execution_count": 28,
   "metadata": {},
   "outputs": [
    {
     "name": "stdout",
     "output_type": "stream",
     "text": [
      "{'browserName': 'firefox', 'acceptInsecureCerts': True, 'moz:debuggerAddress': True, 'pageLoadStrategy': <PageLoadStrategy.normal: 'normal'>, 'browserVersion': None, 'moz:firefoxOptions': {'binary': 'C:\\\\Users\\\\dawid\\\\AppData\\\\Local\\\\Mozilla Firefox\\\\firefox.exe'}, 'timeouts': {'script': 10000, 'pageLoad': 50000, 'implicit': 100}, 'unhandledPromptBehavior': 'accept'}\n"
     ]
    }
   ],
   "source": [
    "options.unhandled_prompt_behavior = 'accept'\n",
    "print(options.capabilities)"
   ]
  },
  {
   "cell_type": "markdown",
   "metadata": {},
   "source": [
    "#### setWindowRect\n",
    "\n",
    "Wskazuje, czy przeglądarka wspiera wszystkie komendy do zmiany lokalizacji i rozmiaru"
   ]
  },
  {
   "cell_type": "code",
   "execution_count": 29,
   "metadata": {},
   "outputs": [
    {
     "name": "stdout",
     "output_type": "stream",
     "text": [
      "{'browserName': 'firefox', 'acceptInsecureCerts': True, 'moz:debuggerAddress': True, 'pageLoadStrategy': <PageLoadStrategy.normal: 'normal'>, 'browserVersion': None, 'moz:firefoxOptions': {'binary': 'C:\\\\Users\\\\dawid\\\\AppData\\\\Local\\\\Mozilla Firefox\\\\firefox.exe'}, 'timeouts': {'script': 10000, 'pageLoad': 50000, 'implicit': 100}, 'unhandledPromptBehavior': 'accept', 'setWindowRect': True}\n"
     ]
    }
   ],
   "source": [
    "options.set_window_rect = True\n",
    "print(options.capabilities)"
   ]
  },
  {
   "cell_type": "markdown",
   "metadata": {},
   "source": [
    "#### strictFileInteractibility\n",
    "\n",
    "Parametr wskazujący, czy na wszelkie pola do przesłania plików (`<input type=\"file\">`) mają być dodatkowo sprawdzane pod kątem widoczności i dostępności. Przy ustawieniu wartości na `False`, webDriver będzie mógł przesłać plik pomimo schowania/zablokowania dostępu do przesłania dla zwykłego użytkownika."
   ]
  },
  {
   "cell_type": "code",
   "execution_count": 30,
   "metadata": {},
   "outputs": [
    {
     "name": "stdout",
     "output_type": "stream",
     "text": [
      "{'browserName': 'firefox', 'acceptInsecureCerts': True, 'moz:debuggerAddress': True, 'pageLoadStrategy': <PageLoadStrategy.normal: 'normal'>, 'browserVersion': None, 'moz:firefoxOptions': {'binary': 'C:\\\\Users\\\\dawid\\\\AppData\\\\Local\\\\Mozilla Firefox\\\\firefox.exe'}, 'timeouts': {'script': 10000, 'pageLoad': 50000, 'implicit': 100}, 'unhandledPromptBehavior': 'accept', 'setWindowRect': True, 'strictFileInteractability': True}\n"
     ]
    }
   ],
   "source": [
    "options.strict_file_interactability = True\n",
    "print(options.capabilities)"
   ]
  },
  {
   "cell_type": "markdown",
   "metadata": {},
   "source": [
    "#### Proxy\n",
    "\n",
    "Ustawienie serwera proxy. Przyjmuje takie argumenty jak np. adresy serwerów różnego rodzaju, autodetekcję czy jej typ. Dostępne typy:\n",
    "- `DIRECT` - bezpośrednie połączenie\n",
    "- `MANUAL` - manualne ustawienie proxy (np. dla serwera http)\n",
    "- `PAC` - autokonfiguracja z URL\n",
    "- `AUTODETECT` - autodetekcja\n",
    "- `SYSTEM` - użycie ustawień systemowych"
   ]
  },
  {
   "cell_type": "code",
   "execution_count": 31,
   "metadata": {},
   "outputs": [
    {
     "name": "stdout",
     "output_type": "stream",
     "text": [
      "{'browserName': 'firefox', 'acceptInsecureCerts': True, 'moz:debuggerAddress': True, 'pageLoadStrategy': <PageLoadStrategy.normal: 'normal'>, 'browserVersion': None, 'moz:firefoxOptions': {'binary': 'C:\\\\Users\\\\dawid\\\\AppData\\\\Local\\\\Mozilla Firefox\\\\firefox.exe'}, 'timeouts': {'script': 10000, 'pageLoad': 50000, 'implicit': 100}, 'unhandledPromptBehavior': 'accept', 'setWindowRect': True, 'strictFileInteractability': True, 'proxy': {'proxyType': 'manual', 'httpProxy': '127.0.0.1:6942'}}\n"
     ]
    }
   ],
   "source": [
    "from selenium.webdriver.common.proxy import Proxy,ProxyType\n",
    "options.proxy = Proxy({'proxyType':ProxyType.MANUAL,'httpProxy': '127.0.0.1:6942'})\n",
    "print(options.capabilities)"
   ]
  },
  {
   "cell_type": "code",
   "execution_count": 32,
   "metadata": {},
   "outputs": [],
   "source": [
    "#reset opcji\n",
    "options = webdriver.FirefoxOptions()"
   ]
  },
  {
   "cell_type": "markdown",
   "metadata": {},
   "source": [
    "### WebDriver Service"
   ]
  },
  {
   "cell_type": "markdown",
   "metadata": {},
   "source": [
    "Klasa z ustawieniami technicznymi dla WebDrivera, takie jak lokalizacja, port do użycia i które argumenty zostają przekazane do wiersza poleceń.\n",
    "\n",
    "Podobnie jak opcje, przekazuje się je do konstruktora WebDrivera poprzez argument, tutaj keyword `service`."
   ]
  },
  {
   "cell_type": "code",
   "execution_count": 33,
   "metadata": {},
   "outputs": [],
   "source": [
    "service = webdriver.FirefoxService()\n",
    "driver = webdriver.Firefox(service = service)"
   ]
  },
  {
   "cell_type": "markdown",
   "metadata": {},
   "source": [
    "#### Ścieżka do Drivera\n",
    "\n",
    "W wersji Selenium 4.6 i wyżej, nie jest potrzebne wskazywanie lokalizacji Drivera. Jednak w razie braku możliwości update'u lub z innego powodu, można ją ustawić w instancji przez argument `executable_path`."
   ]
  },
  {
   "cell_type": "code",
   "execution_count": null,
   "metadata": {},
   "outputs": [],
   "source": [
    "path = './path/to/driver'\n",
    "service = webdriver.FirefoxService(executable_path = path) # oczywiście nie zadziała ;P"
   ]
  },
  {
   "cell_type": "markdown",
   "metadata": {},
   "source": [
    "#### Docelowe miejsce logowania\n",
    "\n",
    "Aby wskazać plik, do którego chcemy wysyłać informacje logowane od WebDrivera, można to wskazać używając argumentu `log_path`. Jeśli chcemy, aby logi pojawiały się w wierszu konsoli, możemy to wskazać poprzez `subprocess.STDOUT` (z pakietu `subprocess`)"
   ]
  },
  {
   "cell_type": "code",
   "execution_count": null,
   "metadata": {},
   "outputs": [],
   "source": [
    "import subprocess\n",
    "service = webdriver.FirefoxService(log_output = subprocess.STDOUT)"
   ]
  },
  {
   "cell_type": "markdown",
   "metadata": {},
   "source": [
    "#### `service_args`\n",
    "\n",
    "Aby wskazać jakie rodzaje logów mają być zapisywane we wskazanym miejscu i czy mają być one skracane, możemy przekazać listę argumentów wskazujących poziomy logów (np. debug, trace, info) po parametrze `--log`. Dodatkowo, przekazując parametr `--log-not-truncate`, żeby przesłać pełne dane ze strumienia logów."
   ]
  },
  {
   "cell_type": "code",
   "execution_count": null,
   "metadata": {},
   "outputs": [],
   "source": [
    "service = webdriver.FirefoxService(service_args = ['--log-no-truncate', '--log', 'debug', 'info'])"
   ]
  },
  {
   "cell_type": "markdown",
   "metadata": {},
   "source": [
    "### Elementy specyficzne dla Firefox'a"
   ]
  },
  {
   "cell_type": "markdown",
   "metadata": {},
   "source": [
    "#### Profile\n",
    "\n",
    "Firefox pozwala na utworzenie profili zawierających informacje odnośnie haseł, ustawień i tym podobnych. Należy skorzystać tutaj z instancji klasy `FirefoxProfile` i z metody `set_preference` do dodania danych ustawień/preferencji. "
   ]
  },
  {
   "cell_type": "code",
   "execution_count": null,
   "metadata": {},
   "outputs": [],
   "source": [
    "options = webdriver.FirefoxOptions()\n",
    "firefox_profile = webdriver.FirefoxProfile()\n",
    "firefox_profile.set_preference(\"javascript.enabled\", False)\n",
    "options.profile = firefox_profile"
   ]
  },
  {
   "cell_type": "markdown",
   "metadata": {},
   "source": [
    "W serwisie można jako argument w `service_args` przekazać ścieżkę do eksportowanego profilu."
   ]
  },
  {
   "cell_type": "code",
   "execution_count": null,
   "metadata": {},
   "outputs": [],
   "source": [
    "temp_dir = './path/to/profile'\n",
    "service = webdriver.FirefoxService(service_args = ['--profile-root', temp_dir]) # oczywiście nie zadziała tutaj"
   ]
  },
  {
   "cell_type": "markdown",
   "metadata": {},
   "source": [
    "#### Dodatki\n",
    "\n",
    "Do przeglądarki Firefox na czas testów można zainstalować dodatki, poprzez pliki o rozszerzeniu `xpi`. Metody `install_addon` i `uninstall_addon` pozwalają na instalację i deinstalację danego dodatku, w przypadku instalacji potrzebna jest ścieżka do pliku, do deinstalacji musimy odnaleźć id dodatku. \n",
    "\n",
    "Ponadto, możemy zaznaczyć jak wtyczka nie jest zatwierdzona lub jak chcemy zainstalować wtyczkę tylko tymczasowo. Wtedy musimy nastawić parametr `temporary` na `True`.|"
   ]
  },
  {
   "cell_type": "code",
   "execution_count": null,
   "metadata": {},
   "outputs": [],
   "source": [
    "id = driver.install_addon(\"path/to/addon\")\n",
    "driver.uninstall_addon(id)"
   ]
  },
  {
   "cell_type": "markdown",
   "metadata": {},
   "source": [
    "#### Zrzuty ekranu\n",
    "\n",
    "Można wykonać zrzut ekranu i zapisać do wskazanego miejsca poprzez metodę `save_full_page_screenshot`."
   ]
  },
  {
   "cell_type": "code",
   "execution_count": null,
   "metadata": {},
   "outputs": [],
   "source": [
    "driver.save_full_page_screenshot(\"screenshot.png\")"
   ]
  },
  {
   "cell_type": "markdown",
   "metadata": {},
   "source": [
    "### Ustawienia specyficzne dla Chrome"
   ]
  },
  {
   "cell_type": "markdown",
   "metadata": {},
   "source": [
    "#### Argumenty\n",
    "\n",
    "Do Chrome'a, można przekazać argumenty poprzez funkcję `add_argument`. Argumentami są flagi określające mody, w których przeglądarka będzie uruchomiona lub według których będzie odpowiednio skonfigurowana, np. `--headless` włącza okrojoną wersję strony bez UI, `--start-maximized` uruchamia okno zmaksymalizowane. \n"
   ]
  },
  {
   "cell_type": "code",
   "execution_count": 34,
   "metadata": {},
   "outputs": [],
   "source": [
    "from selenium.webdriver import ChromeOptions\n",
    "options = ChromeOptions()\n",
    "options.add_argument(\"--start-maximized\")\n"
   ]
  },
  {
   "cell_type": "markdown",
   "metadata": {},
   "source": [
    "#### Przekazywanie logów do plików\n",
    "\n",
    "Poza wskazaniem ścieżki do logów jak w Firefox, można dodać 2 dodatkowe flagi do `service_args` - `--append_log` do dodania logów na koniec pliku wskazanego, oraz `--readable-timestamp` do sformatowania wszelkich dat. Należy pamiętać o podaniu rodzajów logów logowanych, aby to zadziałało."
   ]
  },
  {
   "cell_type": "code",
   "execution_count": null,
   "metadata": {},
   "outputs": [],
   "source": [
    "log_path=subprocess.STDOUT\n",
    "service = webdriver.ChromeService(service_args=['--log','trace','--append-log', '--readable-timestamp'], log_output=log_path)"
   ]
  },
  {
   "cell_type": "markdown",
   "metadata": {},
   "source": [
    "#### Chrome Casting\n",
    "\n",
    "Chrome pozwala na dublowanie stron/zakładek poprzez Chrome Casting. Aby to wykonać, trzeba uzyskać sinki Chrome Casta i wskazać driverowi rozpoczęcie dublowania zakładek na sink o danej nazwie."
   ]
  },
  {
   "cell_type": "code",
   "execution_count": 35,
   "metadata": {},
   "outputs": [
    {
     "name": "stdout",
     "output_type": "stream",
     "text": [
      "No available Cast sinks to test with.\n"
     ]
    }
   ],
   "source": [
    "driver = webdriver.Chrome()\n",
    "try:\n",
    "    sinks = driver.get_sinks()\n",
    "    if sinks:\n",
    "        sink_name = sinks[0]['name']\n",
    "        driver.start_tab_mirroring(sink_name)\n",
    "        driver.stop_casting(sink_name)\n",
    "    else:\n",
    "        print(\"No available Cast sinks to test with.\")\n",
    "finally:\n",
    "    driver.quit()"
   ]
  },
  {
   "cell_type": "markdown",
   "metadata": {},
   "source": [
    "#### Symulacje stanów sieci\n",
    "\n",
    "Można zasymulować działanie sieci w określonych warunkach, przesyłając słownik z takimi informacjami jak np. prędkość przesyłu danych, opóźnienie etc."
   ]
  },
  {
   "cell_type": "code",
   "execution_count": 36,
   "metadata": {},
   "outputs": [
    {
     "ename": "KeyboardInterrupt",
     "evalue": "",
     "output_type": "error",
     "traceback": [
      "\u001b[31m---------------------------------------------------------------------------\u001b[39m",
      "\u001b[31mConnectionRefusedError\u001b[39m                    Traceback (most recent call last)",
      "\u001b[36mFile \u001b[39m\u001b[32mc:\\Users\\dawid\\AppData\\Local\\Programs\\Python\\Python312\\Lib\\site-packages\\urllib3\\util\\connection.py:73\u001b[39m, in \u001b[36mcreate_connection\u001b[39m\u001b[34m(address, timeout, source_address, socket_options)\u001b[39m\n\u001b[32m     72\u001b[39m     sock.bind(source_address)\n\u001b[32m---> \u001b[39m\u001b[32m73\u001b[39m \u001b[43msock\u001b[49m\u001b[43m.\u001b[49m\u001b[43mconnect\u001b[49m\u001b[43m(\u001b[49m\u001b[43msa\u001b[49m\u001b[43m)\u001b[49m\n\u001b[32m     74\u001b[39m \u001b[38;5;66;03m# Break explicitly a reference cycle\u001b[39;00m\n",
      "\u001b[31mConnectionRefusedError\u001b[39m: [WinError 10061] Nie można nawiązać połączenia, ponieważ komputer docelowy aktywnie go odmawia",
      "\nDuring handling of the above exception, another exception occurred:\n",
      "\u001b[31mKeyboardInterrupt\u001b[39m                         Traceback (most recent call last)",
      "\u001b[36mCell\u001b[39m\u001b[36m \u001b[39m\u001b[32mIn[36]\u001b[39m\u001b[32m, line 7\u001b[39m\n\u001b[32m      1\u001b[39m network_conditions = {\n\u001b[32m      2\u001b[39m     \u001b[33m\"\u001b[39m\u001b[33moffline\u001b[39m\u001b[33m\"\u001b[39m: \u001b[38;5;28;01mFalse\u001b[39;00m,\n\u001b[32m      3\u001b[39m     \u001b[33m\"\u001b[39m\u001b[33mlatency\u001b[39m\u001b[33m\"\u001b[39m: \u001b[32m20\u001b[39m,  \u001b[38;5;66;03m# w ms\u001b[39;00m\n\u001b[32m      4\u001b[39m     \u001b[33m\"\u001b[39m\u001b[33mdownload_throughput\u001b[39m\u001b[33m\"\u001b[39m: \u001b[32m2000\u001b[39m * \u001b[32m1024\u001b[39m / \u001b[32m8\u001b[39m,  \u001b[38;5;66;03m# 2000 kilobitów na sekundę (1024 to kilobajt, 8 bitów to 1 bajt, czyli de facto 128 kB na sekundę)\u001b[39;00m\n\u001b[32m      5\u001b[39m     \u001b[33m\"\u001b[39m\u001b[33mupload_throughput\u001b[39m\u001b[33m\"\u001b[39m: \u001b[32m2000\u001b[39m * \u001b[32m1024\u001b[39m / \u001b[32m8\u001b[39m,\n\u001b[32m      6\u001b[39m }\n\u001b[32m----> \u001b[39m\u001b[32m7\u001b[39m \u001b[43mdriver\u001b[49m\u001b[43m.\u001b[49m\u001b[43mset_network_conditions\u001b[49m\u001b[43m(\u001b[49m\u001b[43m*\u001b[49m\u001b[43m*\u001b[49m\u001b[43mnetwork_conditions\u001b[49m\u001b[43m)\u001b[49m\n",
      "\u001b[36mFile \u001b[39m\u001b[32mc:\\Users\\dawid\\AppData\\Local\\Programs\\Python\\Python312\\Lib\\site-packages\\selenium\\webdriver\\chromium\\webdriver.py:98\u001b[39m, in \u001b[36mChromiumDriver.set_network_conditions\u001b[39m\u001b[34m(self, **network_conditions)\u001b[39m\n\u001b[32m     81\u001b[39m \u001b[38;5;28;01mdef\u001b[39;00m\u001b[38;5;250m \u001b[39m\u001b[34mset_network_conditions\u001b[39m(\u001b[38;5;28mself\u001b[39m, **network_conditions) -> \u001b[38;5;28;01mNone\u001b[39;00m:\n\u001b[32m     82\u001b[39m \u001b[38;5;250m    \u001b[39m\u001b[33;03m\"\"\"Sets Chromium network emulation settings.\u001b[39;00m\n\u001b[32m     83\u001b[39m \n\u001b[32m     84\u001b[39m \u001b[33;03m    :Args:\u001b[39;00m\n\u001b[32m   (...)\u001b[39m\u001b[32m     96\u001b[39m \u001b[33;03m        Note: 'throughput' can be used to set both (for download and upload).\u001b[39;00m\n\u001b[32m     97\u001b[39m \u001b[33;03m    \"\"\"\u001b[39;00m\n\u001b[32m---> \u001b[39m\u001b[32m98\u001b[39m     \u001b[38;5;28;43mself\u001b[39;49m\u001b[43m.\u001b[49m\u001b[43mexecute\u001b[49m\u001b[43m(\u001b[49m\u001b[33;43m\"\u001b[39;49m\u001b[33;43msetNetworkConditions\u001b[39;49m\u001b[33;43m\"\u001b[39;49m\u001b[43m,\u001b[49m\u001b[43m \u001b[49m\u001b[43m{\u001b[49m\u001b[33;43m\"\u001b[39;49m\u001b[33;43mnetwork_conditions\u001b[39;49m\u001b[33;43m\"\u001b[39;49m\u001b[43m:\u001b[49m\u001b[43m \u001b[49m\u001b[43mnetwork_conditions\u001b[49m\u001b[43m}\u001b[49m\u001b[43m)\u001b[49m\n",
      "\u001b[36mFile \u001b[39m\u001b[32mc:\\Users\\dawid\\AppData\\Local\\Programs\\Python\\Python312\\Lib\\site-packages\\selenium\\webdriver\\remote\\webdriver.py:345\u001b[39m, in \u001b[36mWebDriver.execute\u001b[39m\u001b[34m(self, driver_command, params)\u001b[39m\n\u001b[32m    342\u001b[39m     \u001b[38;5;28;01melif\u001b[39;00m \u001b[33m\"\u001b[39m\u001b[33msessionId\u001b[39m\u001b[33m\"\u001b[39m \u001b[38;5;129;01mnot\u001b[39;00m \u001b[38;5;129;01min\u001b[39;00m params:\n\u001b[32m    343\u001b[39m         params[\u001b[33m\"\u001b[39m\u001b[33msessionId\u001b[39m\u001b[33m\"\u001b[39m] = \u001b[38;5;28mself\u001b[39m.session_id\n\u001b[32m--> \u001b[39m\u001b[32m345\u001b[39m response = \u001b[38;5;28;43mself\u001b[39;49m\u001b[43m.\u001b[49m\u001b[43mcommand_executor\u001b[49m\u001b[43m.\u001b[49m\u001b[43mexecute\u001b[49m\u001b[43m(\u001b[49m\u001b[43mdriver_command\u001b[49m\u001b[43m,\u001b[49m\u001b[43m \u001b[49m\u001b[43mparams\u001b[49m\u001b[43m)\u001b[49m\n\u001b[32m    346\u001b[39m \u001b[38;5;28;01mif\u001b[39;00m response:\n\u001b[32m    347\u001b[39m     \u001b[38;5;28mself\u001b[39m.error_handler.check_response(response)\n",
      "\u001b[36mFile \u001b[39m\u001b[32mc:\\Users\\dawid\\AppData\\Local\\Programs\\Python\\Python312\\Lib\\site-packages\\selenium\\webdriver\\remote\\remote_connection.py:302\u001b[39m, in \u001b[36mRemoteConnection.execute\u001b[39m\u001b[34m(self, command, params)\u001b[39m\n\u001b[32m    300\u001b[39m trimmed = \u001b[38;5;28mself\u001b[39m._trim_large_entries(params)\n\u001b[32m    301\u001b[39m LOGGER.debug(\u001b[33m\"\u001b[39m\u001b[38;5;132;01m%s\u001b[39;00m\u001b[33m \u001b[39m\u001b[38;5;132;01m%s\u001b[39;00m\u001b[33m \u001b[39m\u001b[38;5;132;01m%s\u001b[39;00m\u001b[33m\"\u001b[39m, command_info[\u001b[32m0\u001b[39m], url, \u001b[38;5;28mstr\u001b[39m(trimmed))\n\u001b[32m--> \u001b[39m\u001b[32m302\u001b[39m \u001b[38;5;28;01mreturn\u001b[39;00m \u001b[38;5;28;43mself\u001b[39;49m\u001b[43m.\u001b[49m\u001b[43m_request\u001b[49m\u001b[43m(\u001b[49m\u001b[43mcommand_info\u001b[49m\u001b[43m[\u001b[49m\u001b[32;43m0\u001b[39;49m\u001b[43m]\u001b[49m\u001b[43m,\u001b[49m\u001b[43m \u001b[49m\u001b[43murl\u001b[49m\u001b[43m,\u001b[49m\u001b[43m \u001b[49m\u001b[43mbody\u001b[49m\u001b[43m=\u001b[49m\u001b[43mdata\u001b[49m\u001b[43m)\u001b[49m\n",
      "\u001b[36mFile \u001b[39m\u001b[32mc:\\Users\\dawid\\AppData\\Local\\Programs\\Python\\Python312\\Lib\\site-packages\\selenium\\webdriver\\remote\\remote_connection.py:322\u001b[39m, in \u001b[36mRemoteConnection._request\u001b[39m\u001b[34m(self, method, url, body)\u001b[39m\n\u001b[32m    319\u001b[39m     body = \u001b[38;5;28;01mNone\u001b[39;00m\n\u001b[32m    321\u001b[39m \u001b[38;5;28;01mif\u001b[39;00m \u001b[38;5;28mself\u001b[39m.keep_alive:\n\u001b[32m--> \u001b[39m\u001b[32m322\u001b[39m     response = \u001b[38;5;28;43mself\u001b[39;49m\u001b[43m.\u001b[49m\u001b[43m_conn\u001b[49m\u001b[43m.\u001b[49m\u001b[43mrequest\u001b[49m\u001b[43m(\u001b[49m\u001b[43mmethod\u001b[49m\u001b[43m,\u001b[49m\u001b[43m \u001b[49m\u001b[43murl\u001b[49m\u001b[43m,\u001b[49m\u001b[43m \u001b[49m\u001b[43mbody\u001b[49m\u001b[43m=\u001b[49m\u001b[43mbody\u001b[49m\u001b[43m,\u001b[49m\u001b[43m \u001b[49m\u001b[43mheaders\u001b[49m\u001b[43m=\u001b[49m\u001b[43mheaders\u001b[49m\u001b[43m)\u001b[49m\n\u001b[32m    323\u001b[39m     statuscode = response.status\n\u001b[32m    324\u001b[39m \u001b[38;5;28;01melse\u001b[39;00m:\n",
      "\u001b[36mFile \u001b[39m\u001b[32mc:\\Users\\dawid\\AppData\\Local\\Programs\\Python\\Python312\\Lib\\site-packages\\urllib3\\_request_methods.py:144\u001b[39m, in \u001b[36mRequestMethods.request\u001b[39m\u001b[34m(self, method, url, body, fields, headers, json, **urlopen_kw)\u001b[39m\n\u001b[32m    136\u001b[39m     \u001b[38;5;28;01mreturn\u001b[39;00m \u001b[38;5;28mself\u001b[39m.request_encode_url(\n\u001b[32m    137\u001b[39m         method,\n\u001b[32m    138\u001b[39m         url,\n\u001b[32m   (...)\u001b[39m\u001b[32m    141\u001b[39m         **urlopen_kw,\n\u001b[32m    142\u001b[39m     )\n\u001b[32m    143\u001b[39m \u001b[38;5;28;01melse\u001b[39;00m:\n\u001b[32m--> \u001b[39m\u001b[32m144\u001b[39m     \u001b[38;5;28;01mreturn\u001b[39;00m \u001b[38;5;28;43mself\u001b[39;49m\u001b[43m.\u001b[49m\u001b[43mrequest_encode_body\u001b[49m\u001b[43m(\u001b[49m\n\u001b[32m    145\u001b[39m \u001b[43m        \u001b[49m\u001b[43mmethod\u001b[49m\u001b[43m,\u001b[49m\u001b[43m \u001b[49m\u001b[43murl\u001b[49m\u001b[43m,\u001b[49m\u001b[43m \u001b[49m\u001b[43mfields\u001b[49m\u001b[43m=\u001b[49m\u001b[43mfields\u001b[49m\u001b[43m,\u001b[49m\u001b[43m \u001b[49m\u001b[43mheaders\u001b[49m\u001b[43m=\u001b[49m\u001b[43mheaders\u001b[49m\u001b[43m,\u001b[49m\u001b[43m \u001b[49m\u001b[43m*\u001b[49m\u001b[43m*\u001b[49m\u001b[43murlopen_kw\u001b[49m\n\u001b[32m    146\u001b[39m \u001b[43m    \u001b[49m\u001b[43m)\u001b[49m\n",
      "\u001b[36mFile \u001b[39m\u001b[32mc:\\Users\\dawid\\AppData\\Local\\Programs\\Python\\Python312\\Lib\\site-packages\\urllib3\\_request_methods.py:279\u001b[39m, in \u001b[36mRequestMethods.request_encode_body\u001b[39m\u001b[34m(self, method, url, fields, headers, encode_multipart, multipart_boundary, **urlopen_kw)\u001b[39m\n\u001b[32m    275\u001b[39m     extra_kw[\u001b[33m\"\u001b[39m\u001b[33mheaders\u001b[39m\u001b[33m\"\u001b[39m].setdefault(\u001b[33m\"\u001b[39m\u001b[33mContent-Type\u001b[39m\u001b[33m\"\u001b[39m, content_type)\n\u001b[32m    277\u001b[39m extra_kw.update(urlopen_kw)\n\u001b[32m--> \u001b[39m\u001b[32m279\u001b[39m \u001b[38;5;28;01mreturn\u001b[39;00m \u001b[38;5;28;43mself\u001b[39;49m\u001b[43m.\u001b[49m\u001b[43murlopen\u001b[49m\u001b[43m(\u001b[49m\u001b[43mmethod\u001b[49m\u001b[43m,\u001b[49m\u001b[43m \u001b[49m\u001b[43murl\u001b[49m\u001b[43m,\u001b[49m\u001b[43m \u001b[49m\u001b[43m*\u001b[49m\u001b[43m*\u001b[49m\u001b[43mextra_kw\u001b[49m\u001b[43m)\u001b[49m\n",
      "\u001b[36mFile \u001b[39m\u001b[32mc:\\Users\\dawid\\AppData\\Local\\Programs\\Python\\Python312\\Lib\\site-packages\\urllib3\\poolmanager.py:444\u001b[39m, in \u001b[36mPoolManager.urlopen\u001b[39m\u001b[34m(self, method, url, redirect, **kw)\u001b[39m\n\u001b[32m    442\u001b[39m     response = conn.urlopen(method, url, **kw)\n\u001b[32m    443\u001b[39m \u001b[38;5;28;01melse\u001b[39;00m:\n\u001b[32m--> \u001b[39m\u001b[32m444\u001b[39m     response = \u001b[43mconn\u001b[49m\u001b[43m.\u001b[49m\u001b[43murlopen\u001b[49m\u001b[43m(\u001b[49m\u001b[43mmethod\u001b[49m\u001b[43m,\u001b[49m\u001b[43m \u001b[49m\u001b[43mu\u001b[49m\u001b[43m.\u001b[49m\u001b[43mrequest_uri\u001b[49m\u001b[43m,\u001b[49m\u001b[43m \u001b[49m\u001b[43m*\u001b[49m\u001b[43m*\u001b[49m\u001b[43mkw\u001b[49m\u001b[43m)\u001b[49m\n\u001b[32m    446\u001b[39m redirect_location = redirect \u001b[38;5;129;01mand\u001b[39;00m response.get_redirect_location()\n\u001b[32m    447\u001b[39m \u001b[38;5;28;01mif\u001b[39;00m \u001b[38;5;129;01mnot\u001b[39;00m redirect_location:\n",
      "\u001b[36mFile \u001b[39m\u001b[32mc:\\Users\\dawid\\AppData\\Local\\Programs\\Python\\Python312\\Lib\\site-packages\\urllib3\\connectionpool.py:877\u001b[39m, in \u001b[36mHTTPConnectionPool.urlopen\u001b[39m\u001b[34m(self, method, url, body, headers, retries, redirect, assert_same_host, timeout, pool_timeout, release_conn, chunked, body_pos, preload_content, decode_content, **response_kw)\u001b[39m\n\u001b[32m    872\u001b[39m \u001b[38;5;28;01mif\u001b[39;00m \u001b[38;5;129;01mnot\u001b[39;00m conn:\n\u001b[32m    873\u001b[39m     \u001b[38;5;66;03m# Try again\u001b[39;00m\n\u001b[32m    874\u001b[39m     log.warning(\n\u001b[32m    875\u001b[39m         \u001b[33m\"\u001b[39m\u001b[33mRetrying (\u001b[39m\u001b[38;5;132;01m%r\u001b[39;00m\u001b[33m) after connection broken by \u001b[39m\u001b[33m'\u001b[39m\u001b[38;5;132;01m%r\u001b[39;00m\u001b[33m'\u001b[39m\u001b[33m: \u001b[39m\u001b[38;5;132;01m%s\u001b[39;00m\u001b[33m\"\u001b[39m, retries, err, url\n\u001b[32m    876\u001b[39m     )\n\u001b[32m--> \u001b[39m\u001b[32m877\u001b[39m     \u001b[38;5;28;01mreturn\u001b[39;00m \u001b[38;5;28;43mself\u001b[39;49m\u001b[43m.\u001b[49m\u001b[43murlopen\u001b[49m\u001b[43m(\u001b[49m\n\u001b[32m    878\u001b[39m \u001b[43m        \u001b[49m\u001b[43mmethod\u001b[49m\u001b[43m,\u001b[49m\n\u001b[32m    879\u001b[39m \u001b[43m        \u001b[49m\u001b[43murl\u001b[49m\u001b[43m,\u001b[49m\n\u001b[32m    880\u001b[39m \u001b[43m        \u001b[49m\u001b[43mbody\u001b[49m\u001b[43m,\u001b[49m\n\u001b[32m    881\u001b[39m \u001b[43m        \u001b[49m\u001b[43mheaders\u001b[49m\u001b[43m,\u001b[49m\n\u001b[32m    882\u001b[39m \u001b[43m        \u001b[49m\u001b[43mretries\u001b[49m\u001b[43m,\u001b[49m\n\u001b[32m    883\u001b[39m \u001b[43m        \u001b[49m\u001b[43mredirect\u001b[49m\u001b[43m,\u001b[49m\n\u001b[32m    884\u001b[39m \u001b[43m        \u001b[49m\u001b[43massert_same_host\u001b[49m\u001b[43m,\u001b[49m\n\u001b[32m    885\u001b[39m \u001b[43m        \u001b[49m\u001b[43mtimeout\u001b[49m\u001b[43m=\u001b[49m\u001b[43mtimeout\u001b[49m\u001b[43m,\u001b[49m\n\u001b[32m    886\u001b[39m \u001b[43m        \u001b[49m\u001b[43mpool_timeout\u001b[49m\u001b[43m=\u001b[49m\u001b[43mpool_timeout\u001b[49m\u001b[43m,\u001b[49m\n\u001b[32m    887\u001b[39m \u001b[43m        \u001b[49m\u001b[43mrelease_conn\u001b[49m\u001b[43m=\u001b[49m\u001b[43mrelease_conn\u001b[49m\u001b[43m,\u001b[49m\n\u001b[32m    888\u001b[39m \u001b[43m        \u001b[49m\u001b[43mchunked\u001b[49m\u001b[43m=\u001b[49m\u001b[43mchunked\u001b[49m\u001b[43m,\u001b[49m\n\u001b[32m    889\u001b[39m \u001b[43m        \u001b[49m\u001b[43mbody_pos\u001b[49m\u001b[43m=\u001b[49m\u001b[43mbody_pos\u001b[49m\u001b[43m,\u001b[49m\n\u001b[32m    890\u001b[39m \u001b[43m        \u001b[49m\u001b[43mpreload_content\u001b[49m\u001b[43m=\u001b[49m\u001b[43mpreload_content\u001b[49m\u001b[43m,\u001b[49m\n\u001b[32m    891\u001b[39m \u001b[43m        \u001b[49m\u001b[43mdecode_content\u001b[49m\u001b[43m=\u001b[49m\u001b[43mdecode_content\u001b[49m\u001b[43m,\u001b[49m\n\u001b[32m    892\u001b[39m \u001b[43m        \u001b[49m\u001b[43m*\u001b[49m\u001b[43m*\u001b[49m\u001b[43mresponse_kw\u001b[49m\u001b[43m,\u001b[49m\n\u001b[32m    893\u001b[39m \u001b[43m    \u001b[49m\u001b[43m)\u001b[49m\n\u001b[32m    895\u001b[39m \u001b[38;5;66;03m# Handle redirect?\u001b[39;00m\n\u001b[32m    896\u001b[39m redirect_location = redirect \u001b[38;5;129;01mand\u001b[39;00m response.get_redirect_location()\n",
      "\u001b[36mFile \u001b[39m\u001b[32mc:\\Users\\dawid\\AppData\\Local\\Programs\\Python\\Python312\\Lib\\site-packages\\urllib3\\connectionpool.py:877\u001b[39m, in \u001b[36mHTTPConnectionPool.urlopen\u001b[39m\u001b[34m(self, method, url, body, headers, retries, redirect, assert_same_host, timeout, pool_timeout, release_conn, chunked, body_pos, preload_content, decode_content, **response_kw)\u001b[39m\n\u001b[32m    872\u001b[39m \u001b[38;5;28;01mif\u001b[39;00m \u001b[38;5;129;01mnot\u001b[39;00m conn:\n\u001b[32m    873\u001b[39m     \u001b[38;5;66;03m# Try again\u001b[39;00m\n\u001b[32m    874\u001b[39m     log.warning(\n\u001b[32m    875\u001b[39m         \u001b[33m\"\u001b[39m\u001b[33mRetrying (\u001b[39m\u001b[38;5;132;01m%r\u001b[39;00m\u001b[33m) after connection broken by \u001b[39m\u001b[33m'\u001b[39m\u001b[38;5;132;01m%r\u001b[39;00m\u001b[33m'\u001b[39m\u001b[33m: \u001b[39m\u001b[38;5;132;01m%s\u001b[39;00m\u001b[33m\"\u001b[39m, retries, err, url\n\u001b[32m    876\u001b[39m     )\n\u001b[32m--> \u001b[39m\u001b[32m877\u001b[39m     \u001b[38;5;28;01mreturn\u001b[39;00m \u001b[38;5;28;43mself\u001b[39;49m\u001b[43m.\u001b[49m\u001b[43murlopen\u001b[49m\u001b[43m(\u001b[49m\n\u001b[32m    878\u001b[39m \u001b[43m        \u001b[49m\u001b[43mmethod\u001b[49m\u001b[43m,\u001b[49m\n\u001b[32m    879\u001b[39m \u001b[43m        \u001b[49m\u001b[43murl\u001b[49m\u001b[43m,\u001b[49m\n\u001b[32m    880\u001b[39m \u001b[43m        \u001b[49m\u001b[43mbody\u001b[49m\u001b[43m,\u001b[49m\n\u001b[32m    881\u001b[39m \u001b[43m        \u001b[49m\u001b[43mheaders\u001b[49m\u001b[43m,\u001b[49m\n\u001b[32m    882\u001b[39m \u001b[43m        \u001b[49m\u001b[43mretries\u001b[49m\u001b[43m,\u001b[49m\n\u001b[32m    883\u001b[39m \u001b[43m        \u001b[49m\u001b[43mredirect\u001b[49m\u001b[43m,\u001b[49m\n\u001b[32m    884\u001b[39m \u001b[43m        \u001b[49m\u001b[43massert_same_host\u001b[49m\u001b[43m,\u001b[49m\n\u001b[32m    885\u001b[39m \u001b[43m        \u001b[49m\u001b[43mtimeout\u001b[49m\u001b[43m=\u001b[49m\u001b[43mtimeout\u001b[49m\u001b[43m,\u001b[49m\n\u001b[32m    886\u001b[39m \u001b[43m        \u001b[49m\u001b[43mpool_timeout\u001b[49m\u001b[43m=\u001b[49m\u001b[43mpool_timeout\u001b[49m\u001b[43m,\u001b[49m\n\u001b[32m    887\u001b[39m \u001b[43m        \u001b[49m\u001b[43mrelease_conn\u001b[49m\u001b[43m=\u001b[49m\u001b[43mrelease_conn\u001b[49m\u001b[43m,\u001b[49m\n\u001b[32m    888\u001b[39m \u001b[43m        \u001b[49m\u001b[43mchunked\u001b[49m\u001b[43m=\u001b[49m\u001b[43mchunked\u001b[49m\u001b[43m,\u001b[49m\n\u001b[32m    889\u001b[39m \u001b[43m        \u001b[49m\u001b[43mbody_pos\u001b[49m\u001b[43m=\u001b[49m\u001b[43mbody_pos\u001b[49m\u001b[43m,\u001b[49m\n\u001b[32m    890\u001b[39m \u001b[43m        \u001b[49m\u001b[43mpreload_content\u001b[49m\u001b[43m=\u001b[49m\u001b[43mpreload_content\u001b[49m\u001b[43m,\u001b[49m\n\u001b[32m    891\u001b[39m \u001b[43m        \u001b[49m\u001b[43mdecode_content\u001b[49m\u001b[43m=\u001b[49m\u001b[43mdecode_content\u001b[49m\u001b[43m,\u001b[49m\n\u001b[32m    892\u001b[39m \u001b[43m        \u001b[49m\u001b[43m*\u001b[49m\u001b[43m*\u001b[49m\u001b[43mresponse_kw\u001b[49m\u001b[43m,\u001b[49m\n\u001b[32m    893\u001b[39m \u001b[43m    \u001b[49m\u001b[43m)\u001b[49m\n\u001b[32m    895\u001b[39m \u001b[38;5;66;03m# Handle redirect?\u001b[39;00m\n\u001b[32m    896\u001b[39m redirect_location = redirect \u001b[38;5;129;01mand\u001b[39;00m response.get_redirect_location()\n",
      "\u001b[36mFile \u001b[39m\u001b[32mc:\\Users\\dawid\\AppData\\Local\\Programs\\Python\\Python312\\Lib\\site-packages\\urllib3\\connectionpool.py:877\u001b[39m, in \u001b[36mHTTPConnectionPool.urlopen\u001b[39m\u001b[34m(self, method, url, body, headers, retries, redirect, assert_same_host, timeout, pool_timeout, release_conn, chunked, body_pos, preload_content, decode_content, **response_kw)\u001b[39m\n\u001b[32m    872\u001b[39m \u001b[38;5;28;01mif\u001b[39;00m \u001b[38;5;129;01mnot\u001b[39;00m conn:\n\u001b[32m    873\u001b[39m     \u001b[38;5;66;03m# Try again\u001b[39;00m\n\u001b[32m    874\u001b[39m     log.warning(\n\u001b[32m    875\u001b[39m         \u001b[33m\"\u001b[39m\u001b[33mRetrying (\u001b[39m\u001b[38;5;132;01m%r\u001b[39;00m\u001b[33m) after connection broken by \u001b[39m\u001b[33m'\u001b[39m\u001b[38;5;132;01m%r\u001b[39;00m\u001b[33m'\u001b[39m\u001b[33m: \u001b[39m\u001b[38;5;132;01m%s\u001b[39;00m\u001b[33m\"\u001b[39m, retries, err, url\n\u001b[32m    876\u001b[39m     )\n\u001b[32m--> \u001b[39m\u001b[32m877\u001b[39m     \u001b[38;5;28;01mreturn\u001b[39;00m \u001b[38;5;28;43mself\u001b[39;49m\u001b[43m.\u001b[49m\u001b[43murlopen\u001b[49m\u001b[43m(\u001b[49m\n\u001b[32m    878\u001b[39m \u001b[43m        \u001b[49m\u001b[43mmethod\u001b[49m\u001b[43m,\u001b[49m\n\u001b[32m    879\u001b[39m \u001b[43m        \u001b[49m\u001b[43murl\u001b[49m\u001b[43m,\u001b[49m\n\u001b[32m    880\u001b[39m \u001b[43m        \u001b[49m\u001b[43mbody\u001b[49m\u001b[43m,\u001b[49m\n\u001b[32m    881\u001b[39m \u001b[43m        \u001b[49m\u001b[43mheaders\u001b[49m\u001b[43m,\u001b[49m\n\u001b[32m    882\u001b[39m \u001b[43m        \u001b[49m\u001b[43mretries\u001b[49m\u001b[43m,\u001b[49m\n\u001b[32m    883\u001b[39m \u001b[43m        \u001b[49m\u001b[43mredirect\u001b[49m\u001b[43m,\u001b[49m\n\u001b[32m    884\u001b[39m \u001b[43m        \u001b[49m\u001b[43massert_same_host\u001b[49m\u001b[43m,\u001b[49m\n\u001b[32m    885\u001b[39m \u001b[43m        \u001b[49m\u001b[43mtimeout\u001b[49m\u001b[43m=\u001b[49m\u001b[43mtimeout\u001b[49m\u001b[43m,\u001b[49m\n\u001b[32m    886\u001b[39m \u001b[43m        \u001b[49m\u001b[43mpool_timeout\u001b[49m\u001b[43m=\u001b[49m\u001b[43mpool_timeout\u001b[49m\u001b[43m,\u001b[49m\n\u001b[32m    887\u001b[39m \u001b[43m        \u001b[49m\u001b[43mrelease_conn\u001b[49m\u001b[43m=\u001b[49m\u001b[43mrelease_conn\u001b[49m\u001b[43m,\u001b[49m\n\u001b[32m    888\u001b[39m \u001b[43m        \u001b[49m\u001b[43mchunked\u001b[49m\u001b[43m=\u001b[49m\u001b[43mchunked\u001b[49m\u001b[43m,\u001b[49m\n\u001b[32m    889\u001b[39m \u001b[43m        \u001b[49m\u001b[43mbody_pos\u001b[49m\u001b[43m=\u001b[49m\u001b[43mbody_pos\u001b[49m\u001b[43m,\u001b[49m\n\u001b[32m    890\u001b[39m \u001b[43m        \u001b[49m\u001b[43mpreload_content\u001b[49m\u001b[43m=\u001b[49m\u001b[43mpreload_content\u001b[49m\u001b[43m,\u001b[49m\n\u001b[32m    891\u001b[39m \u001b[43m        \u001b[49m\u001b[43mdecode_content\u001b[49m\u001b[43m=\u001b[49m\u001b[43mdecode_content\u001b[49m\u001b[43m,\u001b[49m\n\u001b[32m    892\u001b[39m \u001b[43m        \u001b[49m\u001b[43m*\u001b[49m\u001b[43m*\u001b[49m\u001b[43mresponse_kw\u001b[49m\u001b[43m,\u001b[49m\n\u001b[32m    893\u001b[39m \u001b[43m    \u001b[49m\u001b[43m)\u001b[49m\n\u001b[32m    895\u001b[39m \u001b[38;5;66;03m# Handle redirect?\u001b[39;00m\n\u001b[32m    896\u001b[39m redirect_location = redirect \u001b[38;5;129;01mand\u001b[39;00m response.get_redirect_location()\n",
      "\u001b[36mFile \u001b[39m\u001b[32mc:\\Users\\dawid\\AppData\\Local\\Programs\\Python\\Python312\\Lib\\site-packages\\urllib3\\connectionpool.py:793\u001b[39m, in \u001b[36mHTTPConnectionPool.urlopen\u001b[39m\u001b[34m(self, method, url, body, headers, retries, redirect, assert_same_host, timeout, pool_timeout, release_conn, chunked, body_pos, preload_content, decode_content, **response_kw)\u001b[39m\n\u001b[32m    790\u001b[39m response_conn = conn \u001b[38;5;28;01mif\u001b[39;00m \u001b[38;5;129;01mnot\u001b[39;00m release_conn \u001b[38;5;28;01melse\u001b[39;00m \u001b[38;5;28;01mNone\u001b[39;00m\n\u001b[32m    792\u001b[39m \u001b[38;5;66;03m# Make the request on the HTTPConnection object\u001b[39;00m\n\u001b[32m--> \u001b[39m\u001b[32m793\u001b[39m response = \u001b[38;5;28;43mself\u001b[39;49m\u001b[43m.\u001b[49m\u001b[43m_make_request\u001b[49m\u001b[43m(\u001b[49m\n\u001b[32m    794\u001b[39m \u001b[43m    \u001b[49m\u001b[43mconn\u001b[49m\u001b[43m,\u001b[49m\n\u001b[32m    795\u001b[39m \u001b[43m    \u001b[49m\u001b[43mmethod\u001b[49m\u001b[43m,\u001b[49m\n\u001b[32m    796\u001b[39m \u001b[43m    \u001b[49m\u001b[43murl\u001b[49m\u001b[43m,\u001b[49m\n\u001b[32m    797\u001b[39m \u001b[43m    \u001b[49m\u001b[43mtimeout\u001b[49m\u001b[43m=\u001b[49m\u001b[43mtimeout_obj\u001b[49m\u001b[43m,\u001b[49m\n\u001b[32m    798\u001b[39m \u001b[43m    \u001b[49m\u001b[43mbody\u001b[49m\u001b[43m=\u001b[49m\u001b[43mbody\u001b[49m\u001b[43m,\u001b[49m\n\u001b[32m    799\u001b[39m \u001b[43m    \u001b[49m\u001b[43mheaders\u001b[49m\u001b[43m=\u001b[49m\u001b[43mheaders\u001b[49m\u001b[43m,\u001b[49m\n\u001b[32m    800\u001b[39m \u001b[43m    \u001b[49m\u001b[43mchunked\u001b[49m\u001b[43m=\u001b[49m\u001b[43mchunked\u001b[49m\u001b[43m,\u001b[49m\n\u001b[32m    801\u001b[39m \u001b[43m    \u001b[49m\u001b[43mretries\u001b[49m\u001b[43m=\u001b[49m\u001b[43mretries\u001b[49m\u001b[43m,\u001b[49m\n\u001b[32m    802\u001b[39m \u001b[43m    \u001b[49m\u001b[43mresponse_conn\u001b[49m\u001b[43m=\u001b[49m\u001b[43mresponse_conn\u001b[49m\u001b[43m,\u001b[49m\n\u001b[32m    803\u001b[39m \u001b[43m    \u001b[49m\u001b[43mpreload_content\u001b[49m\u001b[43m=\u001b[49m\u001b[43mpreload_content\u001b[49m\u001b[43m,\u001b[49m\n\u001b[32m    804\u001b[39m \u001b[43m    \u001b[49m\u001b[43mdecode_content\u001b[49m\u001b[43m=\u001b[49m\u001b[43mdecode_content\u001b[49m\u001b[43m,\u001b[49m\n\u001b[32m    805\u001b[39m \u001b[43m    \u001b[49m\u001b[43m*\u001b[49m\u001b[43m*\u001b[49m\u001b[43mresponse_kw\u001b[49m\u001b[43m,\u001b[49m\n\u001b[32m    806\u001b[39m \u001b[43m\u001b[49m\u001b[43m)\u001b[49m\n\u001b[32m    808\u001b[39m \u001b[38;5;66;03m# Everything went great!\u001b[39;00m\n\u001b[32m    809\u001b[39m clean_exit = \u001b[38;5;28;01mTrue\u001b[39;00m\n",
      "\u001b[36mFile \u001b[39m\u001b[32mc:\\Users\\dawid\\AppData\\Local\\Programs\\Python\\Python312\\Lib\\site-packages\\urllib3\\connectionpool.py:496\u001b[39m, in \u001b[36mHTTPConnectionPool._make_request\u001b[39m\u001b[34m(self, conn, method, url, body, headers, retries, timeout, chunked, response_conn, preload_content, decode_content, enforce_content_length)\u001b[39m\n\u001b[32m    493\u001b[39m \u001b[38;5;66;03m# conn.request() calls http.client.*.request, not the method in\u001b[39;00m\n\u001b[32m    494\u001b[39m \u001b[38;5;66;03m# urllib3.request. It also calls makefile (recv) on the socket.\u001b[39;00m\n\u001b[32m    495\u001b[39m \u001b[38;5;28;01mtry\u001b[39;00m:\n\u001b[32m--> \u001b[39m\u001b[32m496\u001b[39m     \u001b[43mconn\u001b[49m\u001b[43m.\u001b[49m\u001b[43mrequest\u001b[49m\u001b[43m(\u001b[49m\n\u001b[32m    497\u001b[39m \u001b[43m        \u001b[49m\u001b[43mmethod\u001b[49m\u001b[43m,\u001b[49m\n\u001b[32m    498\u001b[39m \u001b[43m        \u001b[49m\u001b[43murl\u001b[49m\u001b[43m,\u001b[49m\n\u001b[32m    499\u001b[39m \u001b[43m        \u001b[49m\u001b[43mbody\u001b[49m\u001b[43m=\u001b[49m\u001b[43mbody\u001b[49m\u001b[43m,\u001b[49m\n\u001b[32m    500\u001b[39m \u001b[43m        \u001b[49m\u001b[43mheaders\u001b[49m\u001b[43m=\u001b[49m\u001b[43mheaders\u001b[49m\u001b[43m,\u001b[49m\n\u001b[32m    501\u001b[39m \u001b[43m        \u001b[49m\u001b[43mchunked\u001b[49m\u001b[43m=\u001b[49m\u001b[43mchunked\u001b[49m\u001b[43m,\u001b[49m\n\u001b[32m    502\u001b[39m \u001b[43m        \u001b[49m\u001b[43mpreload_content\u001b[49m\u001b[43m=\u001b[49m\u001b[43mpreload_content\u001b[49m\u001b[43m,\u001b[49m\n\u001b[32m    503\u001b[39m \u001b[43m        \u001b[49m\u001b[43mdecode_content\u001b[49m\u001b[43m=\u001b[49m\u001b[43mdecode_content\u001b[49m\u001b[43m,\u001b[49m\n\u001b[32m    504\u001b[39m \u001b[43m        \u001b[49m\u001b[43menforce_content_length\u001b[49m\u001b[43m=\u001b[49m\u001b[43menforce_content_length\u001b[49m\u001b[43m,\u001b[49m\n\u001b[32m    505\u001b[39m \u001b[43m    \u001b[49m\u001b[43m)\u001b[49m\n\u001b[32m    507\u001b[39m \u001b[38;5;66;03m# We are swallowing BrokenPipeError (errno.EPIPE) since the server is\u001b[39;00m\n\u001b[32m    508\u001b[39m \u001b[38;5;66;03m# legitimately able to close the connection after sending a valid response.\u001b[39;00m\n\u001b[32m    509\u001b[39m \u001b[38;5;66;03m# With this behaviour, the received response is still readable.\u001b[39;00m\n\u001b[32m    510\u001b[39m \u001b[38;5;28;01mexcept\u001b[39;00m \u001b[38;5;167;01mBrokenPipeError\u001b[39;00m:\n",
      "\u001b[36mFile \u001b[39m\u001b[32mc:\\Users\\dawid\\AppData\\Local\\Programs\\Python\\Python312\\Lib\\site-packages\\urllib3\\connection.py:400\u001b[39m, in \u001b[36mHTTPConnection.request\u001b[39m\u001b[34m(self, method, url, body, headers, chunked, preload_content, decode_content, enforce_content_length)\u001b[39m\n\u001b[32m    398\u001b[39m \u001b[38;5;28;01mfor\u001b[39;00m header, value \u001b[38;5;129;01min\u001b[39;00m headers.items():\n\u001b[32m    399\u001b[39m     \u001b[38;5;28mself\u001b[39m.putheader(header, value)\n\u001b[32m--> \u001b[39m\u001b[32m400\u001b[39m \u001b[38;5;28;43mself\u001b[39;49m\u001b[43m.\u001b[49m\u001b[43mendheaders\u001b[49m\u001b[43m(\u001b[49m\u001b[43m)\u001b[49m\n\u001b[32m    402\u001b[39m \u001b[38;5;66;03m# If we're given a body we start sending that in chunks.\u001b[39;00m\n\u001b[32m    403\u001b[39m \u001b[38;5;28;01mif\u001b[39;00m chunks \u001b[38;5;129;01mis\u001b[39;00m \u001b[38;5;129;01mnot\u001b[39;00m \u001b[38;5;28;01mNone\u001b[39;00m:\n",
      "\u001b[36mFile \u001b[39m\u001b[32mc:\\Users\\dawid\\AppData\\Local\\Programs\\Python\\Python312\\Lib\\http\\client.py:1326\u001b[39m, in \u001b[36mHTTPConnection.endheaders\u001b[39m\u001b[34m(self, message_body, encode_chunked)\u001b[39m\n\u001b[32m   1324\u001b[39m \u001b[38;5;28;01melse\u001b[39;00m:\n\u001b[32m   1325\u001b[39m     \u001b[38;5;28;01mraise\u001b[39;00m CannotSendHeader()\n\u001b[32m-> \u001b[39m\u001b[32m1326\u001b[39m \u001b[38;5;28;43mself\u001b[39;49m\u001b[43m.\u001b[49m\u001b[43m_send_output\u001b[49m\u001b[43m(\u001b[49m\u001b[43mmessage_body\u001b[49m\u001b[43m,\u001b[49m\u001b[43m \u001b[49m\u001b[43mencode_chunked\u001b[49m\u001b[43m=\u001b[49m\u001b[43mencode_chunked\u001b[49m\u001b[43m)\u001b[49m\n",
      "\u001b[36mFile \u001b[39m\u001b[32mc:\\Users\\dawid\\AppData\\Local\\Programs\\Python\\Python312\\Lib\\http\\client.py:1085\u001b[39m, in \u001b[36mHTTPConnection._send_output\u001b[39m\u001b[34m(self, message_body, encode_chunked)\u001b[39m\n\u001b[32m   1083\u001b[39m msg = \u001b[33mb\u001b[39m\u001b[33m\"\u001b[39m\u001b[38;5;130;01m\\r\u001b[39;00m\u001b[38;5;130;01m\\n\u001b[39;00m\u001b[33m\"\u001b[39m.join(\u001b[38;5;28mself\u001b[39m._buffer)\n\u001b[32m   1084\u001b[39m \u001b[38;5;28;01mdel\u001b[39;00m \u001b[38;5;28mself\u001b[39m._buffer[:]\n\u001b[32m-> \u001b[39m\u001b[32m1085\u001b[39m \u001b[38;5;28;43mself\u001b[39;49m\u001b[43m.\u001b[49m\u001b[43msend\u001b[49m\u001b[43m(\u001b[49m\u001b[43mmsg\u001b[49m\u001b[43m)\u001b[49m\n\u001b[32m   1087\u001b[39m \u001b[38;5;28;01mif\u001b[39;00m message_body \u001b[38;5;129;01mis\u001b[39;00m \u001b[38;5;129;01mnot\u001b[39;00m \u001b[38;5;28;01mNone\u001b[39;00m:\n\u001b[32m   1088\u001b[39m \n\u001b[32m   1089\u001b[39m     \u001b[38;5;66;03m# create a consistent interface to message_body\u001b[39;00m\n\u001b[32m   1090\u001b[39m     \u001b[38;5;28;01mif\u001b[39;00m \u001b[38;5;28mhasattr\u001b[39m(message_body, \u001b[33m'\u001b[39m\u001b[33mread\u001b[39m\u001b[33m'\u001b[39m):\n\u001b[32m   1091\u001b[39m         \u001b[38;5;66;03m# Let file-like take precedence over byte-like.  This\u001b[39;00m\n\u001b[32m   1092\u001b[39m         \u001b[38;5;66;03m# is needed to allow the current position of mmap'ed\u001b[39;00m\n\u001b[32m   1093\u001b[39m         \u001b[38;5;66;03m# files to be taken into account.\u001b[39;00m\n",
      "\u001b[36mFile \u001b[39m\u001b[32mc:\\Users\\dawid\\AppData\\Local\\Programs\\Python\\Python312\\Lib\\http\\client.py:1029\u001b[39m, in \u001b[36mHTTPConnection.send\u001b[39m\u001b[34m(self, data)\u001b[39m\n\u001b[32m   1027\u001b[39m \u001b[38;5;28;01mif\u001b[39;00m \u001b[38;5;28mself\u001b[39m.sock \u001b[38;5;129;01mis\u001b[39;00m \u001b[38;5;28;01mNone\u001b[39;00m:\n\u001b[32m   1028\u001b[39m     \u001b[38;5;28;01mif\u001b[39;00m \u001b[38;5;28mself\u001b[39m.auto_open:\n\u001b[32m-> \u001b[39m\u001b[32m1029\u001b[39m         \u001b[38;5;28;43mself\u001b[39;49m\u001b[43m.\u001b[49m\u001b[43mconnect\u001b[49m\u001b[43m(\u001b[49m\u001b[43m)\u001b[49m\n\u001b[32m   1030\u001b[39m     \u001b[38;5;28;01melse\u001b[39;00m:\n\u001b[32m   1031\u001b[39m         \u001b[38;5;28;01mraise\u001b[39;00m NotConnected()\n",
      "\u001b[36mFile \u001b[39m\u001b[32mc:\\Users\\dawid\\AppData\\Local\\Programs\\Python\\Python312\\Lib\\site-packages\\urllib3\\connection.py:238\u001b[39m, in \u001b[36mHTTPConnection.connect\u001b[39m\u001b[34m(self)\u001b[39m\n\u001b[32m    237\u001b[39m \u001b[38;5;28;01mdef\u001b[39;00m\u001b[38;5;250m \u001b[39m\u001b[34mconnect\u001b[39m(\u001b[38;5;28mself\u001b[39m) -> \u001b[38;5;28;01mNone\u001b[39;00m:\n\u001b[32m--> \u001b[39m\u001b[32m238\u001b[39m     \u001b[38;5;28mself\u001b[39m.sock = \u001b[38;5;28;43mself\u001b[39;49m\u001b[43m.\u001b[49m\u001b[43m_new_conn\u001b[49m\u001b[43m(\u001b[49m\u001b[43m)\u001b[49m\n\u001b[32m    239\u001b[39m     \u001b[38;5;28;01mif\u001b[39;00m \u001b[38;5;28mself\u001b[39m._tunnel_host:\n\u001b[32m    240\u001b[39m         \u001b[38;5;66;03m# If we're tunneling it means we're connected to our proxy.\u001b[39;00m\n\u001b[32m    241\u001b[39m         \u001b[38;5;28mself\u001b[39m._has_connected_to_proxy = \u001b[38;5;28;01mTrue\u001b[39;00m\n",
      "\u001b[36mFile \u001b[39m\u001b[32mc:\\Users\\dawid\\AppData\\Local\\Programs\\Python\\Python312\\Lib\\site-packages\\urllib3\\connection.py:198\u001b[39m, in \u001b[36mHTTPConnection._new_conn\u001b[39m\u001b[34m(self)\u001b[39m\n\u001b[32m    193\u001b[39m \u001b[38;5;250m\u001b[39m\u001b[33;03m\"\"\"Establish a socket connection and set nodelay settings on it.\u001b[39;00m\n\u001b[32m    194\u001b[39m \n\u001b[32m    195\u001b[39m \u001b[33;03m:return: New socket connection.\u001b[39;00m\n\u001b[32m    196\u001b[39m \u001b[33;03m\"\"\"\u001b[39;00m\n\u001b[32m    197\u001b[39m \u001b[38;5;28;01mtry\u001b[39;00m:\n\u001b[32m--> \u001b[39m\u001b[32m198\u001b[39m     sock = \u001b[43mconnection\u001b[49m\u001b[43m.\u001b[49m\u001b[43mcreate_connection\u001b[49m\u001b[43m(\u001b[49m\n\u001b[32m    199\u001b[39m \u001b[43m        \u001b[49m\u001b[43m(\u001b[49m\u001b[38;5;28;43mself\u001b[39;49m\u001b[43m.\u001b[49m\u001b[43m_dns_host\u001b[49m\u001b[43m,\u001b[49m\u001b[43m \u001b[49m\u001b[38;5;28;43mself\u001b[39;49m\u001b[43m.\u001b[49m\u001b[43mport\u001b[49m\u001b[43m)\u001b[49m\u001b[43m,\u001b[49m\n\u001b[32m    200\u001b[39m \u001b[43m        \u001b[49m\u001b[38;5;28;43mself\u001b[39;49m\u001b[43m.\u001b[49m\u001b[43mtimeout\u001b[49m\u001b[43m,\u001b[49m\n\u001b[32m    201\u001b[39m \u001b[43m        \u001b[49m\u001b[43msource_address\u001b[49m\u001b[43m=\u001b[49m\u001b[38;5;28;43mself\u001b[39;49m\u001b[43m.\u001b[49m\u001b[43msource_address\u001b[49m\u001b[43m,\u001b[49m\n\u001b[32m    202\u001b[39m \u001b[43m        \u001b[49m\u001b[43msocket_options\u001b[49m\u001b[43m=\u001b[49m\u001b[38;5;28;43mself\u001b[39;49m\u001b[43m.\u001b[49m\u001b[43msocket_options\u001b[49m\u001b[43m,\u001b[49m\n\u001b[32m    203\u001b[39m \u001b[43m    \u001b[49m\u001b[43m)\u001b[49m\n\u001b[32m    204\u001b[39m \u001b[38;5;28;01mexcept\u001b[39;00m socket.gaierror \u001b[38;5;28;01mas\u001b[39;00m e:\n\u001b[32m    205\u001b[39m     \u001b[38;5;28;01mraise\u001b[39;00m NameResolutionError(\u001b[38;5;28mself\u001b[39m.host, \u001b[38;5;28mself\u001b[39m, e) \u001b[38;5;28;01mfrom\u001b[39;00m\u001b[38;5;250m \u001b[39m\u001b[34;01me\u001b[39;00m\n",
      "\u001b[36mFile \u001b[39m\u001b[32mc:\\Users\\dawid\\AppData\\Local\\Programs\\Python\\Python312\\Lib\\site-packages\\urllib3\\util\\connection.py:81\u001b[39m, in \u001b[36mcreate_connection\u001b[39m\u001b[34m(address, timeout, source_address, socket_options)\u001b[39m\n\u001b[32m     79\u001b[39m         err = _\n\u001b[32m     80\u001b[39m         \u001b[38;5;28;01mif\u001b[39;00m sock \u001b[38;5;129;01mis\u001b[39;00m \u001b[38;5;129;01mnot\u001b[39;00m \u001b[38;5;28;01mNone\u001b[39;00m:\n\u001b[32m---> \u001b[39m\u001b[32m81\u001b[39m             \u001b[43msock\u001b[49m\u001b[43m.\u001b[49m\u001b[43mclose\u001b[49m\u001b[43m(\u001b[49m\u001b[43m)\u001b[49m\n\u001b[32m     83\u001b[39m \u001b[38;5;28;01mif\u001b[39;00m err \u001b[38;5;129;01mis\u001b[39;00m \u001b[38;5;129;01mnot\u001b[39;00m \u001b[38;5;28;01mNone\u001b[39;00m:\n\u001b[32m     84\u001b[39m     \u001b[38;5;28;01mtry\u001b[39;00m:\n",
      "\u001b[36mFile \u001b[39m\u001b[32mc:\\Users\\dawid\\AppData\\Local\\Programs\\Python\\Python312\\Lib\\socket.py:500\u001b[39m, in \u001b[36msocket.close\u001b[39m\u001b[34m(self)\u001b[39m\n\u001b[32m    496\u001b[39m \u001b[38;5;28;01mdef\u001b[39;00m\u001b[38;5;250m \u001b[39m\u001b[34m_real_close\u001b[39m(\u001b[38;5;28mself\u001b[39m, _ss=_socket.socket):\n\u001b[32m    497\u001b[39m     \u001b[38;5;66;03m# This function should not reference any globals. See issue #808164.\u001b[39;00m\n\u001b[32m    498\u001b[39m     _ss.close(\u001b[38;5;28mself\u001b[39m)\n\u001b[32m--> \u001b[39m\u001b[32m500\u001b[39m \u001b[38;5;28;01mdef\u001b[39;00m\u001b[38;5;250m \u001b[39m\u001b[34mclose\u001b[39m(\u001b[38;5;28mself\u001b[39m):\n\u001b[32m    501\u001b[39m     \u001b[38;5;66;03m# This function should not reference any globals. See issue #808164.\u001b[39;00m\n\u001b[32m    502\u001b[39m     \u001b[38;5;28mself\u001b[39m._closed = \u001b[38;5;28;01mTrue\u001b[39;00m\n\u001b[32m    503\u001b[39m     \u001b[38;5;28;01mif\u001b[39;00m \u001b[38;5;28mself\u001b[39m._io_refs <= \u001b[32m0\u001b[39m:\n",
      "\u001b[31mKeyboardInterrupt\u001b[39m: "
     ]
    }
   ],
   "source": [
    "network_conditions = {\n",
    "    \"offline\": False,\n",
    "    \"latency\": 20,  # w ms\n",
    "    \"download_throughput\": 2000 * 1024 / 8,  # 2000 kilobitów na sekundę (1024 to kilobajt, 8 bitów to 1 bajt, czyli de facto 128 kB na sekundę)\n",
    "    \"upload_throughput\": 2000 * 1024 / 8,\n",
    "}\n",
    "driver.set_network_conditions(**network_conditions)"
   ]
  },
  {
   "cell_type": "markdown",
   "metadata": {},
   "source": [
    "### Edge\n",
    "Edge bazuje na Chromium, czyli w dużej mierze posiada te możliwości co Chrome. Dodatkowo, można uruchomić Edge'a w stylu Internet Explorer (w przypadku potrzeby aktualizacji testów, które były robione ne IE). Wystarczy utworzyć obiekty Webdrivera i opcji do Internet Explorera i wskazać wykonawczy plik Edge'a jako plik przeglądarki."
   ]
  },
  {
   "cell_type": "code",
   "execution_count": null,
   "metadata": {},
   "outputs": [],
   "source": [
    "ie_options = webdriver.IeOptions()\n",
    "ie_options.attach_to_edge_chrome = True\n",
    "ie_options.edge_executable_path = \"C:/Program Files (x86)/Microsoft/Edge/Application/msedge.exe\"\n",
    "\n",
    "driver = webdriver.Ie(options=ie_options)\n",
    "\n",
    "driver.get(\"http://www.bing.com\")\n",
    "elem = driver.find_element(By.ID, 'sb_form_q')\n",
    "elem.send_keys('WebDriver' + Keys.RETURN)\n",
    "\n",
    "driver.quit()"
   ]
  },
  {
   "cell_type": "markdown",
   "metadata": {},
   "source": [
    "## Elementy strony - narzędzia do scrapowania i nie tylko"
   ]
  },
  {
   "cell_type": "markdown",
   "metadata": {},
   "source": [
    "- Znajdowanie elementów\n",
    "    - Strategie lokalizujące\n",
    "        - Tradycyjne lokatory (By.x)\n",
    "        - Lokatory względne (nad, pod elementem)\n",
    "    - Znajdowanie jednego elementu\n",
    "    - Znajdowanie wielu elementów\n",
    "    - Nestowane elementy\n",
    "    - Aktywny element\n",
    "- Podstawowe interakcje z elementami\n",
    "    - Click\n",
    "    - SendKeys\n",
    "        - Dodatkowa informacja o sposobie wysyłania plików\n",
    "    - Clear\n",
    "    - Submit\n",
    "    - Select\n",
    "- Informacje o elementach\n",
    "    - czy wyświetlone, włączone, zaznaczone\n",
    "    - pozycja/rozmiar elementu\n",
    "    - wartość określonego parametru css\n",
    "    - zawartość tekstowa\n",
    "    - wartość określonego atrybutu HTMLowego"
   ]
  },
  {
   "cell_type": "markdown",
   "metadata": {},
   "source": [
    "### Znajdowanie elementów\n",
    "\n",
    "Aby znaleźć określony element na stronie, należy zastosować metodę `find_element` z odpowiednią strategią lokalizacji, dostępną w klasie By. \n",
    "\n",
    "Dostępne strategie:\n",
    "- CLASS_NAME - po danej klasie (pojedynczej, nie przyjmuje wielu klas)\n",
    "- TAG_NAME - po nazwie tagu \n",
    "- ID - po id elementu\n",
    "- NAME - po atrybucie `name` elementu\n",
    "- LINK_TEXT - po widocznym tekście w danym elemencie (ewentualnie PARTIAL_LINK_TEXT do szukania po części tekstu)\n",
    "- CSS_SELECTOR - po pełnym selektorze CSS - klasie, id, nazwie tagu\n",
    "- XPATH - po ścieżce XMLowej\n",
    "\n"
   ]
  },
  {
   "cell_type": "code",
   "execution_count": 1,
   "metadata": {},
   "outputs": [],
   "source": [
    "import selenium.webdriver as webdriver\n",
    "from selenium.webdriver.common.by import By\n",
    "driver = webdriver.Firefox()\n",
    "driver.get(\"https://www.selenium.dev/selenium/web/locators_tests/locators.html\")\n"
   ]
  },
  {
   "cell_type": "code",
   "execution_count": 2,
   "metadata": {},
   "outputs": [
    {
     "name": "stdout",
     "output_type": "stream",
     "text": [
      "Jane\n",
      "input\n"
     ]
    }
   ],
   "source": [
    "e=driver.find_element(By.ID, \"fname\")\n",
    "print(e.get_attribute(\"value\"))\n",
    "element = driver.find_element(By.XPATH, \"//input[@value='f']\")\n",
    "print(e.tag_name)"
   ]
  },
  {
   "cell_type": "markdown",
   "metadata": {},
   "source": [
    "Alternatywnym sposobem jest zastosowanie `WebDriverWait` z odpowiednią strategią lokalizacji, dostępną w klasie By, rodzajem dostępności i czasem oczekiwania na dostępność. "
   ]
  },
  {
   "cell_type": "code",
   "execution_count": 3,
   "metadata": {},
   "outputs": [],
   "source": [
    "from selenium.webdriver.support.ui import WebDriverWait\n",
    "from selenium.webdriver.support import expected_conditions as EC"
   ]
  },
  {
   "cell_type": "markdown",
   "metadata": {},
   "source": [
    "W poniższym przykładzie najpierw oczekujemy, aż pierwszy element będzie istnieć w DOM (nawet jeśli go nie widać), potem pobieramy go.\n",
    "\n",
    "Następnie oczekujemy aż drugi element będzie widoczny (czyli ma wysokość/szerokość i nie jest display: none)."
   ]
  },
  {
   "cell_type": "code",
   "execution_count": 4,
   "metadata": {},
   "outputs": [
    {
     "name": "stdout",
     "output_type": "stream",
     "text": [
      "Jane\n",
      "input\n"
     ]
    }
   ],
   "source": [
    "\n",
    "e = WebDriverWait(driver, 10).until(EC.visibility_of_element_located((By.ID, \"fname\")))\n",
    "print(e.get_attribute(\"value\"))\n",
    "element = WebDriverWait(driver, 10).until(EC.presence_of_element_located((By.XPATH, \"//input[@value='f']\")))\n",
    "print(e.tag_name)"
   ]
  },
  {
   "cell_type": "markdown",
   "metadata": {},
   "source": [
    "Najważniejsze warunki, których możemy użyć z WebDriverWait:\n",
    "\n",
    "- `presence_of_element_located` – element istnieje w DOM, ale może być niewidoczny\n",
    "- `visibility_of_element_located` – element istnieje i jest widoczny\n",
    "- `element_to_be_clickable` – element jest widoczny i aktywny (klikalny)\n",
    "- `presence_of_all_elements_located` – wszystkie wskazane elementy istnieją w DOM\n",
    "- `visibility_of_all_elements_located` – wszystkie wskazane elementy są widoczne\n",
    "- `invisibility_of_element_located` – element jest niewidoczny lub nie istnieje\n",
    "- `text_to_be_present_in_element` – określony tekst znajduje się wewnątrz elementu\n",
    "- `text_to_be_present_in_element_value` – tekst znajduje się w atrybucie `value` (np. input)\n",
    "- `staleness_of` – element przestał istnieć w DOM (np. po odświeżeniu strony)"
   ]
  },
  {
   "cell_type": "markdown",
   "metadata": {},
   "source": [
    "Jeśli nie mamy klasy/id danego elementu, ale posiadamy wiedzę o względnej lokalizacji w stosunku do innego elementu możemy zastosować lokatory względne. Dostępne mamy:\n",
    "\n",
    "- `above` - nad danym elementem\n",
    "- `below` - pod danym elementem\n",
    "- `to_left_of` - na lewo od danego elementu\n",
    "- `to_right_of` - na prawo od danego elementu\n",
    "- `near` - w odległości max 50 pixeli od danego elementu\n",
    "\n",
    "Wykorzystujemy te funkcje wraz z `locate_with` z informacją o nazwie tagu. W funkcji lokatora, przekazujemy strategie lokalizacji dla elementu względem którego szukamy."
   ]
  },
  {
   "cell_type": "code",
   "execution_count": null,
   "metadata": {},
   "outputs": [],
   "source": [
    "password_locator = webdriver.support.relative_locator.locate_with(By.TAG_NAME, \"input\").below({By.ID: \"email\"})"
   ]
  },
  {
   "cell_type": "markdown",
   "metadata": {},
   "source": [
    "Lokatory względne można łączyć ze sobą jeśli musimy dodatkowo uszczegółowić parametry do lokalizacji."
   ]
  },
  {
   "cell_type": "code",
   "execution_count": null,
   "metadata": {},
   "outputs": [],
   "source": [
    "submit_locator = webdriver.support.relative_locator.locate_with(By.TAG_NAME, \"button\").below({By.ID: \"email\"}).to_right_of({By.ID: \"cancel\"})"
   ]
  },
  {
   "cell_type": "markdown",
   "metadata": {},
   "source": [
    "Po odnalezieniu danego elementu, można kontynuowanie przeszukiwanie, traktując element jako podzbiór, w którym będziemy szukać kolejnego określonego strategiami elementu. "
   ]
  },
  {
   "cell_type": "code",
   "execution_count": null,
   "metadata": {},
   "outputs": [],
   "source": [
    "fruits = driver.find_element(By.ID, \"fruits\")\n",
    "fruit = fruits.find_element(By.CLASS_NAME,\"tomatoes\")"
   ]
  },
  {
   "cell_type": "markdown",
   "metadata": {},
   "source": [
    "### Znajdowanie wielu elementów\n",
    "\n",
    "Zamiast szukania pojedynczego elementu, Selenium jest w stanie zwrócić pełną listę elementów spełniających podane wymagania selektora. Po zwróconej liście można normalnie iterować w celu interakcji/zebrania informacji."
   ]
  },
  {
   "cell_type": "code",
   "execution_count": null,
   "metadata": {},
   "outputs": [],
   "source": [
    "plants = driver.find_elements(By.TAG_NAME, \"li\")\n",
    "for p in plants:\n",
    "    print(p.text)"
   ]
  },
  {
   "cell_type": "markdown",
   "metadata": {},
   "source": [
    "### Aktywny element\n",
    "\n",
    "Do wybrania aktualnie aktywnego elementu (wybranego przez użytkownika), możemy wykorzystać pole `active_element` w metodzie `switch_to`."
   ]
  },
  {
   "cell_type": "code",
   "execution_count": null,
   "metadata": {},
   "outputs": [],
   "source": [
    "active_element=driver.switch_to.active_element\n",
    "print(active_element.text)"
   ]
  },
  {
   "cell_type": "markdown",
   "metadata": {},
   "source": [
    "### Informacje o danym elemencie"
   ]
  },
  {
   "cell_type": "markdown",
   "metadata": {},
   "source": [
    "O każdym elemencie możemy otrzymać informacje, np. czy element jest uruchomiony, jaki on jest i wartość określonej właściwości.\n",
    "\n",
    "Elementy posiadają metody `isDisplayed()`, `isEnabled()` i `isSelected()` zwracające boola określającego czy kolejno element jest wyświetlony, włączony czy zazanczony."
   ]
  },
  {
   "cell_type": "code",
   "execution_count": null,
   "metadata": {},
   "outputs": [],
   "source": [
    "element=driver.find_element(by=By.TAG_NAME, \"header\")\n",
    "print(element.isDisplayed())\n",
    "print(element.isEnabled())\n",
    "print(element.isSelected())"
   ]
  },
  {
   "cell_type": "markdown",
   "metadata": {},
   "source": [
    "Korzystając z pól `tag_name`, `text` i `rect`, możemy kolejno otrzymać informację o nazwie tagu danego elementu, zawartości tesktowej tego elementu oraz jego rozmiaru na stronie (współrzędne górnego lewego rogu elementu, wysokość i szerokość elementu)."
   ]
  },
  {
   "cell_type": "code",
   "execution_count": null,
   "metadata": {},
   "outputs": [],
   "source": [
    "print(element.tag_name)\n",
    "print(element.text)\n",
    "print(element.rect)"
   ]
  },
  {
   "cell_type": "markdown",
   "metadata": {},
   "source": [
    "Do przechwycenia określonych właściwości tagu - HTMLowych lub CSSowych - wykorzystujemy kolejno funkcje `get_attribute()` i `value_of_css_property()`."
   ]
  },
  {
   "cell_type": "code",
   "execution_count": null,
   "metadata": {},
   "outputs": [],
   "source": [
    "print(element.get_attribute(\"name\"))\n",
    "print(element.value_of_css_property(\"background-color\"))"
   ]
  },
  {
   "cell_type": "markdown",
   "metadata": {},
   "source": [
    "### Przerwy - instrukcje czekania"
   ]
  },
  {
   "cell_type": "markdown",
   "metadata": {},
   "source": [
    "- implicit wait (określony czas)\n",
    "- explicit wait (warunkowy)\n",
    "    - dodatkowe argumenty do WebDriverWait"
   ]
  },
  {
   "cell_type": "markdown",
   "metadata": {},
   "source": [
    "## Interakcje z przeglądarką"
   ]
  },
  {
   "cell_type": "markdown",
   "metadata": {},
   "source": [
    "- tytuł i URL\n",
    "- nawigacja stron\n",
    "    - przez wskazanie adresu\n",
    "    - back\n",
    "    - forward\n",
    "    - refresh\n",
    "- Javascriptowe pop-upy\n",
    "    - alerty\n",
    "    - confirm\n",
    "    - prompt\n",
    "- Ciasteczka\n",
    "    - dodanie\n",
    "    - wyciągnięcie konkretnego\n",
    "    - wyciągnięcie wszystkich\n",
    "    - usunięcie konkretnego\n",
    "    - usunięcie wszystkich\n",
    "    - atrybut same-site\n",
    "- Drukowanie strony\n",
    "    - instancja PrintOptions\n",
    "    - orientacja\n",
    "    - zakres stron\n",
    "    - rozmiar\n",
    "    - marginesy\n",
    "    - skala\n",
    "    - tło\n",
    "    - zmniejszenie do dopasowania\n",
    "    - drukowanie\n",
    "- Okna/karta (dla selenium to jest to samo)\n",
    "    - aktualne okno\n",
    "    - zmiana okna\n",
    "    - zamknięcie okna\n",
    "    - otwarcie nowego okna\n",
    "    - zarządzanie oknem i jego właściwościami\n",
    "        - get wielkość okna\n",
    "        - set wielkość okna\n",
    "        - get pozycję okna\n",
    "        - set pozycję okna\n",
    "        - maksymalizuj/minimalizuj okno\n",
    "        - fullscreen\n",
    "        - zrzut ekranu lub danego elementu\n",
    "        - wykonanie skryptu JSowego\n",
    "- Wirtualne uwierzytelnianie\n",
    "    - dodanie nowego uwierzytelnienia\n",
    "    - usnięcie uwierzytelnienia\n",
    "    - tworzenie stateful/stateless poświadczenia\n",
    "    - dodanie poświadczenia\n",
    "    - otrzymanie danego poświadczenia\n",
    "    - usunięcie jednego/wszystkich poświadczeń\n",
    "    - ustawienie symulacji sukcesu/porażki przy autoryzacji\n"
   ]
  },
  {
   "cell_type": "markdown",
   "metadata": {},
   "source": [
    "## Actions API - mimika zachowania użytkownika\n",
    "Jest to niskopoziomowy interfejs, pozwalający symulować działania urządzeń wejściowych w przeglądarce.\n",
    "\n",
    "Możliwości:\n",
    "- Sterowanie zachowaniem (mysz, klawiatura, ...) i tworzenie pojedyńczych **akcji** (np. przesunięcie, wpisanie tekstu, ...).\n",
    "- Łączenie akcji w **łańcuchy** i ich wspólne wykonanie przez `.perform()`.\n",
    "\n",
    "Od Selenium 4.2 dodano wsparcie dla akcji przewijania *(wheel actions*)."
   ]
  },
  {
   "cell_type": "markdown",
   "metadata": {},
   "source": [
    "#### Klawiatura"
   ]
  },
  {
   "cell_type": "code",
   "execution_count": 13,
   "metadata": {},
   "outputs": [],
   "source": [
    "# otwarcie przeglądarki\n",
    "driver = webdriver.Firefox()\n",
    "driver.get(\"https://the-internet.herokuapp.com/key_presses\")"
   ]
  },
  {
   "cell_type": "code",
   "execution_count": 14,
   "metadata": {},
   "outputs": [],
   "source": [
    "# pobranie elementu\n",
    "poleSzukaj = driver.find_element(By.ID, \"target\")\n",
    "\n",
    "# użycie send_keys() do wpisania tekstu\n",
    "poleSzukaj.send_keys(\"Pajtoon\")"
   ]
  },
  {
   "cell_type": "code",
   "execution_count": 15,
   "metadata": {},
   "outputs": [],
   "source": [
    "# wysłanie BACKSPACE trzykrotnie\n",
    "poleSzukaj.send_keys(Keys.BACKSPACE * 3)"
   ]
  },
  {
   "cell_type": "markdown",
   "metadata": {},
   "source": [
    "#### `key_down()` oraz `key_up()`"
   ]
  },
  {
   "cell_type": "markdown",
   "metadata": {},
   "source": [
    "wpisanie liter w pole tekstowe"
   ]
  },
  {
   "cell_type": "code",
   "execution_count": 16,
   "metadata": {},
   "outputs": [],
   "source": [
    "# użycie ActionChains\n",
    "actions = webdriver.ActionChains(driver)\n",
    "\n",
    "# r + SHIFT + m + [SHIFT off]+ s\n",
    "actions.send_keys(\"r\").key_down(Keys.SHIFT).send_keys(\"m\").key_up(Keys.SHIFT).send_keys(\"s\").perform()"
   ]
  },
  {
   "cell_type": "markdown",
   "metadata": {},
   "source": [
    "otwarcie linku w nowej karcie"
   ]
  },
  {
   "cell_type": "code",
   "execution_count": 10,
   "metadata": {},
   "outputs": [],
   "source": [
    "from selenium.webdriver.common.keys import Keys"
   ]
  },
  {
   "cell_type": "code",
   "execution_count": 17,
   "metadata": {},
   "outputs": [],
   "source": [
    "# pobranie elementu z linkiem\n",
    "link = driver.find_element(By.CSS_SELECTOR, \"img[alt='Fork me on GitHub']\")\n",
    "\n",
    "# otwarcie linku w nowej karcie\n",
    "actions.key_down(Keys.CONTROL).click(link).key_up(Keys.CONTROL).perform()"
   ]
  },
  {
   "cell_type": "code",
   "execution_count": 12,
   "metadata": {},
   "outputs": [],
   "source": [
    "actions.click(poleSzukaj)  # żeby aktywować pole\n",
    "\n",
    "actions.key_down(Keys.CONTROL).send_keys('a').key_up(Keys.CONTROL)  # zaznacz wszystko\n",
    "actions.key_down(Keys.CONTROL).send_keys('c').key_up(Keys.CONTROL)  # kopiuj\n",
    "actions.key_down(Keys.CONTROL).send_keys('v').send_keys('v').key_up(Keys.CONTROL)  # wklej 2x\n",
    "\n",
    "actions.perform()"
   ]
  },
  {
   "cell_type": "markdown",
   "metadata": {},
   "source": [
    "#### Mysz\n",
    "- click_and_release\n",
    "- click_and_hold\n",
    "- context_click (right click)\n",
    "- back_click\n",
    "- forward_click\n",
    "- double_click\n",
    "- move_to_element (bez i z offsetem)\n",
    "- move_to_location\n",
    "- move_by_offset (od kursora)\n",
    "- drag_and_drop\n",
    "- drag_and_drop_by_offset"
   ]
  },
  {
   "cell_type": "markdown",
   "metadata": {},
   "source": [
    "#### Scroll\n",
    "- to element\n",
    "- by amount\n",
    "- to element by amount\n",
    "- from offset by amount\n",
    "- from element with offset by amount"
   ]
  },
  {
   "cell_type": "markdown",
   "metadata": {},
   "source": [
    "## Praktyki dobrego testowania"
   ]
  },
  {
   "cell_type": "markdown",
   "metadata": {},
   "source": [
    "### 1. Strategie\n",
    "\n",
    "- **LoadableComponent**  \n",
    "Wzorzec, w którym każda strona reprezentowana jest jako klasa z metodą sprawdzającą, czy strona została poprawnie załadowana (`is_loaded()`). Umożliwia to wykonywanie testów dopiero wtedy, gdy strona jest gotowa, co zwiększa stabilność testów."
   ]
  },
  {
   "cell_type": "code",
   "execution_count": null,
   "metadata": {},
   "outputs": [],
   "source": [
    "class ProductPage:\n",
    "    def __init__(self, driver):\n",
    "        self.driver = driver\n",
    "        self.url = \"adres strony\"\n",
    "\n",
    "    def load(self):\n",
    "        self.driver.get(self.url)\n",
    "\n",
    "    def is_loaded(self):\n",
    "        return self.driver.find_element(By.ID, \"article\").is_displayed()"
   ]
  },
  {
   "cell_type": "markdown",
   "metadata": {},
   "source": [
    "- **Bot Pattern**  \n",
    "Podejście polegające na tworzeniu klas (botów), które grupują typowe akcje użytkownika, takie jak logowanie, rejestracja czy zakupy. Dzięki temu testy są czytelniejsze, krótsze i łatwiejsze w utrzymaniu. Zamiast bezpośrednio używać Selenium, wywołuje się metody wysokiego poziomu (np. `bot.login()`)."
   ]
  },
  {
   "cell_type": "code",
   "execution_count": null,
   "metadata": {},
   "outputs": [],
   "source": [
    "class LoginBot:\n",
    "    def __init__(self, driver):\n",
    "        self.driver = driver\n",
    "\n",
    "    def login(self, username, password):\n",
    "        self.driver.get(\"adres strony logowania\")\n",
    "        self.driver.find_element(By.ID, \"username\").send_keys(username)\n",
    "        self.driver.find_element(By.ID, \"password\").send_keys(password)\n",
    "        self.driver.find_element(By.ID, \"submit\").click()"
   ]
  },
  {
   "cell_type": "markdown",
   "metadata": {},
   "source": [
    "### 2. Typy testów\n",
    "\n",
    "- **Testy funkcjonalne**  \n",
    "  Testy te sprawdzają, czy konkretne funkcje aplikacji działają zgodnie z oczekiwaniami użytkownika. Celem jest upewnienie się, że poszczególne elementy systemu (np. formularze, przyciski) działają poprawnie w kontekście użycia.  \n",
    "  **Przykład**: Testowanie procesu dodawania produktu do koszyka w sklepie internetowym.\n",
    "\n",
    "- **Testy akceptacyjne**  \n",
    "  Weryfikują, czy aplikacja spełnia wymagania klienta lub użytkownika końcowego. Często są to testy na poziomie biznesowym, gdzie sprawdza się, czy aplikacja działa zgodnie z oczekiwaniami zdefiniowanymi w specyfikacji.  \n",
    "  **Przykład**: Testowanie pełnego procesu zakupowego w sklepie internetowym, od dodania produktu do koszyka, przez dane adresowe, aż po płatność.\n",
    "\n",
    "- **Testy integracyjne**  \n",
    "  Testują, jak różne komponenty systemu współdziałają ze sobą. Celem jest sprawdzenie, czy np. frontend poprawnie komunikuje się z backendem lub API. Testy te pomagają wykryć problemy na poziomie integracji systemu.  \n",
    "  **Przykład**: Testowanie integracji między frontendem sklepu internetowego a systemem płatności, sprawdzając, czy poprawnie przechodzi się przez proces płatności.\n",
    "\n",
    "- **Testy systemowe**  \n",
    "  Sprawdzają cały system w warunkach zbliżonych do rzeczywistego środowiska produkcyjnego. Testują działanie aplikacji jako całości, w tym współpracę różnych modułów, baz danych, interfejsów itp.  \n",
    "  **Przykład**: Testowanie pełnego procesu zamówienia, w tym zarówno frontend, jak i backend, aż po zapisywanie danych w bazie.\n",
    "\n",
    "- **Testy wydajnościowe**:\n",
    "  - *Testy obciążeniowe* – badają, jak system zachowuje się przy normalnym, przewidywanym obciążeniu, np. przy określonej liczbie użytkowników jednocześnie korzystających z aplikacji.  \n",
    "    **Przykład**: Testowanie wydajności systemu sklepu internetowego, gdy wielu użytkowników dokonuje zakupu jednocześnie.\n",
    "    \n",
    "  - *Stress testy* – mają na celu sprawdzenie, jak system reaguje na ekstremalne warunki, takie jak nadmierne obciążenie lub brak zasobów. Testy te pomagają znaleźć limity wydajnościowe systemu.  \n",
    "    **Przykład**: Testowanie systemu pod dużym obciążeniem, gdzie kilkuset użytkowników próbuje dokonać zakupu jednocześnie.\n",
    "\n",
    "- **Testy regresyjne**  \n",
    "  Mają na celu wykrycie błędów w istniejącej funkcjonalności aplikacji po wprowadzeniu zmian w kodzie. Testy te pomagają upewnić się, że nowe funkcje lub poprawki nie wprowadziły nowych problemów w już działających częściach systemu.  \n",
    "  **Przykład**: Sprawdzanie, czy zmiany w procesie płatności nie spowodowały problemów w innych częściach procesu zakupu.\n"
   ]
  },
  {
   "cell_type": "markdown",
   "metadata": {},
   "source": [
    "### 3. Wspierane praktyki\n",
    "\n",
    "- **Page Object Model** – rozdzielenie logiki testów od reprezentacji elementów UI. Dzięki temu, zmiany w interfejsie użytkownika nie wpływają bezpośrednio na testy, a testy stają się łatwiejsze do utrzymania.\n",
    "  \n",
    "- **DSL (Domain-Specific Language)** – stosowanie własnych metod (np. `user_logs_in()`) zamiast bezpośrednich komend Selenium. Użycie własnych, dobrze nazwanych metod pozwala na lepszą czytelność i ponowne użycie kodu w testach.\n",
    "\n",
    "- **Przygotowanie stanu aplikacji bez Selenium** – np. przez REST API lub manipulację bazą danych. Pozwala to na szybkie przygotowanie aplikacji do testów bez potrzeby korzystania z interfejsu użytkownika.\n",
    "\n",
    "- **Mockowanie zewnętrznych zależności** – odseparowanie testowanej aplikacji od np. usług zewnętrznych. Pozwala na kontrolowanie środowiska testowego i symulowanie różnych scenariuszy bez potrzeby interakcji z rzeczywistymi zewnętrznymi systemami.\n",
    "\n",
    "- **Rozszerzanie raportów** – wykorzystanie narzędzi jak Allure, Pytest HTML czy TestNG. Dobre raportowanie ułatwia analizowanie wyników testów i daje lepszy wgląd w jakość aplikacji.\n",
    "\n",
    "- **Izolacja testów** – każdy test powinien działać niezależnie od innych. Testy nie mogą na siebie wzajemnie wpływać, aby zmiana w jednym teście nie powodowała błędów w innych.\n",
    "\n",
    "- **Dobre selektory** – stabilne, odporne na zmiany (np. `data-testid`, `aria-label`). Użycie odpornych na zmiany selektorów poprawia stabilność testów, ponieważ nie są one zależne od drobnych zmian w wyglądzie aplikacji.\n",
    "\n",
    "- **Niezależność testów** – test nie może bazować na stanie poprzednich testów. Każdy test powinien być autonomiczny, aby wyniki testów były wiarygodne, niezależnie od kolejności ich uruchamiania.\n",
    "\n",
    "- **Fluent API** – testy jako łańcuchy metod (np. `login().navigate().verify()`). Takie podejście poprawia czytelność testów i sprawia, że są one bardziej intuicyjne, łatwiejsze do napisania i utrzymania.\n",
    "\n",
    "- **Czysty stan początkowy** – każdy test powinien zaczynać od tej samej konfiguracji środowiska. Dzięki temu wyniki testów będą zawsze porównywalne, a błędy łatwiejsze do wykrycia, ponieważ nie będą wynikały z różnic w środowisku.\n"
   ]
  },
  {
   "cell_type": "markdown",
   "metadata": {},
   "source": [
    "### 4. Odradzane praktyki\n",
    "\n",
    "- **Testowanie CAPTCHA** – CAPTCHA są zaprojektowane, by uniemożliwić automatyzację procesów. Ponieważ wymaga ona interakcji użytkownika, automatyczne testowanie takich mechanizmów za pomocą Selenium jest trudne lub niemożliwe, co czyni te testy nieefektywnymi i problematycznymi w automatyzacji.\n",
    "\n",
    "- **Pobieranie plików** – Selenium nie jest w stanie monitorować postępu pobierania plików. Działa na poziomie interfejsu użytkownika, a nie systemu operacyjnego, co uniemożliwia precyzyjne śledzenie procesu pobierania. Testowanie postępu pobierania plików należy przeprowadzać przy użyciu innych narzędzi.\n",
    "\n",
    "- **Testowanie kodów HTTP** – Selenium jest narzędziem do testowania interfejsu użytkownika, a nie komunikacji sieciowej. Testy kodów HTTP, jak np. statusy odpowiedzi 200 czy 404, należy przeprowadzać na poziomie backendu, używając odpowiednich narzędzi do testowania API, takich jak Postman czy JMeter.\n",
    "\n",
    "- **Logowanie przez zewnętrzne systemy (FB, Google)** – Proces logowania za pomocą zewnętrznych systemów, takich jak Facebook czy Google, jest trudny do automatyzacji i może stać się niestabilny. Takie logowanie jest podatne na zmiany w API tych zewnętrznych systemów, co może prowadzić do problemów z utrzymaniem testów.\n",
    "\n",
    "- **Testy wydajnościowe** – Selenium nie jest narzędziem do testowania wydajnościowego, ponieważ działa na poziomie UI. Do testów obciążeniowych lepiej użyć dedykowanych narzędzi, takich jak JMeter czy Locust, które są zoptymalizowane do symulacji dużego obciążenia systemu.\n",
    "\n",
    "- **Link spidering** – \"Link spidering\", czyli automatyczne przechodzenie przez wszystkie linki na stronie, jest zbyt czasochłonne i nieoptymalne w Selenium. Dla takich zadań lepiej sprawdzą się narzędzia typu Scrapy, które zostały zaprojektowane do szybkiego przeszukiwania i indeksowania stron internetowych.\n",
    "\n",
    "- **2FA (uwierzytelnianie dwuskładnikowe)** – Automatyzacja procesów z dwuskładnikowym uwierzytelnianiem (2FA) jest trudna i może wymagać wyłączenia tego mechanizmu lub jego mockowania w środowisku testowym. Ponieważ 2FA wymaga interakcji z użytkownikiem (np. wprowadzenie kodu z SMS), automatyzacja jest niewygodna i podatna na błędy.\n"
   ]
  }
 ],
 "metadata": {
  "kernelspec": {
   "display_name": "Python 3",
   "language": "python",
   "name": "python3"
  },
  "language_info": {
   "codemirror_mode": {
    "name": "ipython",
    "version": 3
   },
   "file_extension": ".py",
   "mimetype": "text/x-python",
   "name": "python",
   "nbconvert_exporter": "python",
   "pygments_lexer": "ipython3",
   "version": "3.12.9"
  }
 },
 "nbformat": 4,
 "nbformat_minor": 2
}
