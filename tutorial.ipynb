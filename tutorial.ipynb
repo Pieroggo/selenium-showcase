{
 "cells": [
  {
   "cell_type": "markdown",
   "metadata": {},
   "source": [
    "# Selenium"
   ]
  },
  {
   "cell_type": "markdown",
   "metadata": {},
   "source": [
    "Biblioteka do automatyzacji działań w przeglądarkach internetowych. Głównie służąca do scrapowania informacji ze stron internetowych oraz do automatyzacji testów (black-box tests)."
   ]
  },
  {
   "cell_type": "markdown",
   "metadata": {},
   "source": [
    "### Import bibliotek"
   ]
  },
  {
   "cell_type": "code",
   "execution_count": 5,
   "metadata": {},
   "outputs": [],
   "source": [
    "import selenium as se\n",
    "from selenium import webdriver\n",
    "from selenium.webdriver.common.by import By\n",
    "from selenium.webdriver.common.keys import Keys\n",
    "import time"
   ]
  },
  {
   "cell_type": "markdown",
   "metadata": {},
   "source": [
    "## Prosty przykład działania"
   ]
  },
  {
   "cell_type": "markdown",
   "metadata": {},
   "source": [
    "Utworzenie instancji WebDriver dla przeglądarki Firefox i uruchomienie strony Google"
   ]
  },
  {
   "cell_type": "code",
   "execution_count": 21,
   "metadata": {},
   "outputs": [],
   "source": [
    "driver = webdriver.Firefox()\n",
    "driver.get(\"https://www.google.com\")"
   ]
  },
  {
   "cell_type": "markdown",
   "metadata": {},
   "source": [
    "Wyszukanie elementu po poniższym ID oraz kliknięcie w ten element (guzik \"Odrzuć\")"
   ]
  },
  {
   "cell_type": "code",
   "execution_count": 22,
   "metadata": {},
   "outputs": [],
   "source": [
    "odrzuc = driver.find_element(By.ID, \"W0wltc\")\n",
    "odrzuc.click()"
   ]
  },
  {
   "cell_type": "markdown",
   "metadata": {},
   "source": [
    "Znalezienie pola wyszukiwania po id (sposób z selektorem CSS), przesłanie słowa Python do pola i przesłanie formularza (w tym przypadku przesłanie frazy do wyszukania) "
   ]
  },
  {
   "cell_type": "code",
   "execution_count": 23,
   "metadata": {},
   "outputs": [],
   "source": [
    "poleWyszukiwania = driver.find_element(By.CSS_SELECTOR, \"#APjFqb\")\n",
    "poleWyszukiwania.send_keys(\"Python\")\n",
    "poleWyszukiwania.submit()"
   ]
  },
  {
   "cell_type": "markdown",
   "metadata": {},
   "source": [
    "Zamknięcie przeglądarki"
   ]
  },
  {
   "cell_type": "code",
   "execution_count": 24,
   "metadata": {},
   "outputs": [],
   "source": [
    "driver.quit()"
   ]
  },
  {
   "cell_type": "markdown",
   "metadata": {},
   "source": [
    "## WebDriver"
   ]
  },
  {
   "cell_type": "markdown",
   "metadata": {},
   "source": [
    "Klasa do zarządzania sesją przeglądarki. Używając instancji tej klasy możemy:\n",
    "- otworzyć daną stronę\n",
    "- zczytać dane ze strony (scrapowanie)\n",
    "- wejść w interakcję ze stroną\n",
    "- zamknąć/przełączyć okna przeglądarki"
   ]
  },
  {
   "cell_type": "markdown",
   "metadata": {},
   "source": [
    "Aktualnie wspierane przeglądarki do automatyzacji z użyciem Selenium to Chrome, Edge, Firefox, Internet Exploder i Safari. Każda przeglądarka posiada swoją instancję WebDrivera, np. `Edge()` dla przeglądarki Microsoft Edge."
   ]
  },
  {
   "cell_type": "code",
   "execution_count": 25,
   "metadata": {},
   "outputs": [],
   "source": [
    "driver = webdriver.Edge() # przeglądarka Edge"
   ]
  },
  {
   "cell_type": "markdown",
   "metadata": {},
   "source": [
    "### WebDriver Options\n",
    "\n",
    "Klasa do ustawienia opcji dla danego WebDrivera. Każda przeglądarka posiada swoją własną klasę opcji - wszystkie posiadają część wspólnych ustawień jak i również te specyficzne dla danej przeglądarki. \n",
    "\n",
    "Instację opcji Edge'a i Chrome'a tworzy się przy pomocy funkcji `get_default_edge_options()` lub `get_default_chrome_options()`, dla reszty przeglądarek korzysta się z konstruktora odpowiednich klas (dla Firefoxa, `FirefoxOptions()`).\n",
    "\n",
    "Aby zmodyfikować opcje, należy zmienić wartości w słowniku `capabilities` lub zmienić wartość pola (dla niektórych pól)."
   ]
  },
  {
   "cell_type": "code",
   "execution_count": 26,
   "metadata": {},
   "outputs": [
    {
     "name": "stdout",
     "output_type": "stream",
     "text": [
      "{'browserName': 'firefox', 'acceptInsecureCerts': True, 'moz:debuggerAddress': True, 'pageLoadStrategy': <PageLoadStrategy.normal: 'normal'>, 'browserVersion': None, 'moz:firefoxOptions': {'binary': 'C:\\\\Users\\\\dawid\\\\AppData\\\\Local\\\\Mozilla Firefox\\\\firefox.exe'}}\n"
     ]
    }
   ],
   "source": [
    "options = webdriver.FirefoxOptions()\n",
    "driver = webdriver.Firefox(options = options)\n",
    "print(options.capabilities)"
   ]
  },
  {
   "cell_type": "markdown",
   "metadata": {},
   "source": [
    "Opcje domyślnie (widoczny powyżej) składają się z poniższych ustawień:\n",
    "- `browserName` - nazwa wyszukiwarki\n",
    "- `acceptInsecureCerts` - jeśli jest `False`, zwraca błąd przy nawigacji strony z przedawnionym lub niewłaściwym certyfikatem TLS\n",
    "- `moz:debuggerAddress` - specjalny parametr Firefoxa - wskazuje czy uruchomić server do debugowania przy starcie WebDrivera\n",
    "- `pageLoadStrategy` - strategia ładowania strony:\n",
    "    - `normal` - czeka na załadowanie się całej strony\n",
    "    - `eager` - aktywuje się gdy jest dostęp do pełnej strony od strony html, ale inne elementy nieinteraktywne np. obrazy mogą być w trakcie ładowania\n",
    "    - `none` - nie czeka, webDriver kontynuuje działanie od razu\n",
    "    \n",
    "    Bazuje na stanie parametru DOM `document.readyState`.\n",
    "- `browserVersion` - wersja przeglądarki, opcjonalnie\n",
    "- opcja na specyficzne ustawienia, tutaj `moz:firefoxOptions`:\n",
    "    - `binary` - określa ścieżkę do przeglądarki\n",
    "    - `prefs` - preferncje profilu, tutaj ustawienie odnośnie wyboru aktywnego protokołu\n"
   ]
  },
  {
   "cell_type": "markdown",
   "metadata": {},
   "source": [
    "#### Timeouts"
   ]
  },
  {
   "cell_type": "markdown",
   "metadata": {},
   "source": [
    "Można dodatkowo ustawić różne interwały czasu, w których skrypt ma wykonać określoną czynność. Są 3 rodzaje:\n",
    "- `script` - interwał czasu na wykonanie skryptu w danym kontekście, domyślnie ustawiony na 30 sekund\n",
    "- `pageLoad` - interwał czasu na załadowanie strony, domyślnie 5 minut\n",
    "- `implicit` - interwał czasu na znalezienie wskazanego elementu na stronie, domyślnie opcja ustawiona na 0 (minimalny czas)"
   ]
  },
  {
   "cell_type": "code",
   "execution_count": 27,
   "metadata": {},
   "outputs": [
    {
     "name": "stdout",
     "output_type": "stream",
     "text": [
      "{'browserName': 'firefox', 'acceptInsecureCerts': True, 'moz:debuggerAddress': True, 'pageLoadStrategy': <PageLoadStrategy.normal: 'normal'>, 'browserVersion': None, 'moz:firefoxOptions': {'binary': 'C:\\\\Users\\\\dawid\\\\AppData\\\\Local\\\\Mozilla Firefox\\\\firefox.exe'}, 'timeouts': {'script': 10000, 'pageLoad': 50000, 'implicit': 100}}\n"
     ]
    }
   ],
   "source": [
    "options.timeouts = {'script': 10000,'pageLoad': 50000,'implicit': 100}\n",
    "print(options.capabilities)"
   ]
  },
  {
   "cell_type": "markdown",
   "metadata": {},
   "source": [
    "#### unhandledPromptBehivour"
   ]
  },
  {
   "cell_type": "markdown",
   "metadata": {},
   "source": [
    "Parametr określający akcję do wykonania przy natrafieniu pop-upu lub okienek potwierdzenia. Dostępne są poniższe stany:\n",
    "- `dismiss` - automatyczne odrzucenie\n",
    "- `accept` - automatyczne zatwierdzenie\n",
    "- `dismiss and notify` - automatyczne odrzucenie i powiadomienie webDrivera\n",
    "- `accept and notify` - automatyczne zatwierdzenie i powiadomienie webDrivera\n",
    "- `ignore` - zignorowanie"
   ]
  },
  {
   "cell_type": "code",
   "execution_count": 28,
   "metadata": {},
   "outputs": [
    {
     "name": "stdout",
     "output_type": "stream",
     "text": [
      "{'browserName': 'firefox', 'acceptInsecureCerts': True, 'moz:debuggerAddress': True, 'pageLoadStrategy': <PageLoadStrategy.normal: 'normal'>, 'browserVersion': None, 'moz:firefoxOptions': {'binary': 'C:\\\\Users\\\\dawid\\\\AppData\\\\Local\\\\Mozilla Firefox\\\\firefox.exe'}, 'timeouts': {'script': 10000, 'pageLoad': 50000, 'implicit': 100}, 'unhandledPromptBehavior': 'accept'}\n"
     ]
    }
   ],
   "source": [
    "options.unhandled_prompt_behavior = 'accept'\n",
    "print(options.capabilities)"
   ]
  },
  {
   "cell_type": "markdown",
   "metadata": {},
   "source": [
    "#### setWindowRect\n",
    "\n",
    "Wskazuje, czy przeglądarka wspiera wszystkie komendy do zmiany lokalizacji i rozmiaru"
   ]
  },
  {
   "cell_type": "code",
   "execution_count": 29,
   "metadata": {},
   "outputs": [
    {
     "name": "stdout",
     "output_type": "stream",
     "text": [
      "{'browserName': 'firefox', 'acceptInsecureCerts': True, 'moz:debuggerAddress': True, 'pageLoadStrategy': <PageLoadStrategy.normal: 'normal'>, 'browserVersion': None, 'moz:firefoxOptions': {'binary': 'C:\\\\Users\\\\dawid\\\\AppData\\\\Local\\\\Mozilla Firefox\\\\firefox.exe'}, 'timeouts': {'script': 10000, 'pageLoad': 50000, 'implicit': 100}, 'unhandledPromptBehavior': 'accept', 'setWindowRect': True}\n"
     ]
    }
   ],
   "source": [
    "options.set_window_rect = True\n",
    "print(options.capabilities)"
   ]
  },
  {
   "cell_type": "markdown",
   "metadata": {},
   "source": [
    "#### strictFileInteractibility\n",
    "\n",
    "Parametr wskazujący, czy na wszelkie pola do przesłania plików (`<input type=\"file\">`) mają być dodatkowo sprawdzane pod kątem widoczności i dostępności. Przy ustawieniu wartości na `False`, webDriver będzie mógł przesłać plik pomimo schowania/zablokowania dostępu do przesłania dla zwykłego użytkownika."
   ]
  },
  {
   "cell_type": "code",
   "execution_count": 30,
   "metadata": {},
   "outputs": [
    {
     "name": "stdout",
     "output_type": "stream",
     "text": [
      "{'browserName': 'firefox', 'acceptInsecureCerts': True, 'moz:debuggerAddress': True, 'pageLoadStrategy': <PageLoadStrategy.normal: 'normal'>, 'browserVersion': None, 'moz:firefoxOptions': {'binary': 'C:\\\\Users\\\\dawid\\\\AppData\\\\Local\\\\Mozilla Firefox\\\\firefox.exe'}, 'timeouts': {'script': 10000, 'pageLoad': 50000, 'implicit': 100}, 'unhandledPromptBehavior': 'accept', 'setWindowRect': True, 'strictFileInteractability': True}\n"
     ]
    }
   ],
   "source": [
    "options.strict_file_interactability = True\n",
    "print(options.capabilities)"
   ]
  },
  {
   "cell_type": "markdown",
   "metadata": {},
   "source": [
    "#### Proxy\n",
    "\n",
    "Ustawienie serwera proxy. Przyjmuje takie argumenty jak np. adresy serwerów różnego rodzaju, autodetekcję czy jej typ. Dostępne typy:\n",
    "- `DIRECT` - bezpośrednie połączenie\n",
    "- `MANUAL` - manualne ustawienie proxy (np. dla serwera http)\n",
    "- `PAC` - autokonfiguracja z URL\n",
    "- `AUTODETECT` - autodetekcja\n",
    "- `SYSTEM` - użycie ustawień systemowych"
   ]
  },
  {
   "cell_type": "code",
   "execution_count": 31,
   "metadata": {},
   "outputs": [
    {
     "name": "stdout",
     "output_type": "stream",
     "text": [
      "{'browserName': 'firefox', 'acceptInsecureCerts': True, 'moz:debuggerAddress': True, 'pageLoadStrategy': <PageLoadStrategy.normal: 'normal'>, 'browserVersion': None, 'moz:firefoxOptions': {'binary': 'C:\\\\Users\\\\dawid\\\\AppData\\\\Local\\\\Mozilla Firefox\\\\firefox.exe'}, 'timeouts': {'script': 10000, 'pageLoad': 50000, 'implicit': 100}, 'unhandledPromptBehavior': 'accept', 'setWindowRect': True, 'strictFileInteractability': True, 'proxy': {'proxyType': 'manual', 'httpProxy': '127.0.0.1:6942'}}\n"
     ]
    }
   ],
   "source": [
    "from selenium.webdriver.common.proxy import Proxy,ProxyType\n",
    "options.proxy = Proxy({'proxyType':ProxyType.MANUAL,'httpProxy': '127.0.0.1:6942'})\n",
    "print(options.capabilities)"
   ]
  },
  {
   "cell_type": "code",
   "execution_count": 32,
   "metadata": {},
   "outputs": [],
   "source": [
    "#reset opcji\n",
    "options = webdriver.FirefoxOptions()"
   ]
  },
  {
   "cell_type": "markdown",
   "metadata": {},
   "source": [
    "### WebDriver Service"
   ]
  },
  {
   "cell_type": "markdown",
   "metadata": {},
   "source": [
    "Klasa z ustawieniami technicznymi dla WebDrivera, takie jak lokalizacja, port do użycia i które argumenty zostają przekazane do wiersza poleceń.\n",
    "\n",
    "Podobnie jak opcje, przekazuje się je do konstruktora WebDrivera poprzez argument, tutaj keyword `service`."
   ]
  },
  {
   "cell_type": "code",
   "execution_count": 33,
   "metadata": {},
   "outputs": [],
   "source": [
    "service = webdriver.FirefoxService()\n",
    "driver = webdriver.Firefox(service = service)"
   ]
  },
  {
   "cell_type": "markdown",
   "metadata": {},
   "source": [
    "#### Ścieżka do Drivera\n",
    "\n",
    "W wersji Selenium 4.6 i wyżej, nie jest potrzebne wskazywanie lokalizacji Drivera. Jednak w razie braku możliwości update'u lub z innego powodu, można ją ustawić w instancji przez argument `executable_path`."
   ]
  },
  {
   "cell_type": "code",
   "execution_count": null,
   "metadata": {},
   "outputs": [],
   "source": [
    "path = './path/to/driver'\n",
    "service = webdriver.FirefoxService(executable_path = path) # oczywiście nie zadziała ;P"
   ]
  },
  {
   "cell_type": "markdown",
   "metadata": {},
   "source": [
    "#### Docelowe miejsce logowania\n",
    "\n",
    "Aby wskazać plik, do którego chcemy wysyłać informacje logowane od WebDrivera, można to wskazać używając argumentu `log_path`. Jeśli chcemy, aby logi pojawiały się w wierszu konsoli, możemy to wskazać poprzez `subprocess.STDOUT` (z pakietu `subprocess`)"
   ]
  },
  {
   "cell_type": "code",
   "execution_count": null,
   "metadata": {},
   "outputs": [],
   "source": [
    "import subprocess\n",
    "service = webdriver.FirefoxService(log_output = subprocess.STDOUT)"
   ]
  },
  {
   "cell_type": "markdown",
   "metadata": {},
   "source": [
    "#### `service_args`\n",
    "\n",
    "Aby wskazać jakie rodzaje logów mają być zapisywane we wskazanym miejscu i czy mają być one skracane, możemy przekazać listę argumentów wskazujących poziomy logów (np. debug, trace, info) po parametrze `--log`. Dodatkowo, przekazując parametr `--log-not-truncate`, żeby przesłać pełne dane ze strumienia logów."
   ]
  },
  {
   "cell_type": "code",
   "execution_count": null,
   "metadata": {},
   "outputs": [],
   "source": [
    "service = webdriver.FirefoxService(service_args = ['--log-no-truncate', '--log', 'debug', 'info'])"
   ]
  },
  {
   "cell_type": "markdown",
   "metadata": {},
   "source": [
    "### Elementy specyficzne dla Firefox'a"
   ]
  },
  {
   "cell_type": "markdown",
   "metadata": {},
   "source": [
    "#### Profile\n",
    "\n",
    "Firefox pozwala na utworzenie profili zawierających informacje odnośnie haseł, ustawień i tym podobnych. Należy skorzystać tutaj z instancji klasy `FirefoxProfile` i z metody `set_preference` do dodania danych ustawień/preferencji. "
   ]
  },
  {
   "cell_type": "code",
   "execution_count": null,
   "metadata": {},
   "outputs": [],
   "source": [
    "options = webdriver.FirefoxOptions()\n",
    "firefox_profile = webdriver.FirefoxProfile()\n",
    "firefox_profile.set_preference(\"javascript.enabled\", False)\n",
    "options.profile = firefox_profile"
   ]
  },
  {
   "cell_type": "markdown",
   "metadata": {},
   "source": [
    "W serwisie można jako argument w `service_args` przekazać ścieżkę do eksportowanego profilu."
   ]
  },
  {
   "cell_type": "code",
   "execution_count": null,
   "metadata": {},
   "outputs": [],
   "source": [
    "temp_dir = './path/to/profile'\n",
    "service = webdriver.FirefoxService(service_args = ['--profile-root', temp_dir]) # oczywiście nie zadziała tutaj"
   ]
  },
  {
   "cell_type": "markdown",
   "metadata": {},
   "source": [
    "#### Dodatki\n",
    "\n",
    "Do przeglądarki Firefox na czas testów można zainstalować dodatki, poprzez pliki o rozszerzeniu `xpi`. Metody `install_addon` i `uninstall_addon` pozwalają na instalację i deinstalację danego dodatku, w przypadku instalacji potrzebna jest ścieżka do pliku, do deinstalacji musimy odnaleźć id dodatku. \n",
    "\n",
    "Ponadto, możemy zaznaczyć jak wtyczka nie jest zatwierdzona lub jak chcemy zainstalować wtyczkę tylko tymczasowo. Wtedy musimy nastawić parametr `temporary` na `True`.|"
   ]
  },
  {
   "cell_type": "code",
   "execution_count": null,
   "metadata": {},
   "outputs": [],
   "source": [
    "id = driver.install_addon(\"path/to/addon\")\n",
    "driver.uninstall_addon(id)"
   ]
  },
  {
   "cell_type": "markdown",
   "metadata": {},
   "source": [
    "#### Zrzuty ekranu\n",
    "\n",
    "Można wykonać zrzut ekranu i zapisać do wskazanego miejsca poprzez metodę `save_full_page_screenshot`."
   ]
  },
  {
   "cell_type": "code",
   "execution_count": null,
   "metadata": {},
   "outputs": [],
   "source": [
    "driver.save_full_page_screenshot(\"screenshot.png\")"
   ]
  },
  {
   "cell_type": "markdown",
   "metadata": {},
   "source": [
    "### Ustawienia specyficzne dla Chrome"
   ]
  },
  {
   "cell_type": "markdown",
   "metadata": {},
   "source": [
    "#### Argumenty\n",
    "\n",
    "Do Chrome'a, można przekazać argumenty poprzez funkcję `add_argument`. Argumentami są flagi określające mody, w których przeglądarka będzie uruchomiona lub według których będzie odpowiednio skonfigurowana, np. `--headless` włącza okrojoną wersję strony bez UI, `--start-maximized` uruchamia okno zmaksymalizowane. \n"
   ]
  },
  {
   "cell_type": "code",
   "execution_count": 34,
   "metadata": {},
   "outputs": [],
   "source": [
    "from selenium.webdriver import ChromeOptions\n",
    "options = ChromeOptions()\n",
    "options.add_argument(\"--start-maximized\")\n"
   ]
  },
  {
   "cell_type": "markdown",
   "metadata": {},
   "source": [
    "#### Przekazywanie logów do plików\n",
    "\n",
    "Poza wskazaniem ścieżki do logów jak w Firefox, można dodać 2 dodatkowe flagi do `service_args` - `--append_log` do dodania logów na koniec pliku wskazanego, oraz `--readable-timestamp` do sformatowania wszelkich dat. Należy pamiętać o podaniu rodzajów logów logowanych, aby to zadziałało."
   ]
  },
  {
   "cell_type": "code",
   "execution_count": null,
   "metadata": {},
   "outputs": [],
   "source": [
    "log_path=subprocess.STDOUT\n",
    "service = webdriver.ChromeService(service_args=['--log','trace','--append-log', '--readable-timestamp'], log_output=log_path)"
   ]
  },
  {
   "cell_type": "markdown",
   "metadata": {},
   "source": [
    "#### Chrome Casting\n",
    "\n",
    "Chrome pozwala na dublowanie stron/zakładek poprzez Chrome Casting. Aby to wykonać, trzeba uzyskać sinki Chrome Casta i wskazać driverowi rozpoczęcie dublowania zakładek na sink o danej nazwie."
   ]
  },
  {
   "cell_type": "code",
   "execution_count": 35,
   "metadata": {},
   "outputs": [
    {
     "name": "stdout",
     "output_type": "stream",
     "text": [
      "No available Cast sinks to test with.\n"
     ]
    }
   ],
   "source": [
    "driver = webdriver.Chrome()\n",
    "try:\n",
    "    sinks = driver.get_sinks()\n",
    "    if sinks:\n",
    "        sink_name = sinks[0]['name']\n",
    "        driver.start_tab_mirroring(sink_name)\n",
    "        driver.stop_casting(sink_name)\n",
    "    else:\n",
    "        print(\"No available Cast sinks to test with.\")\n",
    "finally:\n",
    "    driver.quit()"
   ]
  },
  {
   "cell_type": "markdown",
   "metadata": {},
   "source": [
    "#### Symulacje stanów sieci\n",
    "\n",
    "Można zasymulować działanie sieci w określonych warunkach, przesyłając słownik z takimi informacjami jak np. prędkość przesyłu danych, opóźnienie etc."
   ]
  },
  {
   "cell_type": "code",
   "execution_count": null,
   "metadata": {},
   "outputs": [],
   "source": [
    "network_conditions = {\n",
    "    \"offline\": False,\n",
    "    \"latency\": 20,  # w ms\n",
    "    \"download_throughput\": 2000 * 1024 / 8,  # 2000 kilobitów na sekundę (1024 to kilobajt, 8 bitów to 1 bajt, czyli de facto 128 kB na sekundę)\n",
    "    \"upload_throughput\": 2000 * 1024 / 8,\n",
    "}\n",
    "driver.set_network_conditions(**network_conditions)"
   ]
  },
  {
   "cell_type": "markdown",
   "metadata": {},
   "source": [
    "### Edge\n",
    "Edge bazuje na Chromium, czyli w dużej mierze posiada te możliwości co Chrome. Dodatkowo, można uruchomić Edge'a w stylu Internet Explorer (w przypadku potrzeby aktualizacji testów, które były robione ne IE). Wystarczy utworzyć obiekty Webdrivera i opcji do Internet Explorera i wskazać wykonawczy plik Edge'a jako plik przeglądarki."
   ]
  },
  {
   "cell_type": "code",
   "execution_count": null,
   "metadata": {},
   "outputs": [],
   "source": [
    "ie_options = webdriver.IeOptions()\n",
    "ie_options.attach_to_edge_chrome = True\n",
    "ie_options.edge_executable_path = \"C:/Program Files (x86)/Microsoft/Edge/Application/msedge.exe\"\n",
    "\n",
    "driver = webdriver.Ie(options=ie_options)\n",
    "\n",
    "driver.get(\"http://www.bing.com\")\n",
    "elem = driver.find_element(By.ID, 'sb_form_q')\n",
    "elem.send_keys('WebDriver' + Keys.RETURN)\n",
    "\n",
    "driver.quit()"
   ]
  },
  {
   "cell_type": "markdown",
   "metadata": {},
   "source": [
    "## Elementy strony - narzędzia do scrapowania i nie tylko"
   ]
  },
  {
   "cell_type": "markdown",
   "metadata": {},
   "source": [
    "### Znajdowanie elementów\n",
    "\n",
    "Aby znaleźć określony element na stronie, należy zastosować metodę `find_element` z odpowiednią strategią lokalizacji, dostępną w klasie By. \n",
    "\n",
    "Dostępne strategie:\n",
    "- CLASS_NAME - po danej klasie (pojedynczej, nie przyjmuje wielu klas)\n",
    "- TAG_NAME - po nazwie tagu \n",
    "- ID - po id elementu\n",
    "- NAME - po atrybucie `name` elementu\n",
    "- LINK_TEXT - po widocznym tekście w danym elemencie (ewentualnie PARTIAL_LINK_TEXT do szukania po części tekstu)\n",
    "- CSS_SELECTOR - po pełnym selektorze CSS - klasie, id, nazwie tagu\n",
    "- XPATH - po ścieżce XMLowej\n",
    "\n"
   ]
  },
  {
   "cell_type": "code",
   "execution_count": 1,
   "metadata": {},
   "outputs": [],
   "source": [
    "import selenium.webdriver as webdriver\n",
    "from selenium.webdriver.common.by import By\n",
    "driver = webdriver.Firefox()\n",
    "driver.get(\"https://www.selenium.dev/selenium/web/locators_tests/locators.html\")\n"
   ]
  },
  {
   "cell_type": "code",
   "execution_count": 2,
   "metadata": {},
   "outputs": [
    {
     "name": "stdout",
     "output_type": "stream",
     "text": [
      "Jane\n",
      "input\n"
     ]
    }
   ],
   "source": [
    "e=driver.find_element(By.ID, \"fname\")\n",
    "print(e.get_attribute(\"value\"))\n",
    "element = driver.find_element(By.XPATH, \"//input[@value='f']\")\n",
    "print(e.tag_name)"
   ]
  },
  {
   "cell_type": "markdown",
   "metadata": {},
   "source": [
    "Jeśli nie mamy klasy/id danego elementu, ale posiadamy wiedzę o względnej lokalizacji w stosunku do innego elementu możemy zastosować lokatory względne. Dostępne mamy:\n",
    "\n",
    "- `above` - nad danym elementem\n",
    "- `below` - pod danym elementem\n",
    "- `to_left_of` - na lewo od danego elementu\n",
    "- `to_right_of` - na prawo od danego elementu\n",
    "- `near` - w odległości max 50 pixeli od danego elementu\n",
    "\n",
    "Wykorzystujemy te funkcje wraz z `locate_with` z informacją o nazwie tagu. W funkcji lokatora, przekazujemy strategie lokalizacji dla elementu względem którego szukamy."
   ]
  },
  {
   "cell_type": "code",
   "execution_count": null,
   "metadata": {},
   "outputs": [],
   "source": [
    "password_locator = webdriver.support.relative_locator.locate_with(By.TAG_NAME, \"input\").below({By.ID: \"email\"})"
   ]
  },
  {
   "cell_type": "markdown",
   "metadata": {},
   "source": [
    "Lokatory względne można łączyć ze sobą jeśli musimy dodatkowo uszczegółowić parametry do lokalizacji."
   ]
  },
  {
   "cell_type": "code",
   "execution_count": null,
   "metadata": {},
   "outputs": [],
   "source": [
    "submit_locator = webdriver.support.relative_locator.locate_with(By.TAG_NAME, \"button\").below({By.ID: \"email\"}).to_right_of({By.ID: \"cancel\"})"
   ]
  },
  {
   "cell_type": "markdown",
   "metadata": {},
   "source": [
    "Po odnalezieniu danego elementu, można kontynuowanie przeszukiwanie, traktując element jako podzbiór, w którym będziemy szukać kolejnego określonego strategiami elementu. "
   ]
  },
  {
   "cell_type": "code",
   "execution_count": null,
   "metadata": {},
   "outputs": [],
   "source": [
    "fruits = driver.find_element(By.ID, \"fruits\")\n",
    "fruit = fruits.find_element(By.CLASS_NAME,\"tomatoes\")"
   ]
  },
  {
   "cell_type": "markdown",
   "metadata": {},
   "source": [
    "### Znajdowanie wielu elementów\n",
    "\n",
    "Zamiast szukania pojedynczego elementu, Selenium jest w stanie zwrócić pełną listę elementów spełniających podane wymagania selektora. Po zwróconej liście można normalnie iterować w celu interakcji/zebrania informacji."
   ]
  },
  {
   "cell_type": "code",
   "execution_count": null,
   "metadata": {},
   "outputs": [],
   "source": [
    "plants = driver.find_elements(By.TAG_NAME, \"li\")\n",
    "for p in plants:\n",
    "    print(p.text)"
   ]
  },
  {
   "cell_type": "markdown",
   "metadata": {},
   "source": [
    "### Aktywny element\n",
    "\n",
    "Do wybrania aktualnie aktywnego elementu (wybranego przez użytkownika), możemy wykorzystać pole `active_element` w metodzie `switch_to`."
   ]
  },
  {
   "cell_type": "code",
   "execution_count": null,
   "metadata": {},
   "outputs": [],
   "source": [
    "active_element=driver.switch_to.active_element\n",
    "print(active_element.text)"
   ]
  },
  {
   "cell_type": "markdown",
   "metadata": {},
   "source": [
    "### Informacje o danym elemencie"
   ]
  },
  {
   "cell_type": "markdown",
   "metadata": {},
   "source": [
    "O każdym elemencie możemy otrzymać informacje, np. czy element jest uruchomiony, jaki on jest i wartość określonej właściwości.\n",
    "\n",
    "Elementy posiadają metody `isDisplayed()`, `isEnabled()` i `isSelected()` zwracające boola określającego czy kolejno element jest wyświetlony, włączony czy zazanczony."
   ]
  },
  {
   "cell_type": "code",
   "execution_count": null,
   "metadata": {},
   "outputs": [],
   "source": [
    "element=driver.find_element(by=By.TAG_NAME, value=\"header\")\n",
    "print(element.isDisplayed())\n",
    "print(element.isEnabled())\n",
    "print(element.isSelected())"
   ]
  },
  {
   "cell_type": "markdown",
   "metadata": {},
   "source": [
    "Korzystając z pól `tag_name`, `text` i `rect`, możemy kolejno otrzymać informację o nazwie tagu danego elementu, zawartości tesktowej tego elementu oraz jego rozmiaru na stronie (współrzędne górnego lewego rogu elementu, wysokość i szerokość elementu)."
   ]
  },
  {
   "cell_type": "code",
   "execution_count": null,
   "metadata": {},
   "outputs": [],
   "source": [
    "print(element.tag_name)\n",
    "print(element.text)\n",
    "print(element.rect)"
   ]
  },
  {
   "cell_type": "markdown",
   "metadata": {},
   "source": [
    "Do przechwycenia określonych właściwości tagu - HTMLowych lub CSSowych - wykorzystujemy kolejno funkcje `get_attribute()` i `value_of_css_property()`."
   ]
  },
  {
   "cell_type": "code",
   "execution_count": null,
   "metadata": {},
   "outputs": [],
   "source": [
    "print(element.get_attribute(\"name\"))\n",
    "print(element.value_of_css_property(\"background-color\"))"
   ]
  },
  {
   "cell_type": "markdown",
   "metadata": {},
   "source": [
    "### Przerwy - instrukcje czekania"
   ]
  },
  {
   "cell_type": "markdown",
   "metadata": {},
   "source": [
    "Selenium posiada możliwość oprogramowania przerw w wykonywaniu aktywności na stronie. \n",
    "\n",
    "Są 2 główne rodzaje: niejawne i jawne. \n",
    "\n",
    "Niejawne przerwy powodują czekanie na zwrócenie błędu - jeśli element nie został od razu znaleziony, niejawna przerwa spowoduje wystąpienie błędu z pewnym opóźnieniem. Jeśli, podczas przerwy, pierwotnie szukany element zostanie znaleziony, kod będzie kontynuowany normalnie.\n",
    "\n",
    "Jawne przerwy sprawdzają określony warunek. Jeśli warunek nie zostanie spełniony w określonym czasie, wg parametry `timeout`, zwrócony zostanie błąd timeoutu. Takie przerwy są robione poprzez stworzenie instacji klasy `WebDriverWait(driver, timeout)` i nastawienie warunku poprzez metodę `until()`"
   ]
  },
  {
   "cell_type": "code",
   "execution_count": null,
   "metadata": {},
   "outputs": [],
   "source": [
    "from selenium.webdriver.support.wait import WebDriverWait\n",
    "\n",
    "\n",
    "driver.implicitly_wait(2) #przerwa niejawna\n",
    "\n",
    "wait=WebDriverWait(driver,timeout=4) #przerwa jawna\n",
    "wait.until(lambda _ : element.isDisplayed()) # warunek"
   ]
  },
  {
   "cell_type": "markdown",
   "metadata": {},
   "source": [
    "Zastosowanie `WebDriverWait` z odpowiednią strategią lokalizacji może być dobrą alternatywą do wyszuwiania elementów poprzez `find_element()`. Można dodatkowo wskazać rodzaj dostępności i czas oczekiwania na dostępność danego elementu. "
   ]
  },
  {
   "cell_type": "code",
   "execution_count": null,
   "metadata": {},
   "outputs": [],
   "source": [
    "from selenium.webdriver.support.ui import WebDriverWait\n",
    "from selenium.webdriver.support import expected_conditions as EC"
   ]
  },
  {
   "cell_type": "markdown",
   "metadata": {},
   "source": [
    "W poniższym przykładzie najpierw oczekujemy, aż pierwszy element będzie istnieć w DOM (nawet jeśli go nie widać), potem pobieramy go.\n",
    "\n",
    "Następnie oczekujemy aż drugi element będzie widoczny (czyli ma wysokość/szerokość i nie jest display: none)."
   ]
  },
  {
   "cell_type": "code",
   "execution_count": null,
   "metadata": {},
   "outputs": [
    {
     "name": "stdout",
     "output_type": "stream",
     "text": [
      "Jane\n",
      "input\n"
     ]
    }
   ],
   "source": [
    "\n",
    "e = WebDriverWait(driver, 10).until(EC.visibility_of_element_located((By.ID, \"fname\")))\n",
    "print(e.get_attribute(\"value\"))\n",
    "element = WebDriverWait(driver, 10).until(EC.presence_of_element_located((By.XPATH, \"//input[@value='f']\")))\n",
    "print(e.tag_name)"
   ]
  },
  {
   "cell_type": "markdown",
   "metadata": {},
   "source": [
    "Najważniejsze warunki, których możemy użyć z WebDriverWait:\n",
    "\n",
    "- `presence_of_element_located` – element istnieje w DOM, ale może być niewidoczny\n",
    "- `visibility_of_element_located` – element istnieje i jest widoczny\n",
    "- `element_to_be_clickable` – element jest widoczny i aktywny (klikalny)\n",
    "- `presence_of_all_elements_located` – wszystkie wskazane elementy istnieją w DOM\n",
    "- `visibility_of_all_elements_located` – wszystkie wskazane elementy są widoczne\n",
    "- `invisibility_of_element_located` – element jest niewidoczny lub nie istnieje\n",
    "- `text_to_be_present_in_element` – określony tekst znajduje się wewnątrz elementu\n",
    "- `text_to_be_present_in_element_value` – tekst znajduje się w atrybucie `value` (np. input)\n",
    "- `staleness_of` – element przestał istnieć w DOM (np. po odświeżeniu strony)"
   ]
  },
  {
   "cell_type": "markdown",
   "metadata": {},
   "source": [
    "## Interakcje z przeglądarką"
   ]
  },
  {
   "cell_type": "markdown",
   "metadata": {},
   "source": [
    "Selenium pozwala na wchodzenie w interakcję z przeglądarką. Daje dostęp do akcji wykonywalnych przez człowiek (nawigacja po stronach, odklikanie pop-upów, zmiana rozmiaru okna) jak i takich jak zarządzanie ciasteczkami, wirtualne uwierzytelnianie oraz robienie zrzutów okien.\n",
    "\n",
    "W łatwy sposób można otrzymać tytuł i aktualny URL strony otwartej w sesji WebDrivera, poprzez pola `title` i `current_url`."
   ]
  },
  {
   "cell_type": "code",
   "execution_count": null,
   "metadata": {},
   "outputs": [],
   "source": [
    "print(driver.title)\n",
    "print(driver.current_url)"
   ]
  },
  {
   "cell_type": "markdown",
   "metadata": {},
   "source": [
    "Możliwa jest automatyzacja przechodzenia po stronach w przód, w tył i odświeżania przy użyciu metod `back()`, `forward()` i `refresh()`"
   ]
  },
  {
   "cell_type": "code",
   "execution_count": null,
   "metadata": {},
   "outputs": [],
   "source": [
    "driver.get(\"https://www.selenium.dev/selenium/web/index.html\")"
   ]
  },
  {
   "cell_type": "code",
   "execution_count": null,
   "metadata": {},
   "outputs": [],
   "source": [
    "driver.back()"
   ]
  },
  {
   "cell_type": "code",
   "execution_count": null,
   "metadata": {},
   "outputs": [],
   "source": [
    "driver.forward()"
   ]
  },
  {
   "cell_type": "code",
   "execution_count": null,
   "metadata": {},
   "outputs": [],
   "source": [
    "driver.refresh()"
   ]
  },
  {
   "cell_type": "markdown",
   "metadata": {},
   "source": [
    "Selenium umożliwia na wejście w interakcję z wszelkimi pop-upami Javascriptowymi. Najlepszym podejściem jest zastosowanie przerwy jawnej `WebDriverWait` do przechwycenia alertu, korzystając z pola `switch_to.alert`. Alerty można akceptować, odrzucić i, jeśli jest pole tekstowe, wpisać coś do niego."
   ]
  },
  {
   "cell_type": "code",
   "execution_count": null,
   "metadata": {},
   "outputs": [],
   "source": [
    "wait = WebDriverWait(driver, timeout=2)\n",
    "alert = wait.until(lambda d : d.switch_to.alert)\n",
    "alert.send_keys(\"Selenium\")\n",
    "text = alert.text\n",
    "alert.accept()\n",
    "#alert.dismiss() #do odrzucania alertów"
   ]
  },
  {
   "cell_type": "markdown",
   "metadata": {},
   "source": [
    "Zarządzanie ciasteczkami w Selenium polega na dodawaniu i usuwaniu ciasteczek poprzez metody `add_cookie()` i `delete_cookie()` (dodawanie przyjmuje słownik jako parametr, usuwanie przechodzi po nazwie). Ciasteczko o określonej nazwie można uzyskać przez metodę `get_cookie()`. Możliwe jest rownież otrzymanie pełnej listy ciasteczek oraz usunięcie ich."
   ]
  },
  {
   "cell_type": "code",
   "execution_count": null,
   "metadata": {},
   "outputs": [],
   "source": [
    "driver.add_cookie({\"name\": \"key\", \"value\": \"value\"})\n",
    "\n",
    "print(driver.get_cookie(\"key\"))\n",
    "print(driver.get_cookies())\n",
    "\n",
    "driver.delete_cookie(\"key\")\n",
    "print(driver.get_cookies())\n",
    "driver.delete_all_cookies()\n",
    "print(driver.get_cookies())"
   ]
  },
  {
   "cell_type": "markdown",
   "metadata": {},
   "source": [
    "Ważnym parametrem w ciasteczkach jest `sameSite` - pozwala na określenie czy ciasteczka mają być przesyłane razem z żądaniami GET wysyłanych przez strony osób trzecich. Opcja `\"Strict\"` blokuje przesyłanie ciasteczek, a opcja `\"Lax\"` je wysyła. Zostało dodane aby mitygować ataki CSRF (Cross-Site Request Forgery)."
   ]
  },
  {
   "cell_type": "markdown",
   "metadata": {},
   "source": [
    "#### Okna\n",
    "\n",
    "Okna można rozróżnić poprzez określone uchwyty/id. Przykładowo, można zapisać uchwyt aktualnie otworzonego okna, jeśli będziemy chcieli je otworzyć po przejściu na inne witryny. "
   ]
  },
  {
   "cell_type": "code",
   "execution_count": 2,
   "metadata": {},
   "outputs": [
    {
     "ename": "NameError",
     "evalue": "name 'driver' is not defined",
     "output_type": "error",
     "traceback": [
      "\u001b[31m---------------------------------------------------------------------------\u001b[39m",
      "\u001b[31mNameError\u001b[39m                                 Traceback (most recent call last)",
      "\u001b[36mCell\u001b[39m\u001b[36m \u001b[39m\u001b[32mIn[2]\u001b[39m\u001b[32m, line 1\u001b[39m\n\u001b[32m----> \u001b[39m\u001b[32m1\u001b[39m handle=\u001b[43mdriver\u001b[49m.current_window_handle\n\u001b[32m      2\u001b[39m \u001b[38;5;28;01massert\u001b[39;00m \u001b[38;5;28mlen\u001b[39m(driver.window_handles)==\u001b[32m1\u001b[39m\n\u001b[32m      4\u001b[39m driver.switch_to.new_window(\u001b[33m'\u001b[39m\u001b[33mwindow\u001b[39m\u001b[33m'\u001b[39m)\n",
      "\u001b[31mNameError\u001b[39m: name 'driver' is not defined"
     ]
    }
   ],
   "source": [
    "handle=driver.current_window_handle\n",
    "assert len(driver.window_handles)==1\n",
    "\n",
    "driver.switch_to.new_window('window')\n",
    "driver.close()\n",
    "driver.switch_to.window(handle)\n"
   ]
  },
  {
   "cell_type": "markdown",
   "metadata": {},
   "source": [
    "Możliwe jest otrzymywanie i nastawianie rozmiarów i pozycji okien poprzez pola `get/set_window_size()` i `get/set_window_position()`."
   ]
  },
  {
   "cell_type": "code",
   "execution_count": null,
   "metadata": {},
   "outputs": [],
   "source": [
    "size = driver.get_window_size()\n",
    "width = size.get(\"width\")\n",
    "height = size.get(\"height\")\n",
    "\n",
    "driver.set_window_size(1360,800)\n",
    "\n",
    "position = driver.get_window_position()\n",
    "x1 = position.get('x')\n",
    "y1 = position.get('y')\n",
    "\n",
    "driver.set_window_position(0,0)\n",
    "\n",
    "driver.set_window_rect(x=0,y=0,width=800,height=600) # alternatywny sposób łączący pozycję i rozmiar"
   ]
  },
  {
   "cell_type": "markdown",
   "metadata": {},
   "source": [
    "Można również automatyzować maksymalizację, minimalizację i rozszerzenie okna na pełny ekran."
   ]
  },
  {
   "cell_type": "code",
   "execution_count": null,
   "metadata": {},
   "outputs": [],
   "source": [
    "driver.maximize_window()"
   ]
  },
  {
   "cell_type": "code",
   "execution_count": null,
   "metadata": {},
   "outputs": [],
   "source": [
    "driver.minimize_window()"
   ]
  },
  {
   "cell_type": "code",
   "execution_count": null,
   "metadata": {},
   "outputs": [],
   "source": [
    "driver.fullscreen_window()"
   ]
  },
  {
   "cell_type": "markdown",
   "metadata": {},
   "source": [
    "Selenium pozwala skonfigurować format zrzutu strony i potem odniesienie do utworzonego pliku zrzutu."
   ]
  },
  {
   "cell_type": "code",
   "execution_count": null,
   "metadata": {},
   "outputs": [],
   "source": [
    "from selenium.webdriver.common.print_page_options import PrintOptions\n",
    "\n",
    "print_options=PrintOptions()\n",
    "\n",
    "print_options.orientation=\"landscape\"\n",
    "\n",
    "print_options.page_height=28\n",
    "print_options.page_width=20\n",
    "\n",
    "print_options.margin_top = 10\n",
    "print_options.margin_bottom = 10\n",
    "print_options.margin_left = 10\n",
    "print_options.margin_right = 10\n",
    "\n",
    "print_options.background=True\n",
    "\n",
    "page=driver.print_page(print_options)\n",
    "print(page)"
   ]
  },
  {
   "cell_type": "markdown",
   "metadata": {},
   "source": [
    "Virtual Authentication"
   ]
  },
  {
   "cell_type": "markdown",
   "metadata": {},
   "source": [
    "- Wirtualne uwierzytelnianie\n",
    "    - dodanie nowego uwierzytelnienia\n",
    "    - usnięcie uwierzytelnienia\n",
    "    - tworzenie stateful/stateless poświadczenia\n",
    "    - dodanie poświadczenia\n",
    "    - otrzymanie danego poświadczenia\n",
    "    - usunięcie jednego/wszystkich poświadczeń\n",
    "    - ustawienie symulacji sukcesu/porażki przy autoryzacji\n"
   ]
  },
  {
   "cell_type": "markdown",
   "metadata": {},
   "source": [
    "## Actions API - mimika zachowania użytkownika\n",
    "Jest to niskopoziomowy interfejs, pozwalający symulować działania urządzeń wejściowych w przeglądarce.\n",
    "\n",
    "Możliwości:\n",
    "- Sterowanie zachowaniem (mysz, klawiatura, ...) i tworzenie pojedyńczych **akcji** (np. przesunięcie, wpisanie tekstu, ...).\n",
    "- Łączenie akcji w **łańcuchy** i ich wspólne wykonanie przez `.perform()`.\n",
    "\n",
    "Od Selenium 4.2 dodano wsparcie dla akcji przewijania *(wheel actions*)."
   ]
  },
  {
   "cell_type": "markdown",
   "metadata": {},
   "source": [
    "#### Klawiatura\n",
    "`key_down(key, element=None)` – symuluje wciśnięcie klawisza (np. *Keys.CONTROL*)\n",
    "\n",
    "`key_up(key, element=None)` – symuluje puszczenie klawisza\n",
    "\n",
    "`send_keys(*keys_to_send)` – wysyła określone znaki (np. tekst lub *Keys.ENTER*)"
   ]
  },
  {
   "cell_type": "code",
   "execution_count": null,
   "metadata": {},
   "outputs": [],
   "source": [
    "# otwarcie przeglądarki\n",
    "driver = webdriver.Firefox()"
   ]
  },
  {
   "cell_type": "code",
   "execution_count": null,
   "metadata": {},
   "outputs": [],
   "source": [
    "# otwarcie strony\n",
    "driver.get(\"https://www.ikea.com/pl/pl/p/havbaeck-orrsjoen-szaf-umyw-z-drzwmi-gleb-umyw-bater-bezowy-s39514065/\")"
   ]
  },
  {
   "cell_type": "code",
   "execution_count": null,
   "metadata": {},
   "outputs": [],
   "source": [
    "# import Keys\n",
    "from selenium.webdriver.common.keys import Keys"
   ]
  },
  {
   "cell_type": "markdown",
   "metadata": {},
   "source": [
    "Wpisanie znaków w pole tekstowe:"
   ]
  },
  {
   "cell_type": "code",
   "execution_count": null,
   "metadata": {},
   "outputs": [],
   "source": [
    "# pobranie elementu\n",
    "poleSzukaj = driver.find_element(By.ID, \"ikea-search-input\")\n",
    "\n",
    "# użycie send_keys() do wpisania tekstu\n",
    "poleSzukaj.send_keys(\"GLAMBERGET\")"
   ]
  },
  {
   "cell_type": "code",
   "execution_count": null,
   "metadata": {},
   "outputs": [],
   "source": [
    "# import ActionChains\n",
    "from selenium.webdriver.common.action_chains import ActionChains\n",
    "\n",
    "# użycie send_keys() z odnośnikiem do elementu\n",
    "ActionChains(driver).send_keys_to_element(poleSzukaj, \"GLAMBERGET\").perform()"
   ]
  },
  {
   "cell_type": "code",
   "execution_count": null,
   "metadata": {},
   "outputs": [],
   "source": [
    "# wysłanie BACKSPACE trzykrotnie\n",
    "poleSzukaj.send_keys(Keys.BACKSPACE * 3)"
   ]
  },
  {
   "cell_type": "markdown",
   "metadata": {},
   "source": [
    "Kombinacja wpisywania znaków *z Shift'em*:"
   ]
  },
  {
   "cell_type": "code",
   "execution_count": null,
   "metadata": {},
   "outputs": [],
   "source": [
    "# r + SHIFT + m + [SHIFT off]+ s\n",
    "ActionChains(driver).send_keys(\"r\").key_down(Keys.SHIFT).send_keys(\"m\").key_up(Keys.SHIFT).send_keys(\"s\").perform()"
   ]
  },
  {
   "cell_type": "markdown",
   "metadata": {},
   "source": [
    "Otwarcie linku w nowej karcie przy pomocy klawisza *Ctrl*:"
   ]
  },
  {
   "cell_type": "code",
   "execution_count": null,
   "metadata": {},
   "outputs": [],
   "source": [
    "# przypisanie ActionChains do zmiennej\n",
    "actions = ActionChains(driver)\n",
    "\n",
    "# pobranie elementu z linkiem\n",
    "link = driver.find_element(By.CLASS_NAME, \"hnf-header__logo\")\n",
    "\n",
    "# otwarcie linku w nowej karcie\n",
    "actions.key_down(Keys.CONTROL).click(link).key_up(Keys.CONTROL).perform()"
   ]
  },
  {
   "cell_type": "markdown",
   "metadata": {},
   "source": [
    "Kopiuj-wkej:"
   ]
  },
  {
   "cell_type": "code",
   "execution_count": null,
   "metadata": {},
   "outputs": [],
   "source": [
    "actions.click(poleSzukaj)  # żeby aktywować pole\n",
    "\n",
    "actions.key_down(Keys.CONTROL).send_keys('a').key_up(Keys.CONTROL)  # zaznacz wszystko\n",
    "actions.key_down(Keys.CONTROL).send_keys('c').key_up(Keys.CONTROL)  # kopiuj\n",
    "actions.send_keys(Keys.ARROW_RIGHT).perform() # strzałka w prawo\n",
    "actions.key_down(Keys.CONTROL).send_keys('v').key_up(Keys.CONTROL)  # wklej\n",
    "\n",
    "actions.perform()"
   ]
  },
  {
   "cell_type": "markdown",
   "metadata": {},
   "source": [
    "#### Mysz\n",
    "- `click(on_element=None)` – kliknięcie lewym przyciskiem myszy na wskazanym elemencie lub w aktualnej pozycji kursora.\n",
    "\n",
    "- `click_and_hold(on_element=None)` – naciśnięcie i przytrzymanie lewego przycisku myszy.\n",
    "\n",
    "- `context_click(on_element=None)` – kliknięcie prawym przyciskiem myszy (otwarcie menu kontekstowego).\n",
    "\n",
    "- `double_click(on_element=None)` – podwójne kliknięcie lewym przyciskiem myszy.\n",
    "\n",
    "- `move_to_element(to_element)` – przesunięcie kursora myszy nad wskazany element.\n",
    "\n",
    "- `move_by_offset(xoffset, yoffset)` – przesunięcie kursora o określony *offset* względem aktualnej pozycji.\n",
    "\n",
    "- `drag_and_drop(source, target)` – przeciągnięcie elementu źródłowego i upuszczenie go na element docelowy.\n",
    "\n",
    "- `drag_and_drop_by_offset(source, xoffset, yoffset)` – przeciągnięcie elementu o określony *offset*.\n",
    "\n",
    "- `release(on_element=None)` – zwolnienie przycisku myszy, np. po przeciąganiu."
   ]
  },
  {
   "cell_type": "code",
   "execution_count": null,
   "metadata": {},
   "outputs": [],
   "source": [
    "# start przeglądarki i inicjalizacja ActionChains\n",
    "driver = webdriver.Firefox()\n",
    "actions = webdriver.ActionChains(driver)"
   ]
  },
  {
   "cell_type": "code",
   "execution_count": null,
   "metadata": {},
   "outputs": [],
   "source": [
    "# załadowanie strony + zapisanie odnośnika elementu\n",
    "driver.get(\"https://the-internet.herokuapp.com/key_presses\")\n",
    "elem = driver.find_element(By.ID, \"target\")"
   ]
  },
  {
   "cell_type": "code",
   "execution_count": null,
   "metadata": {},
   "outputs": [],
   "source": [
    "# zwykłe kliknięcie\n",
    "actions.click(elem).perform()"
   ]
  },
  {
   "cell_type": "code",
   "execution_count": null,
   "metadata": {},
   "outputs": [],
   "source": [
    "# załadowanie strony + zapisanie odnośnika elementu\n",
    "driver.get(\"https://unixpapa.com/js/testmouse.html\")\n",
    "elem = driver.find_element(By.CLASS_NAME, \"page\")"
   ]
  },
  {
   "cell_type": "code",
   "execution_count": null,
   "metadata": {},
   "outputs": [],
   "source": [
    "# click + hold + release\n",
    "actions.click_and_hold(elem).pause(2).release().perform()"
   ]
  },
  {
   "cell_type": "code",
   "execution_count": null,
   "metadata": {},
   "outputs": [],
   "source": [
    "# załadowanie strony + zapisanie odnośnika elementu\n",
    "driver.get(\"https://the-internet.herokuapp.com/context_menu\")\n",
    "elem = driver.find_element(By.ID, \"hot-spot\")"
   ]
  },
  {
   "cell_type": "code",
   "execution_count": null,
   "metadata": {},
   "outputs": [],
   "source": [
    "# context_click (prawy przycisk myszy)\n",
    "actions.context_click(elem).perform()"
   ]
  },
  {
   "cell_type": "code",
   "execution_count": null,
   "metadata": {},
   "outputs": [],
   "source": [
    "# wszystkie kliki myszki\n",
    "from selenium.webdriver.common.actions.mouse_button import MouseButton\n",
    "from selenium.webdriver.common.action_chains import ActionBuilder\n",
    "\n",
    "action = ActionBuilder(driver)\n",
    "\n",
    "action.pointer_action.click(None, MouseButton.LEFT)\n",
    "action.pointer_action.click(None, MouseButton.MIDDLE)\n",
    "action.pointer_action.click(None, MouseButton.RIGHT)\n",
    "action.pointer_action.click(None, MouseButton.BACK)\n",
    "action.pointer_action.click(None, MouseButton.FORWARD)\n",
    "action.perform()"
   ]
  },
  {
   "cell_type": "code",
   "execution_count": null,
   "metadata": {},
   "outputs": [],
   "source": [
    "# załadowanie strony + zapisanie odnośnika elementu\n",
    "driver.get(\"https://cps-check.com/double-click-test\")\n",
    "elem = driver.find_element(By.ID, \"clicker\")"
   ]
  },
  {
   "cell_type": "code",
   "execution_count": null,
   "metadata": {},
   "outputs": [],
   "source": [
    "# double_click\n",
    "actions.double_click(elem).perform()"
   ]
  },
  {
   "cell_type": "code",
   "execution_count": null,
   "metadata": {},
   "outputs": [],
   "source": [
    "# załadowanie strony + zapisanie odnośnika do elementów\n",
    "driver.get(\"https://the-internet.herokuapp.com/hovers\")\n",
    "elem = driver.find_elements(By.CLASS_NAME, \"figure\")"
   ]
  },
  {
   "cell_type": "code",
   "execution_count": null,
   "metadata": {},
   "outputs": [],
   "source": [
    "# move_to_element\n",
    "actions.move_to_element(elem[2]).perform()"
   ]
  },
  {
   "cell_type": "code",
   "execution_count": null,
   "metadata": {},
   "outputs": [],
   "source": [
    "# załadowanie strony + zapisanie odnośnika elementu\n",
    "driver.get(\"https://openlayers.org/en/latest/examples/mouse-position.html\")\n",
    "elem = driver.find_element(By.ID, \"map\")"
   ]
  },
  {
   "cell_type": "code",
   "execution_count": null,
   "metadata": {},
   "outputs": [],
   "source": [
    "# move_to_element z offsetem\n",
    "actions.move_to_element_with_offset(elem, 10, 0).perform()"
   ]
  },
  {
   "cell_type": "code",
   "execution_count": null,
   "metadata": {},
   "outputs": [],
   "source": [
    "# użycie move_by_offset od aktualnej pozycji\n",
    "actions.move_by_offset(100, 0).perform()"
   ]
  },
  {
   "cell_type": "code",
   "execution_count": null,
   "metadata": {},
   "outputs": [],
   "source": [
    "# załadowanie strony + zapisanie odnośnika elementu\n",
    "driver.get(\"https://jqueryui.com/droppable/\")"
   ]
  },
  {
   "cell_type": "code",
   "execution_count": null,
   "metadata": {},
   "outputs": [],
   "source": [
    "# przełączenie do iframe\n",
    "iframe = driver.find_element(By.CSS_SELECTOR, \"iframe.demo-frame\")\n",
    "driver.switch_to.frame(iframe)"
   ]
  },
  {
   "cell_type": "code",
   "execution_count": null,
   "metadata": {},
   "outputs": [],
   "source": [
    "# drag_and_drop\n",
    "source = driver.find_element(By.ID, \"draggable\")\n",
    "target = driver.find_element(By.ID, \"droppable\")\n",
    "actions.drag_and_drop(source, target).perform()"
   ]
  },
  {
   "cell_type": "code",
   "execution_count": null,
   "metadata": {},
   "outputs": [],
   "source": [
    "# drag_and_drop_by_offset\n",
    "actions.click_and_hold(source).move_by_offset(133, 7).release().perform()"
   ]
  },
  {
   "cell_type": "markdown",
   "metadata": {},
   "source": [
    "#### Scroll\n",
    "\n",
    "`scroll_to_element(element)` – przewija stronę tak, aby wskazany element był widoczny.\n",
    "\n",
    "`scroll_by_amount(xoffset, yoffset)` – przewija stronę o określoną liczbę pikseli w poziomie i pionie.\n",
    "\n",
    "`scroll_from_element(element, xoffset, yoffset)` – przewija od miejsca, gdzie znajduje się dany element o wskazany *offset*.\n",
    "\n",
    "`scroll_from_element_with_offset(element, x, y, xoffset, yoffset)` – przewija z pozycji określonej przez *offset* (x, y) względem danego elementu.\n",
    "\n",
    "`scroll_from_origin(origin, xoffset, yoffset)` – przewija od wskazanego punktu (np. elementu) o zadany *offset*."
   ]
  },
  {
   "cell_type": "code",
   "execution_count": null,
   "metadata": {},
   "outputs": [],
   "source": [
    "# start przeglądarki i inicjalizacja ActionChains\n",
    "driver = webdriver.Chrome()\n",
    "actions = webdriver.ActionChains(driver)"
   ]
  },
  {
   "cell_type": "code",
   "execution_count": null,
   "metadata": {},
   "outputs": [],
   "source": [
    "# załadowanie strony\n",
    "driver.get(\"https://jqueryui.com/droppable/\")"
   ]
  },
  {
   "cell_type": "code",
   "execution_count": null,
   "metadata": {},
   "outputs": [],
   "source": [
    "# scroll do elementu\n",
    "el = driver.find_element(By.TAG_NAME, \"footer\")\n",
    "actions.scroll_to_element(el).perform()"
   ]
  },
  {
   "cell_type": "code",
   "execution_count": null,
   "metadata": {},
   "outputs": [],
   "source": [
    "# scroll by amount (z aktualnej pozycji kursora / widoku) (ujemna wartość - w górę)\n",
    "actions.scroll_by_amount(0, -900).perform()"
   ]
  },
  {
   "cell_type": "code",
   "execution_count": null,
   "metadata": {},
   "outputs": [],
   "source": [
    "# import\n",
    "from selenium.webdriver.common.actions.wheel_input import ScrollOrigin"
   ]
  },
  {
   "cell_type": "code",
   "execution_count": null,
   "metadata": {},
   "outputs": [],
   "source": [
    "# scroll to element by amount (element + offset)\n",
    "scroll_origin = ScrollOrigin.from_element(el)\n",
    "actions.scroll_from_origin(scroll_origin, 0, -450).perform()"
   ]
  },
  {
   "cell_type": "code",
   "execution_count": null,
   "metadata": {},
   "outputs": [],
   "source": [
    "# załadowanie strony\n",
    "driver.get(\"https://en.wikipedia.org/wiki/Lorem_ipsum\")"
   ]
  },
  {
   "cell_type": "code",
   "execution_count": null,
   "metadata": {},
   "outputs": [
    {
     "name": "stdout",
     "output_type": "stream",
     "text": [
      "4015\n"
     ]
    }
   ],
   "source": [
    "# sprawdzenie wysokości strony (scroll'a)\n",
    "height = driver.execute_script(\"return document.body.scrollHeight\")\n",
    "print(height)"
   ]
  },
  {
   "cell_type": "code",
   "execution_count": null,
   "metadata": {},
   "outputs": [],
   "source": [
    "# od \"Viewport\" \n",
    "scroll_origin = ScrollOrigin.from_viewport(0, 300)\n",
    "actions.scroll_from_origin(scroll_origin, 0, 2000).perform()"
   ]
  },
  {
   "cell_type": "code",
   "execution_count": null,
   "metadata": {},
   "outputs": [],
   "source": [
    "# wybór elementu \n",
    "el = driver.find_element(By.ID, \"Source_text\")"
   ]
  },
  {
   "cell_type": "code",
   "execution_count": null,
   "metadata": {},
   "outputs": [],
   "source": [
    "# od elementu (+ offset)\n",
    "scroll_origin = ScrollOrigin.from_element(el, x_offset=0, y_offset=-100)\n",
    "actions.scroll_from_origin(scroll_origin, 0, 300).perform()"
   ]
  },
  {
   "cell_type": "markdown",
   "metadata": {},
   "source": [
    "Po co?\n",
    "\n",
    "- Umożliwia interakcje z elementami poza widocznym obszarem strony – np. przycisk „Dalej”, który trzeba przewinąć, aby kliknąć.\n",
    "\n",
    "- Testowanie dynamicznych interfejsów – gdzie nowe treści ładują się po przewinięciu (np. infinite scroll).\n",
    "\n",
    "- Symulowanie realistycznych zachowań użytkownika – np. scrollowanie do sekcji strony, zanim nastąpi akcja.\n",
    "\n",
    "- Precyzyjne kontrolowanie pozycji strony lub elementu – np. sprawdzania widoczności banerów, sticky-headerów czy animacji."
   ]
  },
  {
   "cell_type": "markdown",
   "metadata": {},
   "source": [
    "## Praktyki dobrego testowania"
   ]
  },
  {
   "cell_type": "markdown",
   "metadata": {},
   "source": [
    "### 1. Strategie\n",
    "\n",
    "- **LoadableComponent**  \n",
    "Wzorzec, w którym każda strona reprezentowana jest jako klasa z metodą sprawdzającą, czy strona została poprawnie załadowana (`is_loaded()`). Umożliwia to wykonywanie testów dopiero wtedy, gdy strona jest gotowa, co zwiększa stabilność testów."
   ]
  },
  {
   "cell_type": "code",
   "execution_count": null,
   "metadata": {},
   "outputs": [],
   "source": [
    "class ProductPage:\n",
    "    def __init__(self, driver):\n",
    "        self.driver = driver\n",
    "        self.url = \"adres strony\"\n",
    "\n",
    "    def load(self):\n",
    "        self.driver.get(self.url)\n",
    "\n",
    "    def is_loaded(self):\n",
    "        return self.driver.find_element(By.ID, \"article\").is_displayed()"
   ]
  },
  {
   "cell_type": "markdown",
   "metadata": {},
   "source": [
    "- **Bot Pattern**  \n",
    "Podejście polegające na tworzeniu klas (botów), które grupują typowe akcje użytkownika, takie jak logowanie, rejestracja czy zakupy. Dzięki temu testy są czytelniejsze, krótsze i łatwiejsze w utrzymaniu. Zamiast bezpośrednio używać Selenium, wywołuje się metody wysokiego poziomu (np. `bot.login()`)."
   ]
  },
  {
   "cell_type": "code",
   "execution_count": null,
   "metadata": {},
   "outputs": [],
   "source": [
    "class LoginBot:\n",
    "    def __init__(self, driver):\n",
    "        self.driver = driver\n",
    "\n",
    "    def login(self, username, password):\n",
    "        self.driver.get(\"adres strony logowania\")\n",
    "        self.driver.find_element(By.ID, \"username\").send_keys(username)\n",
    "        self.driver.find_element(By.ID, \"password\").send_keys(password)\n",
    "        self.driver.find_element(By.ID, \"submit\").click()"
   ]
  },
  {
   "cell_type": "markdown",
   "metadata": {},
   "source": [
    "### 2. Typy testów\n",
    "\n",
    "- **Testy funkcjonalne**  \n",
    "  Testy te sprawdzają, czy konkretne funkcje aplikacji działają zgodnie z oczekiwaniami użytkownika. Celem jest upewnienie się, że poszczególne elementy systemu (np. formularze, przyciski) działają poprawnie w kontekście użycia.  \n",
    "  **Przykład**: Testowanie procesu dodawania produktu do koszyka w sklepie internetowym.\n",
    "\n",
    "- **Testy akceptacyjne**  \n",
    "  Weryfikują, czy aplikacja spełnia wymagania klienta lub użytkownika końcowego. Często są to testy na poziomie biznesowym, gdzie sprawdza się, czy aplikacja działa zgodnie z oczekiwaniami zdefiniowanymi w specyfikacji.  \n",
    "  **Przykład**: Testowanie pełnego procesu zakupowego w sklepie internetowym, od dodania produktu do koszyka, przez dane adresowe, aż po płatność.\n",
    "\n",
    "- **Testy integracyjne**  \n",
    "  Testują, jak różne komponenty systemu współdziałają ze sobą. Celem jest sprawdzenie, czy np. frontend poprawnie komunikuje się z backendem lub API. Testy te pomagają wykryć problemy na poziomie integracji systemu.  \n",
    "  **Przykład**: Testowanie integracji między frontendem sklepu internetowego a systemem płatności, sprawdzając, czy poprawnie przechodzi się przez proces płatności.\n",
    "\n",
    "- **Testy systemowe**  \n",
    "  Sprawdzają cały system w warunkach zbliżonych do rzeczywistego środowiska produkcyjnego. Testują działanie aplikacji jako całości, w tym współpracę różnych modułów, baz danych, interfejsów itp.  \n",
    "  **Przykład**: Testowanie pełnego procesu zamówienia, w tym zarówno frontend, jak i backend, aż po zapisywanie danych w bazie.\n",
    "\n",
    "- **Testy wydajnościowe**:\n",
    "  - *Testy obciążeniowe* – badają, jak system zachowuje się przy normalnym, przewidywanym obciążeniu, np. przy określonej liczbie użytkowników jednocześnie korzystających z aplikacji.  \n",
    "    **Przykład**: Testowanie wydajności systemu sklepu internetowego, gdy wielu użytkowników dokonuje zakupu jednocześnie.\n",
    "    \n",
    "  - *Stress testy* – mają na celu sprawdzenie, jak system reaguje na ekstremalne warunki, takie jak nadmierne obciążenie lub brak zasobów. Testy te pomagają znaleźć limity wydajnościowe systemu.  \n",
    "    **Przykład**: Testowanie systemu pod dużym obciążeniem, gdzie kilkuset użytkowników próbuje dokonać zakupu jednocześnie.\n",
    "\n",
    "- **Testy regresyjne**  \n",
    "  Mają na celu wykrycie błędów w istniejącej funkcjonalności aplikacji po wprowadzeniu zmian w kodzie. Testy te pomagają upewnić się, że nowe funkcje lub poprawki nie wprowadziły nowych problemów w już działających częściach systemu.  \n",
    "  **Przykład**: Sprawdzanie, czy zmiany w procesie płatności nie spowodowały problemów w innych częściach procesu zakupu.\n"
   ]
  },
  {
   "cell_type": "markdown",
   "metadata": {},
   "source": [
    "### 3. Wspierane praktyki\n",
    "\n",
    "- **Page Object Model** – rozdzielenie logiki testów od reprezentacji elementów UI. Dzięki temu, zmiany w interfejsie użytkownika nie wpływają bezpośrednio na testy, a testy stają się łatwiejsze do utrzymania.\n",
    "  \n",
    "- **DSL (Domain-Specific Language)** – stosowanie własnych metod (np. `user_logs_in()`) zamiast bezpośrednich komend Selenium. Użycie własnych, dobrze nazwanych metod pozwala na lepszą czytelność i ponowne użycie kodu w testach.\n",
    "\n",
    "- **Przygotowanie stanu aplikacji bez Selenium** – np. przez REST API lub manipulację bazą danych. Pozwala to na szybkie przygotowanie aplikacji do testów bez potrzeby korzystania z interfejsu użytkownika.\n",
    "\n",
    "- **Mockowanie zewnętrznych zależności** – odseparowanie testowanej aplikacji od np. usług zewnętrznych. Pozwala na kontrolowanie środowiska testowego i symulowanie różnych scenariuszy bez potrzeby interakcji z rzeczywistymi zewnętrznymi systemami.\n",
    "\n",
    "- **Rozszerzanie raportów** – wykorzystanie narzędzi jak Allure, Pytest HTML czy TestNG. Dobre raportowanie ułatwia analizowanie wyników testów i daje lepszy wgląd w jakość aplikacji.\n",
    "\n",
    "- **Izolacja testów** – każdy test powinien działać niezależnie od innych. Testy nie mogą na siebie wzajemnie wpływać, aby zmiana w jednym teście nie powodowała błędów w innych.\n",
    "\n",
    "- **Dobre selektory** – stabilne, odporne na zmiany (np. `data-testid`, `aria-label`). Użycie odpornych na zmiany selektorów poprawia stabilność testów, ponieważ nie są one zależne od drobnych zmian w wyglądzie aplikacji.\n",
    "\n",
    "- **Niezależność testów** – test nie może bazować na stanie poprzednich testów. Każdy test powinien być autonomiczny, aby wyniki testów były wiarygodne, niezależnie od kolejności ich uruchamiania.\n",
    "\n",
    "- **Fluent API** – testy jako łańcuchy metod (np. `login().navigate().verify()`). Takie podejście poprawia czytelność testów i sprawia, że są one bardziej intuicyjne, łatwiejsze do napisania i utrzymania.\n",
    "\n",
    "- **Czysty stan początkowy** – każdy test powinien zaczynać od tej samej konfiguracji środowiska. Dzięki temu wyniki testów będą zawsze porównywalne, a błędy łatwiejsze do wykrycia, ponieważ nie będą wynikały z różnic w środowisku.\n"
   ]
  },
  {
   "cell_type": "markdown",
   "metadata": {},
   "source": [
    "### 4. Odradzane praktyki\n",
    "\n",
    "- **Testowanie CAPTCHA** – CAPTCHA są zaprojektowane, by uniemożliwić automatyzację procesów. Ponieważ wymaga ona interakcji użytkownika, automatyczne testowanie takich mechanizmów za pomocą Selenium jest trudne lub niemożliwe, co czyni te testy nieefektywnymi i problematycznymi w automatyzacji.\n",
    "\n",
    "- **Pobieranie plików** – Selenium nie jest w stanie monitorować postępu pobierania plików. Działa na poziomie interfejsu użytkownika, a nie systemu operacyjnego, co uniemożliwia precyzyjne śledzenie procesu pobierania. Testowanie postępu pobierania plików należy przeprowadzać przy użyciu innych narzędzi.\n",
    "\n",
    "- **Testowanie kodów HTTP** – Selenium jest narzędziem do testowania interfejsu użytkownika, a nie komunikacji sieciowej. Testy kodów HTTP, jak np. statusy odpowiedzi 200 czy 404, należy przeprowadzać na poziomie backendu, używając odpowiednich narzędzi do testowania API, takich jak Postman czy JMeter.\n",
    "\n",
    "- **Logowanie przez zewnętrzne systemy (FB, Google)** – Proces logowania za pomocą zewnętrznych systemów, takich jak Facebook czy Google, jest trudny do automatyzacji i może stać się niestabilny. Takie logowanie jest podatne na zmiany w API tych zewnętrznych systemów, co może prowadzić do problemów z utrzymaniem testów.\n",
    "\n",
    "- **Testy wydajnościowe** – Selenium nie jest narzędziem do testowania wydajnościowego, ponieważ działa na poziomie UI. Do testów obciążeniowych lepiej użyć dedykowanych narzędzi, takich jak JMeter czy Locust, które są zoptymalizowane do symulacji dużego obciążenia systemu.\n",
    "\n",
    "- **Link spidering** – \"Link spidering\", czyli automatyczne przechodzenie przez wszystkie linki na stronie, jest zbyt czasochłonne i nieoptymalne w Selenium. Dla takich zadań lepiej sprawdzą się narzędzia typu Scrapy, które zostały zaprojektowane do szybkiego przeszukiwania i indeksowania stron internetowych.\n",
    "\n",
    "- **2FA (uwierzytelnianie dwuskładnikowe)** – Automatyzacja procesów z dwuskładnikowym uwierzytelnianiem (2FA) jest trudna i może wymagać wyłączenia tego mechanizmu lub jego mockowania w środowisku testowym. Ponieważ 2FA wymaga interakcji z użytkownikiem (np. wprowadzenie kodu z SMS), automatyzacja jest niewygodna i podatna na błędy.\n"
   ]
  }
 ],
 "metadata": {
  "kernelspec": {
   "display_name": ".venv",
   "language": "python",
   "name": "python3"
  },
  "language_info": {
   "codemirror_mode": {
    "name": "ipython",
    "version": 3
   },
   "file_extension": ".py",
   "mimetype": "text/x-python",
   "name": "python",
   "nbconvert_exporter": "python",
   "pygments_lexer": "ipython3",
   "version": "3.12.3"
  }
 },
 "nbformat": 4,
 "nbformat_minor": 2
}
