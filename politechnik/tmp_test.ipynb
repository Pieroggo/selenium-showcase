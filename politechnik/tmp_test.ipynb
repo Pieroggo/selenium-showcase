{
 "cells": [
  {
   "cell_type": "code",
   "execution_count": 8,
   "id": "c2e3fc0f",
   "metadata": {},
   "outputs": [],
   "source": [
    "from selenium import webdriver\n",
    "from selenium.webdriver.common.keys import Keys\n",
    "from selenium.webdriver.common.by import By\n",
    "from selenium.webdriver.support.ui import WebDriverWait\n",
    "from selenium.webdriver.support import expected_conditions as EC\n",
    "\n",
    "import matplotlib.pyplot as plt\n",
    "import pandas as pd\n",
    "import time\n",
    "import re"
   ]
  },
  {
   "cell_type": "code",
   "execution_count": 9,
   "id": "1ec510f6",
   "metadata": {},
   "outputs": [],
   "source": [
    "driver = webdriver.Firefox()"
   ]
  },
  {
   "cell_type": "code",
   "execution_count": 10,
   "id": "7ad85300",
   "metadata": {},
   "outputs": [],
   "source": [
    "# driver.get(\"https://ms.polsl.pl/pracownik.php?kod=kemp\")\n",
    "driver.get(\"https://ms.polsl.pl/pracownik.php?kod=gach\")\n",
    "lastName = \"Gacki\"\n",
    "# driver.get(\"https://ms.polsl.pl/pracownik.php?kod=kapc\")\n",
    "# lastName = \"Kapczyński\""
   ]
  },
  {
   "cell_type": "code",
   "execution_count": null,
   "id": "063d4106",
   "metadata": {},
   "outputs": [
    {
     "name": "stdout",
     "output_type": "stream",
     "text": [
      "publicationsData \n",
      "Artykuły:\n",
      "1. H. Gacki, J. Adamczewski Attempt of application of pattern recognition methods in a diagnostic experiment Diagnostics Machinery Operating, scientific journal, vol. 1, no. 97 (1994), 161-172.\n",
      "2. H. Gacki, A. Lasota A nonlinear version of the Kantorovich-Rubinstein maximum principle Nonlinear Analysis: Theory and Methods, Applications, vol. 52, no. 1, (2003), 117–125, doi: 10.1016/S0362-546X(02)00099-8\n",
      "3. H. Gacki, A. Lasota, J. Myjak Upper estimate of concentration and thin dimension of measure Bull. Pol. Ac. Math., vol. 57, no.2 (2009), 149–161.\n",
      "4. H. Gacki, A. Kulawik Robust estimation and its application to a classification problem Mathematica Applicanda, vol. 47, no. 2 (2019), 81–94.\n",
      "5. H. Gacki, A. Kulawik The Huber Functions and Their Application to a Classification Problem Mathematica Applicanda, vol. 48, no. 2 (2020), 99-114, doi: 10.14708/ma.v48i1.7045\n",
      "6 Brodnicka R. and Gacki H. Applications of the Kantorovich-Rubinstein Maximum Principle in the Theory of Boltzmann Equations Semigroups of Operators – Theory and Applications (SOTA 2018) eds. Banasiak et al., Springer Proceedings in Mathematics & Statistics, vol. 325., Springer, Cham, 2020, pp. 183-204,\n",
      "7. H. Gacki, Ł. Stettner Stability of measure solutions to a generalized Boltzmann equation with collisions of a random number of particles Communications in Mathematical Sciences, vol. 20, no. 3 (2022), 877-896, doi: 10.4310/CMS.2022.v20.n3.a11.\n",
      "Monografie:\n",
      "1. H. Gacki, K. Baron Andrzej Lasota – Doctor honoris causa Uniwersitatis Silesiensis, The Publishing House of the University of Silesia Publishing House of the University of Silesia (Prace Naukowe Uniwersytetu Śląskiego w Katowicach)University of Silesia Press, Katowice, 2001,ISBN 83-226-1117-X\n",
      "2. H. Gacki, Applications of the Kantorovich-Rubinstein maximum principle in the theory of Markov semigroups Dissertationes Mathematicae, vol. 448 (2007), 1-59, doi: 10.4064/dm448-0-1\n",
      "3. H. Gacki, Andrzej Lasota 1932-2006 – a book prepared for the Session in Commemoration of Professor Andrzej Lasota at the 36th Polish National Scientific and Training Conference on Mathematical Applications, Zakopane – Koscielisko, 11 – 18 September 2007.\n",
      "4. H. Gacki : A. Lasota Układy dynamiczne na miarach wyd. Uniwersytetu Śląskiego w Katowicach, Katowice, 2008, ISBN 978-83-226-1770-0\n",
      "5. H. Gacki, 80th birth anniversary of Andrzej Lasota – a commemorative book prepared for the Scientific Session on Commemoration of the 80th birth anniversary of the Professor Mathematical Institute of the Polish Academy of Sciences, Warsaw 13 January 2012.\n",
      "6. H. Gacki and J. Zwierzyńska, Mathematics like poetry. Andrzej Lasota 1932—2006, pages 1—261, Copyright by Wydawnictwa Uniwersytetu Śląskiego, Katowice 2016\n",
      "\n",
      "Opis:\n",
      "Distinctions and awards\n",
      "1979: Award of the Polish Minister of Science, Higher Education and Technology for supervisors of best self-governments of students’ houses.\n",
      "2009: Rector of the University of Silesia Individual Award level 2 for scientific and research activity.\n",
      "2015: Rector of the University of Silesia Individual Award level 2 for organizational activity for the Faculty of Mathematics, Physics and Chemistry.\n",
      "2015: The third place in the competition „Leader of internationalization of the University of Silesia” in the category of independent researchers Patronage: the Rector of the University of Silesia.\n",
      "2016: Golden Badge of Merit for the University of Silesia.\n",
      "2018: Golden Honorary Badge for Merits for the Silesian Voivodship.\n",
      "2018: Selected Athlete of the 50th anniversary of AZS University of Silesia.\n",
      "2019: Rector of the University of Silesia Individual Award level 2 for organizational activity for the Faculty of Mathematics, Physics and Chemistry.\n",
      "publications:  ['Artykuły:', '1. H. Gacki, J. Adamczewski Attempt of application of pattern recognition methods in a diagnostic experiment Diagnostics Machinery Operating, scientific journal, vol. 1, no. 97 (1994), 161-172.', '2. H. Gacki, A. Lasota A nonlinear version of the Kantorovich-Rubinstein maximum principle Nonlinear Analysis: Theory and Methods, Applications, vol. 52, no. 1, (2003), 117–125, doi: 10.1016/S0362-546X(02)00099-8', '3. H. Gacki, A. Lasota, J. Myjak Upper estimate of concentration and thin dimension of measure Bull. Pol. Ac. Math., vol. 57, no.2 (2009), 149–161.', '4. H. Gacki, A. Kulawik Robust estimation and its application to a classification problem Mathematica Applicanda, vol. 47, no. 2 (2019), 81–94.', '5. H. Gacki, A. Kulawik The Huber Functions and Their Application to a Classification Problem Mathematica Applicanda, vol. 48, no. 2 (2020), 99-114, doi: 10.14708/ma.v48i1.7045', '6 Brodnicka R. and Gacki H. Applications of the Kantorovich-Rubinstein Maximum Principle in the Theory of Boltzmann Equations Semigroups of Operators – Theory and Applications (SOTA 2018) eds. Banasiak et al., Springer Proceedings in Mathematics & Statistics, vol. 325., Springer, Cham, 2020, pp. 183-204,', '7. H. Gacki, Ł. Stettner Stability of measure solutions to a generalized Boltzmann equation with collisions of a random number of particles Communications in Mathematical Sciences, vol. 20, no. 3 (2022), 877-896, doi: 10.4310/CMS.2022.v20.n3.a11.', 'Monografie:', '1. H. Gacki, K. Baron Andrzej Lasota – Doctor honoris causa Uniwersitatis Silesiensis, The Publishing House of the University of Silesia Publishing House of the University of Silesia (Prace Naukowe Uniwersytetu Śląskiego w Katowicach)University of Silesia Press, Katowice, 2001,ISBN 83-226-1117-X', '2. H. Gacki, Applications of the Kantorovich-Rubinstein maximum principle in the theory of Markov semigroups Dissertationes Mathematicae, vol. 448 (2007), 1-59, doi: 10.4064/dm448-0-1', '3. H. Gacki, Andrzej Lasota 1932-2006 – a book prepared for the Session in Commemoration of Professor Andrzej Lasota at the 36th Polish National Scientific and Training Conference on Mathematical Applications, Zakopane – Koscielisko, 11 – 18 September 2007.', '4. H. Gacki : A. Lasota Układy dynamiczne na miarach wyd. Uniwersytetu Śląskiego w Katowicach, Katowice, 2008, ISBN 978-83-226-1770-0', '5. H. Gacki, 80th birth anniversary of Andrzej Lasota – a commemorative book prepared for the Scientific Session on Commemoration of the 80th birth anniversary of the Professor Mathematical Institute of the Polish Academy of Sciences, Warsaw 13 January 2012.', '6. H. Gacki and J. Zwierzyńska, Mathematics like poetry. Andrzej Lasota 1932—2006, pages 1—261, Copyright by Wydawnictwa Uniwersytetu Śląskiego, Katowice 2016', 'Opis:', 'Distinctions and awards', '1979: Award of the Polish Minister of Science, Higher Education and Technology for supervisors of best self-governments of students’ houses.', '2009: Rector of the University of Silesia Individual Award level 2 for scientific and research activity.', '2015: Rector of the University of Silesia Individual Award level 2 for organizational activity for the Faculty of Mathematics, Physics and Chemistry.', '2015: The third place in the competition „Leader of internationalization of the University of Silesia” in the category of independent researchers Patronage: the Rector of the University of Silesia.', '2016: Golden Badge of Merit for the University of Silesia.', '2018: Golden Honorary Badge for Merits for the Silesian Voivodship.', '2018: Selected Athlete of the 50th anniversary of AZS University of Silesia.', '2019: Rector of the University of Silesia Individual Award level 2 for organizational activity for the Faculty of Mathematics, Physics and Chemistry.']\n",
      "13\n",
      "ilość prac:  13\n"
     ]
    }
   ],
   "source": [
    "# proces wyciągnięcia prac naukowych\n",
    "allData = driver.find_element(By.ID, \"content\")\n",
    "ilosc = 0\n",
    "\n",
    "# obcięcie od \"Najważniejsze prace naukowe:\" do końca\n",
    "publicationsData = allData.text.split(\"Najważniejsze prace naukowe:\")[-1] \n",
    "print(\"publicationsData\", publicationsData)\n",
    "\n",
    "# stworzenie listy\n",
    "publications = [x.strip() for x in publicationsData.split(\"\\n\") if x.strip()]\n",
    "print(\"publications: \", publications)\n",
    "\n",
    "# zliczanie ilości prac po wystąpieniu nazwiska\n",
    "# ilosc = sum(lastName in s for s in publications)\n",
    "\n",
    "# zliczenie po \n",
    "# if ilosc == 0:\n",
    "wzorzecPodpunktow = re.compile(r\"^.?(\\d{1,2})\\D.*\")\n",
    "ilosc = sum(bool(wzorzecPodpunktow.match(element)) for element in publications)\n",
    "\n",
    "print(ilosc)\n",
    "\n",
    "print(\"ilość prac: \", ilosc)\n"
   ]
  },
  {
   "cell_type": "code",
   "execution_count": null,
   "id": "d8184f31",
   "metadata": {},
   "outputs": [],
   "source": []
  }
 ],
 "metadata": {
  "kernelspec": {
   "display_name": ".venv",
   "language": "python",
   "name": "python3"
  },
  "language_info": {
   "codemirror_mode": {
    "name": "ipython",
    "version": 3
   },
   "file_extension": ".py",
   "mimetype": "text/x-python",
   "name": "python",
   "nbconvert_exporter": "python",
   "pygments_lexer": "ipython3",
   "version": "3.12.1"
  }
 },
 "nbformat": 4,
 "nbformat_minor": 5
}
