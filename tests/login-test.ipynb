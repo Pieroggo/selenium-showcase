{
 "cells": [
  {
   "cell_type": "markdown",
   "metadata": {},
   "source": [
    "Skrypt służy do sprawdzania logowania się użytkownika."
   ]
  },
  {
   "cell_type": "code",
   "execution_count": 29,
   "metadata": {},
   "outputs": [],
   "source": [
    "from selenium import webdriver\n",
    "from selenium.webdriver.common.by import By\n",
    "import time"
   ]
  },
  {
   "cell_type": "code",
   "execution_count": 30,
   "metadata": {},
   "outputs": [],
   "source": [
    "driver = webdriver.Firefox()\n",
    "driver.get(\"https://the-internet.herokuapp.com/login\")"
   ]
  },
  {
   "cell_type": "code",
   "execution_count": 31,
   "metadata": {},
   "outputs": [],
   "source": [
    "time.sleep(2)"
   ]
  },
  {
   "cell_type": "markdown",
   "metadata": {},
   "source": [
    "Próba zalogowania się:"
   ]
  },
  {
   "cell_type": "code",
   "execution_count": 32,
   "metadata": {},
   "outputs": [
    {
     "name": "stdout",
     "output_type": "stream",
     "text": [
      "Logging in as tomsmith with password SuperSecretPassword!\n"
     ]
    }
   ],
   "source": [
    "user = \"tomsmith\"\n",
    "password = \"SuperSecretPassword!\"\n",
    "\n",
    "driver.find_element(By.ID, \"username\").send_keys(user)\n",
    "driver.find_element(By.ID, \"password\").send_keys(password)\n",
    "driver.find_element(By.CSS_SELECTOR, \"button\").click()\n",
    "\n",
    "print(\"Logging in as\", user, \"with password\", password)"
   ]
  },
  {
   "cell_type": "code",
   "execution_count": 33,
   "metadata": {},
   "outputs": [],
   "source": [
    "time.sleep(2)"
   ]
  },
  {
   "cell_type": "markdown",
   "metadata": {},
   "source": [
    "Sprawdzenie czy jest się zalogowanym:"
   ]
  },
  {
   "cell_type": "code",
   "execution_count": 34,
   "metadata": {},
   "outputs": [
    {
     "name": "stdout",
     "output_type": "stream",
     "text": [
      "Logged successfully\n"
     ]
    }
   ],
   "source": [
    "text = driver.find_element(By.CSS_SELECTOR, \"h2\").text\n",
    "\n",
    "assert text == \"Secure Area\", \"Not logged in!\"\n",
    "\n",
    "print(\"Logged successfully\")"
   ]
  },
  {
   "cell_type": "code",
   "execution_count": 35,
   "metadata": {},
   "outputs": [],
   "source": [
    "time.sleep(2)"
   ]
  },
  {
   "cell_type": "markdown",
   "metadata": {},
   "source": [
    "Próba wylogowania:"
   ]
  },
  {
   "cell_type": "code",
   "execution_count": 36,
   "metadata": {},
   "outputs": [
    {
     "name": "stdout",
     "output_type": "stream",
     "text": [
      "Successful logout\n"
     ]
    }
   ],
   "source": [
    "try:\n",
    "    logoutButton = driver.find_element(By.CSS_SELECTOR, \".button\")\n",
    "\n",
    "    assert \"logout\" in logoutButton.get_attribute(\"href\"), \"Logout button not found\"\n",
    "\n",
    "    logoutButton.click()\n",
    "\n",
    "    print(\"Successful logout\")\n",
    "\n",
    "except:\n",
    "    \n",
    "    print(\"Logout button not found\")"
   ]
  }
 ],
 "metadata": {
  "kernelspec": {
   "display_name": ".venv",
   "language": "python",
   "name": "python3"
  },
  "language_info": {
   "codemirror_mode": {
    "name": "ipython",
    "version": 3
   },
   "file_extension": ".py",
   "mimetype": "text/x-python",
   "name": "python",
   "nbconvert_exporter": "python",
   "pygments_lexer": "ipython3",
   "version": "3.12.1"
  }
 },
 "nbformat": 4,
 "nbformat_minor": 2
}
