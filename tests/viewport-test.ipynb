{
 "cells": [
  {
   "cell_type": "code",
   "execution_count": 2,
   "metadata": {},
   "outputs": [],
   "source": [
    "from selenium import webdriver\n",
    "import time"
   ]
  },
  {
   "cell_type": "markdown",
   "metadata": {},
   "source": [
    "zmiana rozmiaru okna:"
   ]
  },
  {
   "cell_type": "code",
   "execution_count": 3,
   "metadata": {},
   "outputs": [],
   "source": [
    "# viewports sizes\n",
    "viewports = [(414, 896), (412, 883), (810, 1080), (1080, 810), (1024, 768), (1280, 800), (1440, 900), (1920, 1080)]\n",
    "driver = webdriver.Firefox()\n",
    "driver.get(\"https://mapownik-testbase.web.app\")\n",
    "driver.set_window_position(0, 0)\n",
    "try: \n",
    "    for w,h in viewports:\n",
    "        driver.set_window_size(w, h)\n",
    "        time.sleep(2)\n",
    "finally:\n",
    "    driver.minimize_window()\n",
    "    time.sleep(2)\n",
    "    driver.maximize_window()\n",
    "    time.sleep(2)\n",
    "    driver.quit()"
   ]
  }
 ],
 "metadata": {
  "kernelspec": {
   "display_name": ".venv",
   "language": "python",
   "name": "python3"
  },
  "language_info": {
   "codemirror_mode": {
    "name": "ipython",
    "version": 3
   },
   "file_extension": ".py",
   "mimetype": "text/x-python",
   "name": "python",
   "nbconvert_exporter": "python",
   "pygments_lexer": "ipython3",
   "version": "3.12.0"
  }
 },
 "nbformat": 4,
 "nbformat_minor": 2
}
