{
 "cells": [
  {
   "cell_type": "markdown",
   "metadata": {},
   "source": [
    "Skrypt służy do sprawdzania, jak strona reaguje na zmieniające się rozmiary ekranu – testujemy jej responsywność."
   ]
  },
  {
   "cell_type": "code",
   "execution_count": 3,
   "metadata": {},
   "outputs": [],
   "source": [
    "from selenium import webdriver\n",
    "import time"
   ]
  },
  {
   "cell_type": "markdown",
   "metadata": {},
   "source": [
    "Zmiana rozmiaru okna:"
   ]
  },
  {
   "cell_type": "code",
   "execution_count": null,
   "metadata": {},
   "outputs": [],
   "source": [
    "# rozmiary okienek\n",
    "viewports = [(414, 896), (412, 883), (810, 1080), (1080, 810), (1024, 768), (1280, 800), (1440, 900), (1920, 1080)]\n",
    "\n",
    "driver = webdriver.Firefox()\n",
    "driver.get(\"https://en.wikipedia.org/wiki/Lorem_ipsum\")\n",
    "driver.set_window_position(0, 0)\n",
    "\n",
    "try: \n",
    "\n",
    "    for w,h in viewports:\n",
    "\n",
    "        driver.set_window_size(w, h)\n",
    "        time.sleep(2)\n",
    "\n",
    "finally:\n",
    "\n",
    "    driver.minimize_window()\n",
    "    time.sleep(2)\n",
    "\n",
    "    driver.maximize_window()\n",
    "    time.sleep(2)\n",
    "    \n",
    "    driver.quit()"
   ]
  },
  {
   "cell_type": "markdown",
   "metadata": {},
   "source": [
    "Otwieramy stronę https://en.wikipedia.org/wiki/Lorem_ipsum w przeglądarce i testujemy jej wygląd w różnych rozmiarach okna, symulując urządzenia o różnych rozdzielczościach. Dla każdego zdefiniowanego rozmiaru (viewports) ustawiamy okno przeglądarki do odpowiednich wymiarów i czekamy 2 sekundy. Po przejściu przez wszystkie rozmiary, minimalizujemy okno, później maksymalizujemy, a następnie zamykamy przeglądarkę. "
   ]
  }
 ],
 "metadata": {
  "kernelspec": {
   "display_name": ".venv",
   "language": "python",
   "name": "python3"
  },
  "language_info": {
   "codemirror_mode": {
    "name": "ipython",
    "version": 3
   },
   "file_extension": ".py",
   "mimetype": "text/x-python",
   "name": "python",
   "nbconvert_exporter": "python",
   "pygments_lexer": "ipython3",
   "version": "3.12.1"
  }
 },
 "nbformat": 4,
 "nbformat_minor": 2
}
